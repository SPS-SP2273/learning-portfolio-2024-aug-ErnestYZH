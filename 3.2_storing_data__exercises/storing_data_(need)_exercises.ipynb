{
 "cells": [
  {
   "attachments": {},
   "cell_type": "markdown",
   "id": "123456",
   "metadata": {},
   "source": [
    "<div style=\"text-align:left;font-size:2em\"><span style=\"font-weight:bolder;font-size:1.25em\">SP2273 | Learning Portfolio</span><br><br><span style=\"font-weight:bold;color:darkred\">Storing Data (Need) Exercises</span></div>"
   ]
  },
  {
   "cell_type": "markdown",
   "id": "e9080af5-1532-4810-85ef-21f816480e59",
   "metadata": {},
   "source": [
    "**Exercise 1 (Total recall?)**"
   ]
  },
  {
   "cell_type": "markdown",
   "id": "ce6395fe-8922-4639-b536-2554705a8505",
   "metadata": {},
   "source": [
    "1. Two similarities between lists and arrays\n",
    "   - Lists and Arrays are both methods of storing data\n",
    "   - Lists and Arrays both start counting their elements at 0 (where using the index 0 will return the first term)"
   ]
  },
  {
   "cell_type": "markdown",
   "id": "8475de3b-5bb2-4370-9417-52ee6bb74d94",
   "metadata": {},
   "source": [
    "2. Two differences between lists and arrays\n",
    "   - Arrays can only contain a single type of data (floats, strings, etc) while lists can contain multiple different types of data\n",
    "   - When performing operations, the operations are applied to each element in an array, while the operations are applied to a list as a whole"
   ]
  },
  {
   "cell_type": "markdown",
   "id": "308bf306-77d2-4643-872e-3837c9a9c72a",
   "metadata": {},
   "source": [
    "3. What is a dictionary?\n",
    "   - A dictionary is a method of storing data that matches a key to an associated value"
   ]
  },
  {
   "cell_type": "markdown",
   "id": "b8deed60-b1fb-4d0a-806c-a7e9d18b11f3",
   "metadata": {},
   "source": [
    "**Exercise 2 (Indexing)**"
   ]
  },
  {
   "cell_type": "code",
   "execution_count": 7,
   "id": "abbd3e67-4889-46ae-be26-b20377be3c04",
   "metadata": {},
   "outputs": [
    {
     "name": "stdout",
     "output_type": "stream",
     "text": [
      "a1\n",
      "c3\n",
      "e5\n",
      "g7\n",
      "i9\n"
     ]
    }
   ],
   "source": [
    "py_list = [\"a1\", \"b2\", \"c3\", \"d4\", \"e5\", \"f6\", \"g7\", \"h8\", \"i9\", \"j10\"]\n",
    "print(py_list[0])   # Prints 'a1'\n",
    "print(py_list[2])   # Prints 'c3'\n",
    "print(py_list[4])   # Prints 'e5'\n",
    "print(py_list[6])   # Prints 'g7'\n",
    "print(py_list[8])   # Prints 'i9'"
   ]
  },
  {
   "cell_type": "markdown",
   "id": "2ef05d83-961f-4fd2-92fc-28447c880e96",
   "metadata": {},
   "source": [
    "**Exercise 3 (Index again)**"
   ]
  },
  {
   "cell_type": "code",
   "execution_count": 8,
   "id": "82c1f6ff-918b-45ef-a7dd-edeb1326f84f",
   "metadata": {},
   "outputs": [],
   "source": [
    "elements = ['Hydrogen',\n",
    "            'Helium', 'Lithium',\n",
    "            'Beryllium', 'Boron', 'Carbon',\n",
    "            'Nitrogen', 'Oxygen',\n",
    "            'Fluorine',\n",
    "            'Neon']"
   ]
  },
  {
   "cell_type": "code",
   "execution_count": 9,
   "id": "20638bda-868e-4855-b517-73143c1e9fc1",
   "metadata": {},
   "outputs": [
    {
     "data": {
      "text/plain": [
       "'Boron'"
      ]
     },
     "execution_count": 9,
     "metadata": {},
     "output_type": "execute_result"
    }
   ],
   "source": [
    "elements[4] # Index 4 using forward indexing"
   ]
  },
  {
   "cell_type": "code",
   "execution_count": 10,
   "id": "86a896f8-9e4d-4ea4-ae2b-6e039541b18b",
   "metadata": {},
   "outputs": [
    {
     "data": {
      "text/plain": [
       "'Boron'"
      ]
     },
     "execution_count": 10,
     "metadata": {},
     "output_type": "execute_result"
    }
   ],
   "source": [
    "elements[-6] # Index 4 using reverse indexing (since there are 10 elements in the list)"
   ]
  },
  {
   "cell_type": "markdown",
   "id": "f7d3893a-187b-40d9-868d-c681c9bfc054",
   "metadata": {},
   "source": [
    "**Exercise 4 (How many ones)**"
   ]
  },
  {
   "cell_type": "code",
   "execution_count": 11,
   "id": "d80d3788-c243-4c9b-b8b7-227f906f3411",
   "metadata": {},
   "outputs": [],
   "source": [
    "numbers=[45, 60, 1, 30, 96, 1, 96, 57, 16, 1,\n",
    "        99, 62, 86, 43, 42, 60, 59, 1, 1, 35,\n",
    "        83, 47, 34, 28, 68, 23, 22, 92, 1, 79,\n",
    "        1, 29, 94, 72, 46, 47, 1, 74, 32, 20,\n",
    "        8, 37, 35, 1, 89, 29, 86, 19, 43, 61]                  "
   ]
  },
  {
   "cell_type": "code",
   "execution_count": 12,
   "id": "879cace2-18f1-4357-8d9b-58a3f4fdee55",
   "metadata": {},
   "outputs": [],
   "source": [
    "import numpy as np\n",
    "np_array = np.array(numbers)"
   ]
  },
  {
   "cell_type": "code",
   "execution_count": 13,
   "id": "a80beea3-7d4b-409a-a34b-a7ebd1e55bd2",
   "metadata": {},
   "outputs": [],
   "source": [
    "true_false_array = np_array == 1 # Checks if each element in the array is equal to 1"
   ]
  },
  {
   "cell_type": "code",
   "execution_count": 14,
   "id": "dcbf0dbe-9422-412a-b6da-f1e2a179d3a7",
   "metadata": {},
   "outputs": [
    {
     "name": "stdout",
     "output_type": "stream",
     "text": [
      "There are 9 1's in the list of numbers\n"
     ]
    }
   ],
   "source": [
    "ones = true_false_array.sum() # Counts the no. of True elements, and hence the no. of 1s\n",
    "print(f\"There are {ones} 1's in the list of numbers\")"
   ]
  },
  {
   "cell_type": "markdown",
   "id": "24cc4d97-d020-4b63-a388-40bba3abb3fc",
   "metadata": {},
   "source": [
    "**Exercise 5 (A Matter of Statistics)**"
   ]
  },
  {
   "cell_type": "code",
   "execution_count": 15,
   "id": "7e9f6032-5f03-4dd7-a531-8ea4bbc2c584",
   "metadata": {},
   "outputs": [],
   "source": [
    "x_1 = [1, 4, 9, 16, 25, 36, 49, 64, 81, 100]\n",
    "x_2 = [1, 8, 27, 64, 125, 216, 343, 512, 729, 1000]"
   ]
  },
  {
   "cell_type": "code",
   "execution_count": 16,
   "id": "b59cc6cc-cc8c-4c2d-a2ef-ccb709d26660",
   "metadata": {},
   "outputs": [],
   "source": [
    "np_array_x1 = np.array(x_1)\n",
    "np_array_x2 = np.array(x_2)"
   ]
  },
  {
   "cell_type": "code",
   "execution_count": 17,
   "id": "d4336d3b-9925-4003-833f-f4c177f87351",
   "metadata": {},
   "outputs": [
    {
     "name": "stdout",
     "output_type": "stream",
     "text": [
      "The mean of x1 is 38.5\n"
     ]
    }
   ],
   "source": [
    "x1_mean = np_array_x1.mean() # Mean of x1\n",
    "print(f'The mean of x1 is {x1_mean}')"
   ]
  },
  {
   "cell_type": "code",
   "execution_count": 18,
   "id": "30db2fb1-b55b-47bb-88e5-e9452bf8989f",
   "metadata": {},
   "outputs": [
    {
     "name": "stdout",
     "output_type": "stream",
     "text": [
      "The mean of x2 is 302.5\n"
     ]
    }
   ],
   "source": [
    "x2_mean = np_array_x2.mean() # Mean of x2\n",
    "print(f'The mean of x2 is {x2_mean}')"
   ]
  },
  {
   "cell_type": "code",
   "execution_count": 19,
   "id": "04ae8cbe-6c16-4c83-ba11-3f939e6630ea",
   "metadata": {},
   "outputs": [
    {
     "name": "stdout",
     "output_type": "stream",
     "text": [
      "The Standard Deviation of x1 is 32.41990129534635\n"
     ]
    }
   ],
   "source": [
    "x1_std = np_array_x1.std() # Standard deviation of x1\n",
    "print(f'The Standard Deviation of x1 is {x1_std}')"
   ]
  },
  {
   "cell_type": "code",
   "execution_count": 20,
   "id": "044da5e8-0a78-4f21-9834-95f5bba42325",
   "metadata": {},
   "outputs": [
    {
     "name": "stdout",
     "output_type": "stream",
     "text": [
      "The Standard Deviation of x2 is 326.0893282522444\n"
     ]
    }
   ],
   "source": [
    "x2_std = np_array_x2.std() # Standard deviation of x2\n",
    "print(f'The Standard Deviation of x2 is {x2_std}')"
   ]
  },
  {
   "cell_type": "markdown",
   "id": "1b705c64-919f-42aa-9ac5-7a56f9a189b0",
   "metadata": {},
   "source": [
    "$$\n",
    "r = \\dfrac{\\sum (x_1 - \\bar x_1)(x_2 - \\bar x_2)}{\\sqrt{\\sum (x_1 - \\bar x_1)^2 \\sum (x_2 - \\bar x_2)^2}}\n",
    "$$\n",
    "$$\n",
    "= \\dfrac{\\sum {x_1x_2} - (\\dfrac{\\sum {x_1} \\sum {x_2}}{n})}  {\\sqrt{n}  \\sqrt{ \\dfrac       {\\sum {(x_1 - \\bar x_1)^2}}   {n}  } \\sqrt{n}  \\sqrt{ \\dfrac       {\\sum {(x_2 - \\bar x_2)^2}}   {n}  } }\n",
    "$$\n",
    "$$\n",
    "= \\dfrac{n(\\sum {x_1x_2}) - (\\sum {x_1}) (\\sum {x_2})}{n^2\\sigma_{x_1}\\sigma_{x_2}}\n",
    "$$"
   ]
  },
  {
   "cell_type": "code",
   "execution_count": 21,
   "id": "0461feb6-d49b-42ac-8971-bb8afd1147eb",
   "metadata": {},
   "outputs": [
    {
     "name": "stdout",
     "output_type": "stream",
     "text": [
      "0.9871796626270704\n"
     ]
    }
   ],
   "source": [
    "n = len(x_1) # Also equals len(x_2)\n",
    "sum_x1x2 = sum(x_1_i * x_2_i for x_1_i, x_2_i in zip(x_1, x_2))\n",
    "sum_x1 = sum(x_1)\n",
    "sum_x2 = sum(x_2)\n",
    "r = ((n*sum_x1x2) - (sum_x1) * (sum_x2)) / ((n**2) * (x1_std) * ((x2_std)))\n",
    "print(r)"
   ]
  },
  {
   "cell_type": "code",
   "execution_count": 22,
   "id": "8211c9ed-b7b5-4077-85bb-c6fc147ad47a",
   "metadata": {},
   "outputs": [
    {
     "name": "stdout",
     "output_type": "stream",
     "text": [
      "r = 0.9871796626270701\n"
     ]
    }
   ],
   "source": [
    "correlation_matrix = np.corrcoef(np_array_x1, np_array_x2)\n",
    "pearson_correlation = correlation_matrix[0,1]\n",
    "print(f'r = {pearson_correlation}')"
   ]
  }
 ],
 "metadata": {
  "kernelspec": {
   "display_name": "Python 3 (ipykernel)",
   "language": "python",
   "name": "python3"
  },
  "language_info": {
   "codemirror_mode": {
    "name": "ipython",
    "version": 3
   },
   "file_extension": ".py",
   "mimetype": "text/x-python",
   "name": "python",
   "nbconvert_exporter": "python",
   "pygments_lexer": "ipython3",
   "version": "3.12.3"
  },
  "toc": {
   "base_numbering": 1,
   "nav_menu": {},
   "number_sections": true,
   "sideBar": true,
   "skip_h1_title": false,
   "title_cell": "Table of Contents",
   "title_sidebar": "Contents",
   "toc_cell": false,
   "toc_position": {},
   "toc_section_display": true,
   "toc_window_display": false
  },
  "vscode": {
   "interpreter": {
    "hash": "31f2aee4e71d21fbe5cf8b01ff0e069b9275f58929596ceb00d14d90e3e16cd6"
   }
  }
 },
 "nbformat": 4,
 "nbformat_minor": 5
}
