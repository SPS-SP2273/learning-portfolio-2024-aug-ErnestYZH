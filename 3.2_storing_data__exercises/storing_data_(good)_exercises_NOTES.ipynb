{
 "cells": [
  {
   "attachments": {},
   "cell_type": "markdown",
   "id": "123456",
   "metadata": {},
   "source": [
    "<div style=\"text-align:left;font-size:2em\"><span style=\"font-weight:bolder;font-size:1.25em\">SP2273 | Learning Portfolio</span><br><br><span style=\"font-weight:bold;color:darkred\">Storing Data (Good) Exercises</span></div>"
   ]
  },
  {
   "cell_type": "markdown",
   "id": "18e27488-a85b-45d7-86dd-7855917da72d",
   "metadata": {},
   "source": [
    "**Exercise 1 (Total recall)**"
   ]
  },
  {
   "cell_type": "markdown",
   "id": "91e3c3e0-de0b-46eb-87b0-793a0e209566",
   "metadata": {},
   "source": [
    "| **Term**   | **Brief description** |\n",
    "|:--|:--|\n",
    "| Subsetting |Selecting a subset of ~~a group of elements~~ *the data* in a list or array                       |\n",
    "| Indexing   |Selecting a single element in a list or array                       |\n",
    "| Slicing    |Selecting a range of elements in a list or array                       |\n",
    "| Masking    |Filtering elements in a list or array based on specific conditions                       |"
   ]
  },
  {
   "cell_type": "markdown",
   "id": "a7f25a6f-b96e-494b-941e-38401c16905f",
   "metadata": {},
   "source": [
    "- **Subsetting** can be performed on a **list/array** via **list[]** or **array[]**, where the subset is specified in the **square brackets**\n",
    "  - **Indexing** a list/array returns a single element from that list/array\n",
    "    - If the list/array is 1D, the returned element will not be a list, but just that element itself (float, int, str, etc)\n",
    "    - If the list/array is 2D, the returned element will be a list/array, since each element was already a list/array\n",
    "  - **Slicing** returns a **list/array** with the specified range of elements\n",
    "    - Even if we only a single element, it still returns a list/array with that 1 element\n",
    "  - **Masking** is a special way of subsetting for arrays, by using a **Boolean (True/False) Array** of the same size in the square brackets **[]**, returning an array with only the values that correspond to the **True** indexes in the Boolean Array. The Boolean Array is known as a **Boolean Mask**\n",
    "    - We can use the Bitwise Operators **~** (NOT), **&** (AND), and **|** (OR) to combine **Boolean Masks**\n",
    "    - It is possible to subset with an array that is not a Boolean Mask, by using an Index Mask (containing indices to modify the elements on the array)"
   ]
  },
  {
   "cell_type": "code",
   "execution_count": 45,
   "id": "ea85d862-4cf2-4784-b5c0-d7cdd3e9feec",
   "metadata": {},
   "outputs": [
    {
     "data": {
      "text/plain": [
       "array([False, False,  True, False, False])"
      ]
     },
     "execution_count": 45,
     "metadata": {},
     "output_type": "execute_result"
    }
   ],
   "source": [
    "list = [1,2,3,4,5]\n",
    "array = np.array(list)\n",
    "morethan2 = array > 2\n",
    "lessthan4 = array < 4\n",
    "morethan2 & lessthan4"
   ]
  },
  {
   "cell_type": "code",
   "execution_count": 24,
   "id": "7b1f9db8-d0fa-4b52-927c-39f536d68fe5",
   "metadata": {},
   "outputs": [
    {
     "data": {
      "text/plain": [
       "array([1, 0])"
      ]
     },
     "execution_count": 24,
     "metadata": {},
     "output_type": "execute_result"
    }
   ],
   "source": [
    "array1 = np.array([1,2])\n",
    "array2 = np.array([3,4])\n",
    "array1 & array2"
   ]
  },
  {
   "cell_type": "code",
   "execution_count": 46,
   "id": "0a88ba82-2e06-4278-8c7e-87b4b09af613",
   "metadata": {},
   "outputs": [
    {
     "data": {
      "text/plain": [
       "[1]"
      ]
     },
     "execution_count": 46,
     "metadata": {},
     "output_type": "execute_result"
    }
   ],
   "source": [
    "list = [1,2,3,4,5]\n",
    "array = np.array(list)\n",
    "type(list[0:1])\n",
    "list[0:1]"
   ]
  },
  {
   "cell_type": "code",
   "execution_count": 41,
   "id": "293fc217-7731-4b62-bbcc-e121aef72b70",
   "metadata": {},
   "outputs": [
    {
     "data": {
      "text/plain": [
       "(1, 2)"
      ]
     },
     "execution_count": 41,
     "metadata": {},
     "output_type": "execute_result"
    }
   ],
   "source": [
    "list = [[0, 0], [1, 1], [2, 2]]\n",
    "array = np.array(list)\n",
    "array[0:1]\n",
    "array[0:1].shape"
   ]
  },
  {
   "cell_type": "code",
   "execution_count": 44,
   "id": "cc058bc6-3b7f-43bd-8786-f924b542633a",
   "metadata": {},
   "outputs": [
    {
     "ename": "IndexError",
     "evalue": "boolean index did not match indexed array along axis 0; size of axis is 5 but size of corresponding boolean axis is 3",
     "output_type": "error",
     "traceback": [
      "\u001b[1;31m---------------------------------------------------------------------------\u001b[0m",
      "\u001b[1;31mIndexError\u001b[0m                                Traceback (most recent call last)",
      "Cell \u001b[1;32mIn[44], line 7\u001b[0m\n\u001b[0;32m      5\u001b[0m boolean_array \u001b[38;5;241m=\u001b[39m array3 \u001b[38;5;241m>\u001b[39m \u001b[38;5;241m1\u001b[39m\n\u001b[0;32m      6\u001b[0m boolean_array\n\u001b[1;32m----> 7\u001b[0m \u001b[43marray\u001b[49m\u001b[43m[\u001b[49m\u001b[43mboolean_array\u001b[49m\u001b[43m]\u001b[49m\n",
      "\u001b[1;31mIndexError\u001b[0m: boolean index did not match indexed array along axis 0; size of axis is 5 but size of corresponding boolean axis is 3"
     ]
    }
   ],
   "source": [
    "list = [1,2,3,4,5]\n",
    "array = np.array(list)\n",
    "list3 = [1,2,3]\n",
    "array3 = np.array(list3)\n",
    "boolean_array = array3 > 1\n",
    "boolean_array\n",
    "array[boolean_array]"
   ]
  },
  {
   "cell_type": "markdown",
   "id": "167198da-2fdf-4f0b-ac89-33def6102bec",
   "metadata": {},
   "source": [
    "**Exercise 2 (Show me the 'odd' letters)**"
   ]
  },
  {
   "cell_type": "code",
   "execution_count": 47,
   "id": "ae61925f-314a-46f0-88cc-33a9ab0eba46",
   "metadata": {},
   "outputs": [],
   "source": [
    "import numpy as np\n",
    "np_array_2d = np.array([[1, \"A\"], [3, \"C\"], [2, \"B\"], [4, \"D\"],\n",
    "                        [5, \"E\"], [7, \"G\"], [6, \"F\"], [8, \"H\"],\n",
    "                        [10, \"J\"], [9, \"I\"]])"
   ]
  },
  {
   "cell_type": "code",
   "execution_count": 48,
   "id": "a6d49e0d-a485-4075-b6a8-a83dc7ca20f6",
   "metadata": {},
   "outputs": [
    {
     "data": {
      "text/plain": [
       "array(['1', '3', '2', '4', '5', '7', '6', '8', '10', '9'], dtype='<U21')"
      ]
     },
     "execution_count": 48,
     "metadata": {},
     "output_type": "execute_result"
    }
   ],
   "source": [
    "mask_1 = np_array_2d[:, 0]\n",
    "mask_1"
   ]
  },
  {
   "cell_type": "code",
   "execution_count": 49,
   "id": "4ed181ba-6337-4dce-9892-c52ff0a31209",
   "metadata": {},
   "outputs": [
    {
     "data": {
      "text/plain": [
       "array([ 1,  3,  2,  4,  5,  7,  6,  8, 10,  9])"
      ]
     },
     "execution_count": 49,
     "metadata": {},
     "output_type": "execute_result"
    }
   ],
   "source": [
    "mask_2 = mask_1.astype(int)\n",
    "mask_2"
   ]
  },
  {
   "cell_type": "code",
   "execution_count": 59,
   "id": "fcfe20dc-b282-42a9-837f-d0453a1dfde1",
   "metadata": {},
   "outputs": [
    {
     "data": {
      "text/plain": [
       "array([1, 1, 0, 0, 1, 1, 0, 0, 0, 1])"
      ]
     },
     "execution_count": 59,
     "metadata": {},
     "output_type": "execute_result"
    }
   ],
   "source": [
    "mask_3 = mask_2%2\n",
    "mask_3"
   ]
  },
  {
   "cell_type": "code",
   "execution_count": 51,
   "id": "54e70f7a-68ed-477f-8914-2fa79a59bddb",
   "metadata": {},
   "outputs": [
    {
     "data": {
      "text/plain": [
       "array([ True,  True, False, False,  True,  True, False, False, False,\n",
       "        True])"
      ]
     },
     "execution_count": 51,
     "metadata": {},
     "output_type": "execute_result"
    }
   ],
   "source": [
    "mask_4 = mask_3 > 0\n",
    "mask_4"
   ]
  },
  {
   "cell_type": "code",
   "execution_count": 52,
   "id": "25e2e0f1-735a-4311-8907-d83cf0625448",
   "metadata": {},
   "outputs": [
    {
     "data": {
      "text/plain": [
       "array([['1', 'A'],\n",
       "       ['3', 'C'],\n",
       "       ['5', 'E'],\n",
       "       ['7', 'G'],\n",
       "       ['9', 'I']], dtype='<U21')"
      ]
     },
     "execution_count": 52,
     "metadata": {},
     "output_type": "execute_result"
    }
   ],
   "source": [
    "new_array = np_array_2d[mask_4]\n",
    "new_array"
   ]
  },
  {
   "cell_type": "code",
   "execution_count": 53,
   "id": "3e1e3f3e-fc44-48b0-80e8-c7d28b36ff27",
   "metadata": {},
   "outputs": [
    {
     "name": "stdout",
     "output_type": "stream",
     "text": [
      "['A' 'C' 'E' 'G' 'I']\n"
     ]
    }
   ],
   "source": [
    "print(new_array[:, 1]) # I understand that I could have redefined the same mask at each stage instead of defining new masks\n",
    "                       # The different masks are simply to visualize what is going on at each stage"
   ]
  },
  {
   "cell_type": "markdown",
   "id": "d20b9d44-8e06-4f4c-99ea-14e28b1965c7",
   "metadata": {},
   "source": [
    "**Exercise 2 (Show me the 'odd' letters) (After Review)**"
   ]
  },
  {
   "cell_type": "markdown",
   "id": "2511b990-2ec8-4891-8ac2-e9da611e403b",
   "metadata": {},
   "source": [
    "My old code for Exercise 2 was messy as I wanted to visualize each step.\\\n",
    "Redoing Exercise 2 in a cleaner format after getting more familiar with Python."
   ]
  },
  {
   "cell_type": "code",
   "execution_count": 5,
   "id": "75d99be9-e4b8-472c-834b-9a02ab552d0d",
   "metadata": {},
   "outputs": [],
   "source": [
    "import numpy as np\n",
    "np_array_2d = np.array([[1, \"A\"], [3, \"C\"], [2, \"B\"], [4, \"D\"],\n",
    "                        [5, \"E\"], [7, \"G\"], [6, \"F\"], [8, \"H\"],\n",
    "                        [10, \"J\"], [9, \"I\"]])"
   ]
  },
  {
   "cell_type": "code",
   "execution_count": 28,
   "id": "16f498d0-4fbf-4288-b0fb-e8e277b06c71",
   "metadata": {},
   "outputs": [
    {
     "name": "stdout",
     "output_type": "stream",
     "text": [
      "['A' 'C' 'E' 'G' 'I']\n"
     ]
    }
   ],
   "source": [
    "mask = np_array_2d[:, 0]\n",
    "mask = mask.astype(int)\n",
    "mask = mask%2\n",
    "mask = mask == 1\n",
    "result = np_array_2d[mask]\n",
    "print(result[:, 1])"
   ]
  },
  {
   "cell_type": "markdown",
   "id": "6b0cd144-839f-4907-b8f5-8f2509ba55e6",
   "metadata": {},
   "source": [
    "The goal of this exercise is to keep performing operations on a copy of the array, until we can ask it a question to obtain a **Boolean Mask**.\\\n",
    "We then use the **Boolean Mask** to subset the original array."
   ]
  },
  {
   "cell_type": "markdown",
   "id": "f1d67f5a-525f-4074-9743-a98f75f944f3",
   "metadata": {},
   "source": [
    "**Exercise 3**"
   ]
  },
  {
   "cell_type": "code",
   "execution_count": 73,
   "id": "7fcffd00-7b48-44c2-b932-ee9bf1b63d6d",
   "metadata": {},
   "outputs": [],
   "source": [
    "np_array = np.array([[66, 50, 57, -1, -1],\n",
    " [92, -1, 88, -1, -1],\n",
    " [75, -1, -1, 76, -1],\n",
    " [-1, 51, 87, -1, -1],\n",
    " [71, -1, 67, -1, 69]])"
   ]
  },
  {
   "cell_type": "code",
   "execution_count": 77,
   "id": "e2cfad31-81b0-48ea-9a7c-c6b491ac4df3",
   "metadata": {},
   "outputs": [
    {
     "data": {
      "text/plain": [
       "array([[ 1,  0,  1, -1, -1],\n",
       "       [ 1, -1,  1, -1, -1],\n",
       "       [ 1, -1, -1,  1, -1],\n",
       "       [-1,  1,  1, -1, -1],\n",
       "       [ 1, -1,  1, -1,  1]])"
      ]
     },
     "execution_count": 77,
     "metadata": {},
     "output_type": "execute_result"
    }
   ],
   "source": [
    "np_array[np_array < 50] = -1\n",
    "np_array[np_array > 50] = +1\n",
    "np_array[np_array == 50] = 0\n",
    "np_array"
   ]
  },
  {
   "cell_type": "markdown",
   "id": "ad0eee71-cb23-4a13-81d4-33a74bb88173",
   "metadata": {},
   "source": [
    "This shows that asking questions to a 2D array still checks every 2D index in the array.\\\n",
    "Hence, each question asked returns a **2D Boolean Mask** of the same size.\\\n",
    "These 2D Boolean Masks can be used to modify the elements of the original 2D array.\\\n",
    "However, if we were to use the 2D Boolean Mask to Subset the original 2D array, the resultant array will be 1D."
   ]
  },
  {
   "cell_type": "code",
   "execution_count": 75,
   "id": "66d93b1e-08e0-4b9b-9c6f-3e02166f4590",
   "metadata": {},
   "outputs": [
    {
     "data": {
      "text/plain": [
       "array([[ True, False,  True, False, False],\n",
       "       [ True, False,  True, False, False],\n",
       "       [ True, False, False,  True, False],\n",
       "       [False,  True,  True, False, False],\n",
       "       [ True, False,  True, False,  True]])"
      ]
     },
     "execution_count": 75,
     "metadata": {},
     "output_type": "execute_result"
    }
   ],
   "source": [
    "np_array > 50"
   ]
  },
  {
   "cell_type": "code",
   "execution_count": 76,
   "id": "fadc3232-56b2-4b63-99f3-e4f9b3bf5b1b",
   "metadata": {},
   "outputs": [
    {
     "data": {
      "text/plain": [
       "array([66, 57, 92, 88, 75, 76, 51, 87, 71, 67, 69])"
      ]
     },
     "execution_count": 76,
     "metadata": {},
     "output_type": "execute_result"
    }
   ],
   "source": [
    "np_array[np_array > 50]"
   ]
  }
 ],
 "metadata": {
  "kernelspec": {
   "display_name": "Python 3 (ipykernel)",
   "language": "python",
   "name": "python3"
  },
  "language_info": {
   "codemirror_mode": {
    "name": "ipython",
    "version": 3
   },
   "file_extension": ".py",
   "mimetype": "text/x-python",
   "name": "python",
   "nbconvert_exporter": "python",
   "pygments_lexer": "ipython3",
   "version": "3.12.3"
  },
  "toc": {
   "base_numbering": 1,
   "nav_menu": {},
   "number_sections": true,
   "sideBar": true,
   "skip_h1_title": false,
   "title_cell": "Table of Contents",
   "title_sidebar": "Contents",
   "toc_cell": false,
   "toc_position": {},
   "toc_section_display": true,
   "toc_window_display": false
  },
  "vscode": {
   "interpreter": {
    "hash": "31f2aee4e71d21fbe5cf8b01ff0e069b9275f58929596ceb00d14d90e3e16cd6"
   }
  }
 },
 "nbformat": 4,
 "nbformat_minor": 5
}
