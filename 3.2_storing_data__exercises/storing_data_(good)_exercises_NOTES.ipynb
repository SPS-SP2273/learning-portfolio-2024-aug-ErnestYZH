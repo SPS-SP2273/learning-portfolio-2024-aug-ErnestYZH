{
 "cells": [
  {
   "attachments": {},
   "cell_type": "markdown",
   "id": "123456",
   "metadata": {},
   "source": [
    "<div style=\"text-align:left;font-size:2em\"><span style=\"font-weight:bolder;font-size:1.25em\">SP2273 | Learning Portfolio</span><br><br><span style=\"font-weight:bold;color:darkred\">Storing Data (Good) Exercises</span></div>"
   ]
  },
  {
   "cell_type": "markdown",
   "id": "18e27488-a85b-45d7-86dd-7855917da72d",
   "metadata": {},
   "source": [
    "**Exercise 1 (Total recall)**"
   ]
  },
  {
   "cell_type": "markdown",
   "id": "91e3c3e0-de0b-46eb-87b0-793a0e209566",
   "metadata": {},
   "source": [
    "| **Term**   | **Brief description** |\n",
    "|:--|:--|\n",
    "| Subsetting |Selecting a subset of ~~a group of elements~~ *the data* in a list or array                       |\n",
    "| Indexing   |Selecting a single element in a list or array                       |\n",
    "| Slicing    |Selecting a range of elements in a list or array                       |\n",
    "| Masking    |Filtering elements in a list or array based on specific conditions                       |"
   ]
  },
  {
   "cell_type": "markdown",
   "id": "167198da-2fdf-4f0b-ac89-33def6102bec",
   "metadata": {},
   "source": [
    "**Exercise 2 (Show me the 'odd' letters)**"
   ]
  },
  {
   "cell_type": "code",
   "execution_count": 12,
   "id": "ae61925f-314a-46f0-88cc-33a9ab0eba46",
   "metadata": {},
   "outputs": [],
   "source": [
    "import numpy as np\n",
    "np_array_2d = np.array([[1, \"A\"], [3, \"C\"], [2, \"B\"], [4, \"D\"],\n",
    "                        [5, \"E\"], [7, \"G\"], [6, \"F\"], [8, \"H\"],\n",
    "                        [10, \"J\"], [9, \"I\"]])"
   ]
  },
  {
   "cell_type": "code",
   "execution_count": 15,
   "id": "a6d49e0d-a485-4075-b6a8-a83dc7ca20f6",
   "metadata": {},
   "outputs": [
    {
     "data": {
      "text/plain": [
       "array(['1', '3', '2', '4', '5', '7', '6', '8', '10', '9'], dtype='<U21')"
      ]
     },
     "execution_count": 15,
     "metadata": {},
     "output_type": "execute_result"
    }
   ],
   "source": [
    "mask_1 = np_array_2d[:, 0]\n",
    "mask_1"
   ]
  },
  {
   "cell_type": "code",
   "execution_count": 20,
   "id": "4ed181ba-6337-4dce-9892-c52ff0a31209",
   "metadata": {},
   "outputs": [
    {
     "data": {
      "text/plain": [
       "array([ 1,  3,  2,  4,  5,  7,  6,  8, 10,  9])"
      ]
     },
     "execution_count": 20,
     "metadata": {},
     "output_type": "execute_result"
    }
   ],
   "source": [
    "mask_2 = mask_1.astype(int)\n",
    "mask_2"
   ]
  },
  {
   "cell_type": "code",
   "execution_count": 24,
   "id": "fcfe20dc-b282-42a9-837f-d0453a1dfde1",
   "metadata": {},
   "outputs": [
    {
     "data": {
      "text/plain": [
       "array([1, 1, 0, 0, 1, 1, 0, 0, 0, 1])"
      ]
     },
     "execution_count": 24,
     "metadata": {},
     "output_type": "execute_result"
    }
   ],
   "source": [
    "mask_3 = mask_2%2\n",
    "mask_3"
   ]
  },
  {
   "cell_type": "code",
   "execution_count": 25,
   "id": "54e70f7a-68ed-477f-8914-2fa79a59bddb",
   "metadata": {},
   "outputs": [
    {
     "data": {
      "text/plain": [
       "array([ True,  True, False, False,  True,  True, False, False, False,\n",
       "        True])"
      ]
     },
     "execution_count": 25,
     "metadata": {},
     "output_type": "execute_result"
    }
   ],
   "source": [
    "mask_4 = mask_3 > 0\n",
    "mask_4"
   ]
  },
  {
   "cell_type": "code",
   "execution_count": 26,
   "id": "25e2e0f1-735a-4311-8907-d83cf0625448",
   "metadata": {},
   "outputs": [
    {
     "data": {
      "text/plain": [
       "array([['1', 'A'],\n",
       "       ['3', 'C'],\n",
       "       ['5', 'E'],\n",
       "       ['7', 'G'],\n",
       "       ['9', 'I']], dtype='<U21')"
      ]
     },
     "execution_count": 26,
     "metadata": {},
     "output_type": "execute_result"
    }
   ],
   "source": [
    "new_array = np_array_2d[mask_4]\n",
    "new_array"
   ]
  },
  {
   "cell_type": "code",
   "execution_count": 27,
   "id": "3e1e3f3e-fc44-48b0-80e8-c7d28b36ff27",
   "metadata": {},
   "outputs": [
    {
     "name": "stdout",
     "output_type": "stream",
     "text": [
      "['A' 'C' 'E' 'G' 'I']\n"
     ]
    }
   ],
   "source": [
    "print(new_array[:, 1]) # I understand that I could have redefined the same mask at each stage instead of defining new masks\n",
    "                       # The different masks are simply to visualize what is going on at each stage"
   ]
  },
  {
   "cell_type": "markdown",
   "id": "d20b9d44-8e06-4f4c-99ea-14e28b1965c7",
   "metadata": {},
   "source": [
    "**Exercise 2 (Show me the 'odd' letters) (After Review)**"
   ]
  },
  {
   "cell_type": "markdown",
   "id": "2511b990-2ec8-4891-8ac2-e9da611e403b",
   "metadata": {},
   "source": [
    "My old code for Exercise 2 was messy as I wanted to visualize each step.\\\n",
    "Redoing Exercise 2 in a cleaner format after getting more familiar with Python."
   ]
  },
  {
   "cell_type": "code",
   "execution_count": 5,
   "id": "75d99be9-e4b8-472c-834b-9a02ab552d0d",
   "metadata": {},
   "outputs": [],
   "source": [
    "import numpy as np\n",
    "np_array_2d = np.array([[1, \"A\"], [3, \"C\"], [2, \"B\"], [4, \"D\"],\n",
    "                        [5, \"E\"], [7, \"G\"], [6, \"F\"], [8, \"H\"],\n",
    "                        [10, \"J\"], [9, \"I\"]])"
   ]
  },
  {
   "cell_type": "code",
   "execution_count": 28,
   "id": "16f498d0-4fbf-4288-b0fb-e8e277b06c71",
   "metadata": {},
   "outputs": [
    {
     "name": "stdout",
     "output_type": "stream",
     "text": [
      "['A' 'C' 'E' 'G' 'I']\n"
     ]
    }
   ],
   "source": [
    "mask = np_array_2d[:, 0]\n",
    "mask = mask.astype(int)\n",
    "mask = mask%2\n",
    "mask = mask == 1\n",
    "result = np_array_2d[mask]\n",
    "print(result[:, 1])"
   ]
  },
  {
   "cell_type": "markdown",
   "id": "f1d67f5a-525f-4074-9743-a98f75f944f3",
   "metadata": {},
   "source": [
    "**Exercise 3**"
   ]
  },
  {
   "cell_type": "code",
   "execution_count": 60,
   "id": "7fcffd00-7b48-44c2-b932-ee9bf1b63d6d",
   "metadata": {},
   "outputs": [],
   "source": [
    "np_array = np.array([[66, 50, 57, -1, -1],\n",
    " [92, -1, 88, -1, -1],\n",
    " [75, -1, -1, 76, -1],\n",
    " [-1, 51, 87, -1, -1],\n",
    " [71, -1, 67, -1, 69]])"
   ]
  },
  {
   "cell_type": "code",
   "execution_count": 61,
   "id": "e2cfad31-81b0-48ea-9a7c-c6b491ac4df3",
   "metadata": {},
   "outputs": [
    {
     "data": {
      "text/plain": [
       "array([[ 1,  0,  1, -1, -1],\n",
       "       [ 1, -1,  1, -1, -1],\n",
       "       [ 1, -1, -1,  1, -1],\n",
       "       [-1,  1,  1, -1, -1],\n",
       "       [ 1, -1,  1, -1,  1]])"
      ]
     },
     "execution_count": 61,
     "metadata": {},
     "output_type": "execute_result"
    }
   ],
   "source": [
    "np_array[np_array < 50] = -1\n",
    "np_array[np_array > 50] = +1\n",
    "np_array[np_array == 50] = 0\n",
    "np_array"
   ]
  }
 ],
 "metadata": {
  "kernelspec": {
   "display_name": "Python 3 (ipykernel)",
   "language": "python",
   "name": "python3"
  },
  "language_info": {
   "codemirror_mode": {
    "name": "ipython",
    "version": 3
   },
   "file_extension": ".py",
   "mimetype": "text/x-python",
   "name": "python",
   "nbconvert_exporter": "python",
   "pygments_lexer": "ipython3",
   "version": "3.12.3"
  },
  "toc": {
   "base_numbering": 1,
   "nav_menu": {},
   "number_sections": true,
   "sideBar": true,
   "skip_h1_title": false,
   "title_cell": "Table of Contents",
   "title_sidebar": "Contents",
   "toc_cell": false,
   "toc_position": {},
   "toc_section_display": true,
   "toc_window_display": false
  },
  "vscode": {
   "interpreter": {
    "hash": "31f2aee4e71d21fbe5cf8b01ff0e069b9275f58929596ceb00d14d90e3e16cd6"
   }
  }
 },
 "nbformat": 4,
 "nbformat_minor": 5
}
