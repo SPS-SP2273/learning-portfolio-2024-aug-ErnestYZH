{
 "cells": [
  {
   "attachments": {},
   "cell_type": "markdown",
   "id": "123456",
   "metadata": {},
   "source": [
    "<div style=\"text-align:left;font-size:2em\"><span style=\"font-weight:bolder;font-size:1.25em\">SP2273 | Learning Portfolio</span><br><br><span style=\"font-weight:bold;color:darkred\">Functions (Good)</span></div>"
   ]
  },
  {
   "attachments": {},
   "cell_type": "markdown",
   "id": "b208013d",
   "metadata": {
    "jp-MarkdownHeadingCollapsed": true
   },
   "source": [
    "# What to expect in this chapter"
   ]
  },
  {
   "attachments": {},
   "cell_type": "markdown",
   "id": "3497a073",
   "metadata": {},
   "source": [
    "# 1 Checks, balances, and contingencies"
   ]
  },
  {
   "attachments": {},
   "cell_type": "markdown",
   "id": "ee9f4439",
   "metadata": {},
   "source": [
    "## 1.1 assert"
   ]
  },
  {
   "cell_type": "markdown",
   "id": "414c9e2e-d8ef-4478-b837-6430c57642d1",
   "metadata": {},
   "source": [
    "**Assert** has 2 inputs: **condition-to-check** and **message**.\\\n",
    "**condition-to-check** specifies a condition that Assert command checks for.\\\n",
    "As long as **condition-to-check** is true, the program will continue running.\\\n",
    "If the condition is not met, the program stops running, and **AssertionError** is raised along with **message**."
   ]
  },
  {
   "cell_type": "code",
   "execution_count": 2,
   "id": "65a5e35a-1f63-431d-b6a7-370c30070d6a",
   "metadata": {},
   "outputs": [],
   "source": [
    "x = 10\n",
    "assert x >= 0, \"x is becoming negative!\""
   ]
  },
  {
   "cell_type": "code",
   "execution_count": 3,
   "id": "c83cf8a0-f664-4360-833d-55d5bec69071",
   "metadata": {},
   "outputs": [
    {
     "ename": "AssertionError",
     "evalue": "x is becoming negative!",
     "output_type": "error",
     "traceback": [
      "\u001b[1;31m---------------------------------------------------------------------------\u001b[0m",
      "\u001b[1;31mAssertionError\u001b[0m                            Traceback (most recent call last)",
      "Cell \u001b[1;32mIn[3], line 2\u001b[0m\n\u001b[0;32m      1\u001b[0m x \u001b[38;5;241m=\u001b[39m \u001b[38;5;241m-\u001b[39m\u001b[38;5;241m1\u001b[39m\n\u001b[1;32m----> 2\u001b[0m \u001b[38;5;28;01massert\u001b[39;00m x \u001b[38;5;241m>\u001b[39m\u001b[38;5;241m=\u001b[39m \u001b[38;5;241m0\u001b[39m, \u001b[38;5;124m\"\u001b[39m\u001b[38;5;124mx is becoming negative!\u001b[39m\u001b[38;5;124m\"\u001b[39m\n",
      "\u001b[1;31mAssertionError\u001b[0m: x is becoming negative!"
     ]
    }
   ],
   "source": [
    "x = -1\n",
    "assert x >= 0, \"x is becoming negative!\""
   ]
  },
  {
   "attachments": {},
   "cell_type": "markdown",
   "id": "1b6f9ace",
   "metadata": {},
   "source": [
    "## 1.2 try-except"
   ]
  },
  {
   "cell_type": "markdown",
   "id": "13dd9053-5a8f-4123-8a4f-b8be308f52d9",
   "metadata": {},
   "source": [
    "A technical name for things going wrong is **exceptions**, or **Errors**.\\\n",
    "Normally, an exception left unhandled will halt the flow of the program.\\\n",
    "However, we can use the **try-except** syntax to catch and handle these exceptions ourselves.\\\n",
    "The **try-except** syntax can also that the programme can handle some situtations beyond your control."
   ]
  },
  {
   "cell_type": "code",
   "execution_count": 6,
   "id": "c320268d-1f29-4487-8193-5a63b2e6f371",
   "metadata": {},
   "outputs": [
    {
     "name": "stdin",
     "output_type": "stream",
     "text": [
      "Give me a number and I will calculate its square. hahaha\n"
     ]
    },
    {
     "ename": "ValueError",
     "evalue": "invalid literal for int() with base 10: 'hahaha'",
     "output_type": "error",
     "traceback": [
      "\u001b[1;31m---------------------------------------------------------------------------\u001b[0m",
      "\u001b[1;31mValueError\u001b[0m                                Traceback (most recent call last)",
      "Cell \u001b[1;32mIn[6], line 2\u001b[0m\n\u001b[0;32m      1\u001b[0m number\u001b[38;5;241m=\u001b[39m\u001b[38;5;28minput\u001b[39m(\u001b[38;5;124m\"\u001b[39m\u001b[38;5;124mGive me a number and I will calculate its square.\u001b[39m\u001b[38;5;124m\"\u001b[39m)\n\u001b[1;32m----> 2\u001b[0m square\u001b[38;5;241m=\u001b[39m\u001b[38;5;28;43mint\u001b[39;49m\u001b[43m(\u001b[49m\u001b[43mnumber\u001b[49m\u001b[43m)\u001b[49m\u001b[38;5;241m*\u001b[39m\u001b[38;5;241m*\u001b[39m\u001b[38;5;241m2\u001b[39m              \u001b[38;5;66;03m# Convert English to number\u001b[39;00m\n\u001b[0;32m      3\u001b[0m \u001b[38;5;28mprint\u001b[39m(\u001b[38;5;124mf\u001b[39m\u001b[38;5;124m'\u001b[39m\u001b[38;5;124mThe square of \u001b[39m\u001b[38;5;132;01m{\u001b[39;00mnumber\u001b[38;5;132;01m}\u001b[39;00m\u001b[38;5;124m is \u001b[39m\u001b[38;5;132;01m{\u001b[39;00msquare\u001b[38;5;132;01m}\u001b[39;00m\u001b[38;5;124m!\u001b[39m\u001b[38;5;124m'\u001b[39m)\n",
      "\u001b[1;31mValueError\u001b[0m: invalid literal for int() with base 10: 'hahaha'"
     ]
    }
   ],
   "source": [
    "number=input(\"Give me a number and I will calculate its square.\")\n",
    "square=int(number)**2              # Convert English to number\n",
    "print(f'The square of {number} is {square}!')"
   ]
  },
  {
   "cell_type": "markdown",
   "id": "ad206925-43a4-4e6f-9d6c-6eb5212b3dac",
   "metadata": {},
   "source": [
    "As can be seen in the above code, a **ValueError** arises when int(number) does not make sense."
   ]
  },
  {
   "cell_type": "markdown",
   "id": "2c16d6f0-d054-463b-81ed-a3567a0a3301",
   "metadata": {},
   "source": [
    "We can enclose the part of the code that could potentially lead to an **exception** or **Error** in the **try** block.\\\n",
    "This way, if there is an **Error** in the **try** block, Python will ignore it and instead run the code in the **except** block."
   ]
  },
  {
   "cell_type": "code",
   "execution_count": 8,
   "id": "bec94747-e1c0-46b0-8147-486a6a4d8aa9",
   "metadata": {},
   "outputs": [
    {
     "name": "stdin",
     "output_type": "stream",
     "text": [
      "Give me a number and I will calculate its square. hahaha\n"
     ]
    },
    {
     "name": "stdout",
     "output_type": "stream",
     "text": [
      "Oh oh! I cannot square hahaha!\n"
     ]
    }
   ],
   "source": [
    "try:\n",
    "    number=input(\"Give me a number and I will calculate its square.\")\n",
    "    square=int(number)**2              # Convert English to number\n",
    "    print(f'The square of {number} is {square}!')\n",
    "except:\n",
    "    print(f\"Oh oh! I cannot square {number}!\")"
   ]
  },
  {
   "attachments": {},
   "cell_type": "markdown",
   "id": "e1f4981c",
   "metadata": {},
   "source": [
    "## 1.3 A simple suggestion"
   ]
  },
  {
   "cell_type": "markdown",
   "id": "67b1b2ce-d89e-4009-8199-4fb5dbb7e2ea",
   "metadata": {},
   "source": [
    "We can use the **print() function** to let us know what is going on in the program."
   ]
  },
  {
   "attachments": {},
   "cell_type": "markdown",
   "id": "21a0d9c6",
   "metadata": {},
   "source": [
    "# 2 Some loose ends"
   ]
  },
  {
   "attachments": {},
   "cell_type": "markdown",
   "id": "edfc320b",
   "metadata": {},
   "source": [
    "## 2.1 Positional, keyword and default arguments"
   ]
  },
  {
   "cell_type": "markdown",
   "id": "eb544285-5817-46de-adc5-e6c22ab4ba4a",
   "metadata": {},
   "source": [
    "There are **3** ways to **pass a value to an argument** in a function: **Positional**, **Keyword**, and **Default**."
   ]
  },
  {
   "cell_type": "code",
   "execution_count": 118,
   "id": "65c9d45d-5e30-4dcc-94e1-616471d0e479",
   "metadata": {},
   "outputs": [],
   "source": [
    "def side_by_side(a, b, c=42):\n",
    "    return f'{a: 2f}|{b: 2f}|{c: 2f}'"
   ]
  },
  {
   "cell_type": "markdown",
   "id": "bb842b49-261e-4024-bed5-16a75efba0ad",
   "metadata": {},
   "source": [
    "In the above code, we are defining the function **side_by_side** with 3 parameters: **a**, **b**, **c**.\\\n",
    "Here, the parameter **c** is also given a default value of 42 in the function itself. If not given a new value when using the function, the returned value of **c** will be that default value.\\\n",
    "It is important to note that the only optional paramater is **c**, since it is already assigned a given value during definition of the function. If **a** and/or **b** is not given a value when using the function, it will return an error."
   ]
  },
  {
   "cell_type": "markdown",
   "id": "4b99cb31-bab8-4a30-b1bf-ee1b62eed3fc",
   "metadata": {},
   "source": [
    "**Positional**"
   ]
  },
  {
   "cell_type": "code",
   "execution_count": 11,
   "id": "73c5029a-a326-44c3-9179-9b7774ac49b4",
   "metadata": {},
   "outputs": [
    {
     "data": {
      "text/plain": [
       "' 1| 2| 3'"
      ]
     },
     "execution_count": 11,
     "metadata": {},
     "output_type": "execute_result"
    }
   ],
   "source": [
    "side_by_side(1, 2, 3)"
   ]
  },
  {
   "cell_type": "markdown",
   "id": "8e899c00-f0e7-413c-bd5b-4cd59c1fa09d",
   "metadata": {},
   "source": [
    "We are telling Python to assign **1, 2, 3** to **a, b. c** using the **positional order** of the arguments.\\\n",
    "Since we input **2** in the second position and **b** is the second argument of the defined function, the value of **2** is assigned to the parameter **b** (parameter/argument are the same thing)."
   ]
  },
  {
   "cell_type": "markdown",
   "id": "e3ede457-786b-4442-95db-692af7fa585f",
   "metadata": {},
   "source": [
    "**Keywords**"
   ]
  },
  {
   "cell_type": "code",
   "execution_count": 15,
   "id": "a7536030-9a64-4864-98cd-566428dd1feb",
   "metadata": {},
   "outputs": [
    {
     "data": {
      "text/plain": [
       "' 2| 1| 3'"
      ]
     },
     "execution_count": 15,
     "metadata": {},
     "output_type": "execute_result"
    }
   ],
   "source": [
    "side_by_side(c=3, b=1, a=2)"
   ]
  },
  {
   "cell_type": "markdown",
   "id": "75d03562-020d-4c35-8193-a7e62086555d",
   "metadata": {},
   "source": [
    "By using the **keywords a=, b=, c=** in the function, we are explicitly assigning values to the specific parameters.\\\n",
    "In this case, order does not matter."
   ]
  },
  {
   "cell_type": "markdown",
   "id": "f2df1fca-7241-4746-995f-7569aea53c0a",
   "metadata": {},
   "source": [
    "**Default**"
   ]
  },
  {
   "cell_type": "code",
   "execution_count": 23,
   "id": "d8d88637-3011-46c5-8915-b736b35030eb",
   "metadata": {},
   "outputs": [
    {
     "data": {
      "text/plain": [
       "' 1| 2| 42'"
      ]
     },
     "execution_count": 23,
     "metadata": {},
     "output_type": "execute_result"
    }
   ],
   "source": [
    "side_by_side(1, b=2)"
   ]
  },
  {
   "cell_type": "markdown",
   "id": "23bafd1e-e25c-4055-af36-cdde38eecad0",
   "metadata": {},
   "source": [
    "Since **c** is optional, we can choose not to assign it a value when using a function.\\\n",
    "In that case, the returned value of **c** is its **default** value.\n",
    "Do note that there will always be a returned value of **c**, whether it be the default value or newly specified value, since it is in the definition of the function."
   ]
  },
  {
   "cell_type": "markdown",
   "id": "22127b22-efa6-4b62-8a08-212cc66d6abb",
   "metadata": {},
   "source": [
    "This also illustrates that we can use a mix of **position** and **keywords** to assign values to the parameter.\\\n",
    "However, it still has to make sense. For example, defining **b** or **c** using keywords cannot occupy the first position (which is the position of the paramater **a**), if **a** is not also defined using keywords."
   ]
  },
  {
   "cell_type": "code",
   "execution_count": 25,
   "id": "bb0aa35f-cb7a-4772-8282-7a22857bdb82",
   "metadata": {},
   "outputs": [
    {
     "ename": "SyntaxError",
     "evalue": "positional argument follows keyword argument (3855048630.py, line 3)",
     "output_type": "error",
     "traceback": [
      "\u001b[1;36m  Cell \u001b[1;32mIn[25], line 3\u001b[1;36m\u001b[0m\n\u001b[1;33m    side_by_side(a=2, 1)      # Won't work.\u001b[0m\n\u001b[1;37m                       ^\u001b[0m\n\u001b[1;31mSyntaxError\u001b[0m\u001b[1;31m:\u001b[0m positional argument follows keyword argument\n"
     ]
    }
   ],
   "source": [
    "# Keywords cannot be followed \n",
    "# by positional arguments\n",
    "side_by_side(a=2, 1)      # Won't work.                          "
   ]
  },
  {
   "cell_type": "markdown",
   "id": "9af1626e-b884-4efa-8373-b7ef5b59d08d",
   "metadata": {},
   "source": [
    "However, **positional** arguments cannot follow **keywords**.\\\n",
    "This is because keywords don't properly count as taking up a position in the function, hence the function is unable to determine the position of any positional arguments after the keyword."
   ]
  },
  {
   "cell_type": "code",
   "execution_count": 22,
   "id": "c649143a-aee3-4e1c-b2cf-c28852298e6d",
   "metadata": {},
   "outputs": [
    {
     "data": {
      "text/plain": [
       "' 1| 2| 42'"
      ]
     },
     "execution_count": 22,
     "metadata": {},
     "output_type": "execute_result"
    }
   ],
   "source": [
    "side_by_side(1, 2)           # Two positional, 1 default\n",
    "## ' 1| 2| 42'\n",
    "side_by_side(1, 2, 3)        # Three positional\n",
    "## ' 1| 2| 3'\n",
    "side_by_side(a=1, b=2)       # Two keyword, 1 default\n",
    "## ' 1| 2| 42'\n",
    "side_by_side(c=3, b=1, a=2)  # Three keyword\n",
    "## ' 2| 1| 3'\n",
    "side_by_side(1, c=3, b=2)    # One positional, 2 keyword\n",
    "## ' 1| 2| 3'\n",
    "side_by_side(1, b=2)         # One positional, 1 keyword, 1 default\n",
    "## ' 1| 2| 42'"
   ]
  },
  {
   "cell_type": "code",
   "execution_count": 120,
   "id": "8cb19a0d-77d6-42b2-b02b-9d663bc5208b",
   "metadata": {},
   "outputs": [
    {
     "data": {
      "text/plain": [
       "' 0.500000| 1.500000| 1.000000'"
      ]
     },
     "execution_count": 120,
     "metadata": {},
     "output_type": "execute_result"
    }
   ],
   "source": [
    "side_by_side(0.5, 1.5, 1)"
   ]
  },
  {
   "cell_type": "markdown",
   "id": "15870587-baa9-41ad-8402-204788732f2c",
   "metadata": {},
   "source": [
    "The above illustrates some of the different ways we can combine the 3 styles of passing arguments to a function."
   ]
  },
  {
   "attachments": {},
   "cell_type": "markdown",
   "id": "89e16e82",
   "metadata": {},
   "source": [
    "## 2.2 Docstrings"
   ]
  },
  {
   "cell_type": "markdown",
   "id": "a167b12b-812e-4df7-9da2-069b2ebe9ad2",
   "metadata": {},
   "source": [
    "Python has a **docstring** feature that allows us to document (through a text block) what a function does, inside the function.\\\n",
    "We can add a docstring by sandwiching the desired text within **quotation marks** (**'** or **\"**).\\\n",
    "What this actually does is return a block of text, including the docstring, to give a description of how the function is used, when **help(function_name)** is used (the docstring can actually be anything, and does not necessarily have to be instructional)."
   ]
  },
  {
   "cell_type": "code",
   "execution_count": 31,
   "id": "02e9bce7-b62f-42fd-ac13-d70bc719640e",
   "metadata": {},
   "outputs": [],
   "source": [
    "def side_by_side(a, b, c=42):\n",
    "    '''\n",
    "    A test function to demonstrate how \n",
    "    positional, keyword and default arguments \n",
    "    work.\n",
    "    '''\n",
    "    return f'{a: 2d}|{b: 2d}|{c: 2d}'"
   ]
  },
  {
   "cell_type": "code",
   "execution_count": 32,
   "id": "895fd6bd-b5ce-457b-8ae4-3d35eb4a75b6",
   "metadata": {},
   "outputs": [
    {
     "name": "stdout",
     "output_type": "stream",
     "text": [
      "Help on function side_by_side in module __main__:\n",
      "\n",
      "side_by_side(a, b, c=42)\n",
      "    A test function to demonstrate how\n",
      "    positional, keyword and default arguments\n",
      "    work.\n",
      "\n"
     ]
    }
   ],
   "source": [
    "help(side_by_side)"
   ]
  },
  {
   "cell_type": "markdown",
   "id": "69bd0748-26d3-4fa3-afa5-bdae5116de69",
   "metadata": {},
   "source": [
    "Docstrings **can** be used for writing **multiline comments** (comments that take up multiple lines), but the practice is generally frowned upon."
   ]
  },
  {
   "attachments": {},
   "cell_type": "markdown",
   "id": "6e6a73c4",
   "metadata": {},
   "source": [
    "## 2.3 Function are first-class citizens"
   ]
  },
  {
   "cell_type": "markdown",
   "id": "3e13d77a-76bd-4511-ac4b-426942cd13b5",
   "metadata": {},
   "source": [
    "We can **pass a function as an argument to another function**.\\\n",
    "This is because functions have the same privileges as variables in Python."
   ]
  },
  {
   "cell_type": "code",
   "execution_count": 68,
   "id": "691f86f9-8032-4719-8f4b-03bf17dae4ef",
   "metadata": {},
   "outputs": [
    {
     "data": {
      "text/plain": [
       "np.float64(-1.0)"
      ]
     },
     "execution_count": 68,
     "metadata": {},
     "output_type": "execute_result"
    }
   ],
   "source": [
    "import numpy as np\n",
    "def my_function(angle, trig_function):\n",
    "        return trig_function(angle)\n",
    "\n",
    "# Let's use the function\n",
    "my_function(np.pi/2, np.sin)        \n",
    "## 1.0\n",
    "my_function(np.pi/2, np.cos)        \n",
    "## 6.123233995736766e-17\n",
    "my_function(np.pi/2, lambda x: np.cos(2*x))\n",
    "## -1.0"
   ]
  },
  {
   "cell_type": "code",
   "execution_count": 84,
   "id": "54fbc0bc-e85b-4553-af15-de516264291c",
   "metadata": {},
   "outputs": [],
   "source": [
    "min_xian = lambda a: lambda b: a + b"
   ]
  },
  {
   "cell_type": "code",
   "execution_count": 1,
   "id": "acdf792f-1b7a-4b50-8659-e31f63d5bf4f",
   "metadata": {},
   "outputs": [
    {
     "ename": "NameError",
     "evalue": "name 'np' is not defined",
     "output_type": "error",
     "traceback": [
      "\u001b[1;31m---------------------------------------------------------------------------\u001b[0m",
      "\u001b[1;31mNameError\u001b[0m                                 Traceback (most recent call last)",
      "Cell \u001b[1;32mIn[1], line 1\u001b[0m\n\u001b[1;32m----> 1\u001b[0m (\u001b[38;5;28;01mlambda\u001b[39;00m x: np\u001b[38;5;241m.\u001b[39mcos(\u001b[38;5;241m2\u001b[39m\u001b[38;5;241m*\u001b[39mx))(\u001b[43mnp\u001b[49m\u001b[38;5;241m.\u001b[39mpi\u001b[38;5;241m/\u001b[39m\u001b[38;5;241m2\u001b[39m)\n",
      "\u001b[1;31mNameError\u001b[0m: name 'np' is not defined"
     ]
    }
   ],
   "source": [
    "(lambda x: np.cos(2*x))(np.pi/2)"
   ]
  },
  {
   "cell_type": "code",
   "execution_count": 90,
   "id": "1321cc02-d111-432e-93b1-d9d03353bc18",
   "metadata": {},
   "outputs": [],
   "source": [
    "add_5 = min_xian(5)"
   ]
  },
  {
   "cell_type": "code",
   "execution_count": 86,
   "id": "78f657cc-9c86-4979-a839-8b08b8c8f85b",
   "metadata": {},
   "outputs": [
    {
     "data": {
      "text/plain": [
       "13"
      ]
     },
     "execution_count": 86,
     "metadata": {},
     "output_type": "execute_result"
    }
   ],
   "source": [
    "add_3(10)"
   ]
  },
  {
   "cell_type": "code",
   "execution_count": 87,
   "id": "7994f258-8b1c-4b75-9653-dbe440446ffb",
   "metadata": {},
   "outputs": [
    {
     "data": {
      "text/plain": [
       "18"
      ]
     },
     "execution_count": 87,
     "metadata": {},
     "output_type": "execute_result"
    }
   ],
   "source": [
    "add_3(15)"
   ]
  },
  {
   "cell_type": "code",
   "execution_count": 88,
   "id": "8c7b4a79-756a-4a24-87d2-fd7c8f557063",
   "metadata": {},
   "outputs": [
    {
     "data": {
      "text/plain": [
       "4"
      ]
     },
     "execution_count": 88,
     "metadata": {},
     "output_type": "execute_result"
    }
   ],
   "source": [
    "add_3(1)"
   ]
  },
  {
   "cell_type": "code",
   "execution_count": 92,
   "id": "a58ed9ba-3223-4684-b8d6-a4cfcb2cc8a1",
   "metadata": {},
   "outputs": [
    {
     "name": "stdout",
     "output_type": "stream",
     "text": [
      "Help on built-in function sorted in module builtins:\n",
      "\n",
      "sorted(iterable, /, *, key=None, reverse=False)\n",
      "    Return a new list containing all items from the iterable in ascending order.\n",
      "\n",
      "    A custom key function can be supplied to customize the sort order, and the\n",
      "    reverse flag can be set to request the result in descending order.\n",
      "\n"
     ]
    }
   ],
   "source": [
    "help(sorted)"
   ]
  },
  {
   "cell_type": "code",
   "execution_count": 114,
   "id": "a6047fd2-74aa-47af-bbbc-f81c009c4f27",
   "metadata": {},
   "outputs": [
    {
     "data": {
      "text/plain": [
       "['!H', 'a', 'b', 'B', 'c', 'cc', 'Cc', 'ccc', 'd', 'e']"
      ]
     },
     "execution_count": 114,
     "metadata": {},
     "output_type": "execute_result"
    }
   ],
   "source": [
    "my_list = ['a', 'b', 'c', 'd', 'e', 'cc', \"Cc\", \"B\", \"!H\", 'ccc']\n",
    "sorted(my_list, key = lambda x : x.upper())"
   ]
  },
  {
   "cell_type": "code",
   "execution_count": null,
   "id": "f26f9047-6550-41ae-ba75-eff4acb16050",
   "metadata": {},
   "outputs": [],
   "source": []
  },
  {
   "cell_type": "code",
   "execution_count": null,
   "id": "e7dc26e1-7dae-41a3-a816-f7339039a341",
   "metadata": {},
   "outputs": [],
   "source": []
  },
  {
   "cell_type": "code",
   "execution_count": 98,
   "id": "29946c4b-00f2-4110-8800-37ea8f9ac6ba",
   "metadata": {},
   "outputs": [
    {
     "ename": "NameError",
     "evalue": "name 'Length' is not defined",
     "output_type": "error",
     "traceback": [
      "\u001b[1;31m---------------------------------------------------------------------------\u001b[0m",
      "\u001b[1;31mNameError\u001b[0m                                 Traceback (most recent call last)",
      "Cell \u001b[1;32mIn[98], line 1\u001b[0m\n\u001b[1;32m----> 1\u001b[0m help(\u001b[38;5;28msorted\u001b[39m, key\u001b[38;5;241m=\u001b[39m\u001b[43mLength\u001b[49m)\n",
      "\u001b[1;31mNameError\u001b[0m: name 'Length' is not defined"
     ]
    }
   ],
   "source": [
    "help(sorted, key=)"
   ]
  },
  {
   "cell_type": "code",
   "execution_count": 111,
   "id": "8e80de57-6dac-46b2-89de-ffd18bfca57e",
   "metadata": {},
   "outputs": [
    {
     "data": {
      "text/plain": [
       "['a', 'b', 'c', 'd', 'e', 'B', 'cc', 'Cc', '!H', 'ccc']"
      ]
     },
     "execution_count": 111,
     "metadata": {},
     "output_type": "execute_result"
    }
   ],
   "source": [
    "sorted(my_list, key = len)"
   ]
  },
  {
   "cell_type": "code",
   "execution_count": 103,
   "id": "2124d123-df0f-489f-bb90-0803600f3472",
   "metadata": {},
   "outputs": [
    {
     "data": {
      "text/plain": [
       "<function len(obj, /)>"
      ]
     },
     "execution_count": 103,
     "metadata": {},
     "output_type": "execute_result"
    }
   ],
   "source": [
    "len"
   ]
  },
  {
   "cell_type": "code",
   "execution_count": null,
   "id": "3f45107f-26f5-45e3-aec2-3b024e11fe1b",
   "metadata": {},
   "outputs": [],
   "source": []
  },
  {
   "cell_type": "code",
   "execution_count": 102,
   "id": "9353f244-8e33-466b-961c-302bbe7dd1c9",
   "metadata": {},
   "outputs": [
    {
     "data": {
      "text/plain": [
       "5"
      ]
     },
     "execution_count": 102,
     "metadata": {},
     "output_type": "execute_result"
    }
   ],
   "source": [
    "len(\"hello\")"
   ]
  },
  {
   "cell_type": "code",
   "execution_count": null,
   "id": "cd986572-ad77-4d71-ae01-fead309ea463",
   "metadata": {},
   "outputs": [],
   "source": []
  },
  {
   "cell_type": "code",
   "execution_count": null,
   "id": "e74f4bc1-2185-47d8-845d-f00f16a2eb6c",
   "metadata": {},
   "outputs": [],
   "source": []
  },
  {
   "cell_type": "code",
   "execution_count": 80,
   "id": "3835429b-b38a-4dae-82e5-36043ea8634f",
   "metadata": {},
   "outputs": [],
   "source": [
    "def min_xian(a,b):\n",
    "    return a + b"
   ]
  },
  {
   "cell_type": "code",
   "execution_count": 77,
   "id": "d2edf1f2-d32a-429c-863b-069c4a01c4e2",
   "metadata": {},
   "outputs": [],
   "source": [
    "def null(x):\n",
    "    return np.cos(2*x)"
   ]
  },
  {
   "cell_type": "code",
   "execution_count": 74,
   "id": "bd72e38f-9ea3-4cb5-b07c-e30ad5c5bbe0",
   "metadata": {},
   "outputs": [
    {
     "name": "stdout",
     "output_type": "stream",
     "text": [
      "hello\n"
     ]
    }
   ],
   "source": [
    "a = print\n",
    "a(\"hello\")"
   ]
  },
  {
   "cell_type": "code",
   "execution_count": null,
   "id": "e10ea629-13e2-4d91-ace8-31c3b8f0dbc5",
   "metadata": {},
   "outputs": [],
   "source": [
    "my_function(50, lambda x: x + 1)"
   ]
  },
  {
   "cell_type": "code",
   "execution_count": 57,
   "id": "623928b9-ee5b-4502-9121-3ca60ed43769",
   "metadata": {},
   "outputs": [
    {
     "data": {
      "text/plain": [
       "np.float64(-1.0)"
      ]
     },
     "execution_count": 57,
     "metadata": {},
     "output_type": "execute_result"
    }
   ],
   "source": [
    "my_function(np.pi/2, lambda x: np.cos(2*x))  "
   ]
  },
  {
   "cell_type": "code",
   "execution_count": 64,
   "id": "14024cf7-6867-4b9a-937c-42fcb61f1dfa",
   "metadata": {},
   "outputs": [
    {
     "data": {
      "text/plain": [
       "6"
      ]
     },
     "execution_count": 64,
     "metadata": {},
     "output_type": "execute_result"
    }
   ],
   "source": [
    "triple = lambda x: x*3\n",
    "triple(2)"
   ]
  },
  {
   "cell_type": "code",
   "execution_count": 71,
   "id": "53a129ef-8c6e-49d6-b112-dce8ee5a88c2",
   "metadata": {},
   "outputs": [
    {
     "data": {
      "text/plain": [
       "6"
      ]
     },
     "execution_count": 71,
     "metadata": {},
     "output_type": "execute_result"
    }
   ],
   "source": [
    "(lambda x: x*3)(2)"
   ]
  },
  {
   "cell_type": "code",
   "execution_count": 67,
   "id": "ad289789-cf75-4a28-876c-4de68a8c2f8d",
   "metadata": {},
   "outputs": [
    {
     "data": {
      "text/plain": [
       "np.float64(-1.0)"
      ]
     },
     "execution_count": 67,
     "metadata": {},
     "output_type": "execute_result"
    }
   ],
   "source": [
    "np.cos(2*np.pi/2)"
   ]
  },
  {
   "cell_type": "code",
   "execution_count": 73,
   "id": "4ffe7ea6-e044-4c34-b6a2-f9c936adf9c1",
   "metadata": {},
   "outputs": [
    {
     "data": {
      "text/plain": [
       "<function print(*args, sep=' ', end='\\n', file=None, flush=False)>"
      ]
     },
     "execution_count": 73,
     "metadata": {},
     "output_type": "execute_result"
    }
   ],
   "source": [
    "print"
   ]
  },
  {
   "cell_type": "markdown",
   "id": "71509ff7-110b-4436-9433-fb82ea5afa95",
   "metadata": {},
   "source": [
    "Here, both **angle** and **trig_function** are **parameters/arguments** to my_function().\\\n",
    "While we would normally assign a **value** to an argument, we can also assign **another function** to the argument.\\\n",
    "In this case, we are assigning the functions **np.sin()**, **np.cos()**, or **np.tan()** to the argument **trig_function**. We remove the parenthesis when we do this.\\\n"
   ]
  },
  {
   "cell_type": "markdown",
   "id": "bd543f27-3317-4f12-892f-0f6040377d0e",
   "metadata": {},
   "source": [
    "**NOTE:** Trigonometric functions in Python such as **np.sin()** take values in **radians, not degrees**. We can use np.pi for the value of $\\pi$. Note that np.pi is a number, not a function."
   ]
  },
  {
   "attachments": {},
   "cell_type": "markdown",
   "id": "fe5b5785",
   "metadata": {
    "jp-MarkdownHeadingCollapsed": true
   },
   "source": [
    "## 2.4 More about unpacking"
   ]
  }
 ],
 "metadata": {
  "kernelspec": {
   "display_name": "Python 3 (ipykernel)",
   "language": "python",
   "name": "python3"
  },
  "language_info": {
   "codemirror_mode": {
    "name": "ipython",
    "version": 3
   },
   "file_extension": ".py",
   "mimetype": "text/x-python",
   "name": "python",
   "nbconvert_exporter": "python",
   "pygments_lexer": "ipython3",
   "version": "3.12.3"
  },
  "toc": {
   "base_numbering": 1,
   "nav_menu": {},
   "number_sections": true,
   "sideBar": true,
   "skip_h1_title": false,
   "title_cell": "Table of Contents",
   "title_sidebar": "Contents",
   "toc_cell": false,
   "toc_position": {},
   "toc_section_display": true,
   "toc_window_display": false
  },
  "vscode": {
   "interpreter": {
    "hash": "31f2aee4e71d21fbe5cf8b01ff0e069b9275f58929596ceb00d14d90e3e16cd6"
   }
  }
 },
 "nbformat": 4,
 "nbformat_minor": 5
}
