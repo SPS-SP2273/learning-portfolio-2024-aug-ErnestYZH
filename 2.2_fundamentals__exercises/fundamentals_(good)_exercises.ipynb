{
 "cells": [
  {
   "attachments": {},
   "cell_type": "markdown",
   "id": "123456",
   "metadata": {},
   "source": [
    "<div style=\"text-align:left;font-size:2em\"><span style=\"font-weight:bolder;font-size:1.25em\">SP2273 | Learning Portfolio</span><br><br><span style=\"font-weight:bold;color:darkred\">Fundamentals (Good) Exercises</span></div>"
   ]
  },
  {
   "cell_type": "markdown",
   "id": "dcef8677-71c6-4dff-a805-39bd7e3e7476",
   "metadata": {},
   "source": [
    "**Exercise 1 (f-strings to the rescue)**"
   ]
  },
  {
   "cell_type": "code",
   "execution_count": 7,
   "id": "4f2c72ea-6213-4330-9aa3-ed0c5357f804",
   "metadata": {},
   "outputs": [
    {
     "name": "stdin",
     "output_type": "stream",
     "text": [
      "What is your name? ernest\n"
     ]
    },
    {
     "name": "stdout",
     "output_type": "stream",
     "text": [
      "How you doin \u001b[1mERNEST\u001b[0m!\n"
     ]
    }
   ],
   "source": [
    "name = input('What is your name?')\n",
    "print(f'How you doin \\033[1m{name.upper()}\\033[0m!')"
   ]
  },
  {
   "cell_type": "code",
   "execution_count": 8,
   "id": "eac98108-d5eb-4c9f-9682-5c78797af52f",
   "metadata": {},
   "outputs": [
    {
     "name": "stdin",
     "output_type": "stream",
     "text": [
      "What is your name? ernest\n",
      "What is your age? 22\n"
     ]
    },
    {
     "name": "stdout",
     "output_type": "stream",
     "text": [
      "My name is \u001b[1mERNEST\u001b[0m and I am \u001b[1m22\u001b[0m years old.\n"
     ]
    }
   ],
   "source": [
    "name = input('What is your name?')\n",
    "age = input('What is your age?')\n",
    "print(f'My name is \\033[1m{name.upper()}\\033[0m and I am \\033[1m{age.upper()}\\033[0m years old.')"
   ]
  },
  {
   "cell_type": "code",
   "execution_count": 13,
   "id": "422e1c99-5180-42de-bb4c-8ba91e7f9210",
   "metadata": {},
   "outputs": [
    {
     "name": "stdout",
     "output_type": "stream",
     "text": [
      "The value of pi to 2 decimal places is: 3.14\n",
      "The value of pi to 3 decimal places is: 3.142\n",
      "The value of pi to 4 decimal places is: 3.1416\n"
     ]
    }
   ],
   "source": [
    "pi = 3.141592653689793\n",
    "print(f'The value of pi to 2 decimal places is: {pi:.2f}')\n",
    "print(f'The value of pi to 3 decimal places is: {pi:.3f}')\n",
    "print(f'The value of pi to 4 decimal places is: {pi:.4f}')"
   ]
  },
  {
   "cell_type": "markdown",
   "id": "20ca7baa-cdc3-4eb9-8e19-d240c34b16da",
   "metadata": {},
   "source": [
    "| **Fruit** | **Price** |\n",
    "|:--:|:--:|\n",
    "| Apple     | \\$0.99     |\n",
    "| Banana    | \\$0.59     |\n",
    "| Orange    | \\$1.29     |"
   ]
  },
  {
   "cell_type": "code",
   "execution_count": 37,
   "id": "790b5f22-b657-4497-b49c-2ce63394aaa2",
   "metadata": {},
   "outputs": [
    {
     "name": "stdout",
     "output_type": "stream",
     "text": [
      "Apple      $ 0.99\n",
      "Banana     $ 0.59\n",
      "Orange     $ 1.29\n",
      "********** $*****\n"
     ]
    }
   ],
   "source": [
    "apple = '$ 0.99'\n",
    "banana = '$ 0.59'\n",
    "orange = '$ 1.29'\n",
    "print(f'{'Apple':<10} {apple:>5}') # Code works without aligning price to the right as well\n",
    "print(f'{'Banana':<10} {banana:>5}')\n",
    "print(f'{'Orange':<10} {orange:>5}')\n",
    "print(f'{'**********':<10} {'$*****':>5}') # Could have simply printed the asterisks directly, but aligned for uniformity"
   ]
  },
  {
   "cell_type": "markdown",
   "id": "e735d459-a42b-45b4-9af5-1118344bf2df",
   "metadata": {},
   "source": [
    "**Exercise 2 (What is your grade?)**"
   ]
  },
  {
   "cell_type": "markdown",
   "id": "5a4cac70-adc4-42f0-9e21-1371d9556db2",
   "metadata": {},
   "source": [
    "| **Grade** | **Score Range** |\n",
    "|-----------|-----------------|\n",
    "| A         | 70 - 100        |\n",
    "| B         | 50 - 69         |\n",
    "| C         | 35 - 49         |\n",
    "| Fail      | 0 - 34          |"
   ]
  },
  {
   "cell_type": "code",
   "execution_count": 4,
   "id": "8e668ae5-38ed-4add-b757-d350c66d7561",
   "metadata": {},
   "outputs": [
    {
     "name": "stdin",
     "output_type": "stream",
     "text": [
      "Enter the student's score: 101\n"
     ]
    },
    {
     "name": "stdout",
     "output_type": "stream",
     "text": [
      "You have entered an invalid score!\n"
     ]
    }
   ],
   "source": [
    "user_input = input(\"Enter the student's score:\")\n",
    "score = int(user_input)\n",
    "if 70 <= score <= 100:\n",
    "    grade = 'A'\n",
    "elif 50 <= score <= 69:\n",
    "    grade = 'B'\n",
    "elif 35 <= score <= 49:\n",
    "    grade = 'C'\n",
    "elif 0 <= score <= 34:\n",
    "    grade = 'Fail'\n",
    "\n",
    "if 0 <= score <= 100:\n",
    "    print(f\"The student's letter grade is: {grade}\")\n",
    "else:\n",
    "    print(\"You have entered an invalid score!\")"
   ]
  },
  {
   "cell_type": "markdown",
   "id": "602322e7-e808-4e11-a676-7ce609f9868e",
   "metadata": {},
   "source": [
    "**Exercise 3 (Debugging Code)**"
   ]
  },
  {
   "cell_type": "code",
   "execution_count": 14,
   "id": "a7dc166d-2b86-423a-b088-8e417b4c7c6a",
   "metadata": {},
   "outputs": [
    {
     "name": "stdout",
     "output_type": "stream",
     "text": [
      "120\n",
      "Invalid input\n"
     ]
    }
   ],
   "source": [
    "def factorial(n):\n",
    "    if n < 0:                   # Error 1: Factorials of negative numbers are undefined, hence negative numbers are invalid inputs\n",
    "        return \"Invalid input\"\n",
    "    elif n == 0:                # Error 2: The factorial of 0 is 1, hence inputting 0 should return a value of 1\n",
    "        return 1\n",
    "    else:\n",
    "        result = 1\n",
    "        for number in range(1, n+1):\n",
    "            result *= number    # Error 3: Numbers in the range should be multiplied instead of added\n",
    "        return result\n",
    "\n",
    "\n",
    "print(factorial(5))   # Testing, expected output: 120\n",
    "print(factorial(-1))  # Testing, expected output: Invalid input"
   ]
  }
 ],
 "metadata": {
  "kernelspec": {
   "display_name": "Python 3 (ipykernel)",
   "language": "python",
   "name": "python3"
  },
  "language_info": {
   "codemirror_mode": {
    "name": "ipython",
    "version": 3
   },
   "file_extension": ".py",
   "mimetype": "text/x-python",
   "name": "python",
   "nbconvert_exporter": "python",
   "pygments_lexer": "ipython3",
   "version": "3.12.3"
  },
  "toc": {
   "base_numbering": 1,
   "nav_menu": {},
   "number_sections": true,
   "sideBar": true,
   "skip_h1_title": false,
   "title_cell": "Table of Contents",
   "title_sidebar": "Contents",
   "toc_cell": false,
   "toc_position": {},
   "toc_section_display": true,
   "toc_window_display": false
  },
  "vscode": {
   "interpreter": {
    "hash": "31f2aee4e71d21fbe5cf8b01ff0e069b9275f58929596ceb00d14d90e3e16cd6"
   }
  }
 },
 "nbformat": 4,
 "nbformat_minor": 5
}
