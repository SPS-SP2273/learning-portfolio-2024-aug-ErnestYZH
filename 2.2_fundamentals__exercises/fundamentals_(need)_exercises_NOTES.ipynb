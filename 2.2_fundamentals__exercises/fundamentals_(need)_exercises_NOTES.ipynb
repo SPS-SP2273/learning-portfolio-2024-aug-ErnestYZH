{
 "cells": [
  {
   "attachments": {},
   "cell_type": "markdown",
   "id": "123456",
   "metadata": {},
   "source": [
    "<div style=\"text-align:left;font-size:2em\"><span style=\"font-weight:bolder;font-size:1.25em\">SP2273 | Learning Portfolio</span><br><br><span style=\"font-weight:bold;color:darkred\">Fundamentals (Need) Exercises</span></div>"
   ]
  },
  {
   "cell_type": "markdown",
   "id": "d5edff53-fc5e-46ab-93d8-effa8a5db87e",
   "metadata": {},
   "source": [
    "**Exercise 1 (Total Recall)**"
   ]
  },
  {
   "cell_type": "markdown",
   "id": "bcff1257-203a-426c-b361-dcb714d92209",
   "metadata": {},
   "source": [
    "print()\\\n",
    "if:\\\n",
    "elif:\\\n",
    "else:\\\n",
    "sqrt()\\\n",
    "*exit()*\\\n",
    "*split()*\\\n",
    "*array()*\\\n",
    "*#*\\\n",
    "*=*\\\n",
    "*==*\\\n",
    "*()*\\\n",
    "*[]*\\\n",
    "*{}*\\\n",
    "*packages*"
   ]
  },
  {
   "cell_type": "markdown",
   "id": "75bfc8cd-aa48-4564-902c-1e1c9c4ccc2a",
   "metadata": {},
   "source": [
    "**Exercise 2 (Debug me)**"
   ]
  },
  {
   "cell_type": "code",
   "execution_count": 23,
   "id": "7f17912a-79ab-4829-a778-fb672fd764fb",
   "metadata": {},
   "outputs": [
    {
     "name": "stdout",
     "output_type": "stream",
     "text": [
      "3 4 5\n"
     ]
    }
   ],
   "source": [
    "import math\n",
    "x, y = 3, 4\n",
    "z = int(math.sqrt(x**2 + y**2))\n",
    "print(x, y, z)"
   ]
  },
  {
   "cell_type": "markdown",
   "id": "0609f064-3da9-4789-a3f1-41e82d65262e",
   "metadata": {},
   "source": [
    "**Exercise 3 (In your own words)**"
   ]
  },
  {
   "cell_type": "markdown",
   "id": "d513a734-1faf-4e87-b004-12607dd77c27",
   "metadata": {},
   "source": [
    "| **#** | **Term**     | **Description** |\n",
    "|:--:|:--|:--:|\n",
    "| 1     | Function     |A function is a block of code that performs a specific task when it is called, via **function_name()**. We can define functions using the **def** keyword. We can also pass information to a function using **arguments/parameters**                 |\n",
    "| 2     | Arguments    |An argument is what you put in the parentheses after a function, and serves as a method to pass information to a function. An alternative name for arguments is **parameters**                 |\n",
    "| 3     | Comments     |Comments are ignored by python and follows a #                 |\n",
    "| 4     | Indentations |Indentations are spaces used together with colons '**:**' to designate a block of code. They are typically used to designate a block of code under **if statements** and **for/while loops**                  |\n",
    "| 5     | Packages     |Packages are a collection of modules that allows you to use new functions, and must be imported at the start of the code                 |\n",
    "| 6     | .            |A dot represents ownership, showing that the function belongs to a particular module                 |\n",
    "| 7     | :            |In addition to the above uses described when paired with **indentations**, colons are also used to assign **key : value** pairs in dictionaries                 |\n",
    "| 8     | []           |Square Brackets are used for lists of data                 |\n",
    "| 9     | [[],[]]      |Used for lists of data in higher dimensions                 |\n",
    "| 10    | {}           |Used to store data in a dictionary                 |"
   ]
  },
  {
   "cell_type": "markdown",
   "id": "1d99ff57-94db-4dfe-bdfc-f860180147b8",
   "metadata": {},
   "source": [
    "**Exercise 4 (More than one way to divide)**"
   ]
  },
  {
   "cell_type": "code",
   "execution_count": 31,
   "id": "cb9dc99b-eaf6-49cb-af8e-30ad4b3df063",
   "metadata": {},
   "outputs": [
    {
     "data": {
      "text/plain": [
       "2.5"
      ]
     },
     "execution_count": 31,
     "metadata": {},
     "output_type": "execute_result"
    }
   ],
   "source": [
    "5/2 # Divides the 2 numbers "
   ]
  },
  {
   "cell_type": "code",
   "execution_count": 32,
   "id": "cbd92bd0-2878-4897-87e6-af9e728d4cf3",
   "metadata": {},
   "outputs": [
    {
     "data": {
      "text/plain": [
       "2"
      ]
     },
     "execution_count": 32,
     "metadata": {},
     "output_type": "execute_result"
    }
   ],
   "source": [
    "5//2 # Divides the 2 numbers, returns the quotient, and discards the remainder"
   ]
  },
  {
   "cell_type": "code",
   "execution_count": 34,
   "id": "e87e823a-f7f4-4013-87a5-c424600b14f5",
   "metadata": {},
   "outputs": [
    {
     "data": {
      "text/plain": [
       "1"
      ]
     },
     "execution_count": 34,
     "metadata": {},
     "output_type": "execute_result"
    }
   ],
   "source": [
    "5%2 # Divides the 2 numbers and returns the remainder"
   ]
  }
 ],
 "metadata": {
  "kernelspec": {
   "display_name": "Python 3 (ipykernel)",
   "language": "python",
   "name": "python3"
  },
  "language_info": {
   "codemirror_mode": {
    "name": "ipython",
    "version": 3
   },
   "file_extension": ".py",
   "mimetype": "text/x-python",
   "name": "python",
   "nbconvert_exporter": "python",
   "pygments_lexer": "ipython3",
   "version": "3.12.3"
  },
  "toc": {
   "base_numbering": 1,
   "nav_menu": {},
   "number_sections": true,
   "sideBar": true,
   "skip_h1_title": false,
   "title_cell": "Table of Contents",
   "title_sidebar": "Contents",
   "toc_cell": false,
   "toc_position": {},
   "toc_section_display": true,
   "toc_window_display": false
  },
  "vscode": {
   "interpreter": {
    "hash": "31f2aee4e71d21fbe5cf8b01ff0e069b9275f58929596ceb00d14d90e3e16cd6"
   }
  }
 },
 "nbformat": 4,
 "nbformat_minor": 5
}
