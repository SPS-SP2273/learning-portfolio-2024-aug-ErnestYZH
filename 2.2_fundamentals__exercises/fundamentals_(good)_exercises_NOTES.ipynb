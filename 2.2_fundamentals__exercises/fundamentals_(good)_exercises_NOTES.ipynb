{
 "cells": [
  {
   "attachments": {},
   "cell_type": "markdown",
   "id": "123456",
   "metadata": {},
   "source": [
    "<div style=\"text-align:left;font-size:2em\"><span style=\"font-weight:bolder;font-size:1.25em\">SP2273 | Learning Portfolio</span><br><br><span style=\"font-weight:bold;color:darkred\">Fundamentals (Good) Exercises</span></div>"
   ]
  },
  {
   "cell_type": "markdown",
   "id": "dcef8677-71c6-4dff-a805-39bd7e3e7476",
   "metadata": {},
   "source": [
    "**Exercise 1 (f-strings to the rescue)**"
   ]
  },
  {
   "cell_type": "markdown",
   "id": "7ce317c2-648c-48bc-b755-83f75b548744",
   "metadata": {},
   "source": [
    "The input given by the user is assigned to the variable **name**.\\\n",
    "We can print out the value assigned to the variable together with other words using a **f-string**.\\\n",
    "We can also use **f-string formatting** to apply formatting to the printed variable.\\\n",
    "In the below example, the variable **name** is formatted to be **BOLD**.\\\n",
    "Functions can also be called in f-strings, such as using **name.upper()** to return the variable in Uppercase."
   ]
  },
  {
   "cell_type": "code",
   "execution_count": 1,
   "id": "4f2c72ea-6213-4330-9aa3-ed0c5357f804",
   "metadata": {},
   "outputs": [
    {
     "name": "stdin",
     "output_type": "stream",
     "text": [
      "What is your name? ernest\n"
     ]
    },
    {
     "name": "stdout",
     "output_type": "stream",
     "text": [
      "How you doin \u001b[1mERNEST\u001b[0m!\n"
     ]
    }
   ],
   "source": [
    "name = input('What is your name?')\n",
    "print(f'How you doin \\033[1m{name.upper()}\\033[0m!')"
   ]
  },
  {
   "cell_type": "markdown",
   "id": "7b0fa360-0dac-469c-ac89-fdfc4f4373b4",
   "metadata": {},
   "source": [
    "**Multiple variables** can be used in f-strings."
   ]
  },
  {
   "cell_type": "code",
   "execution_count": 8,
   "id": "eac98108-d5eb-4c9f-9682-5c78797af52f",
   "metadata": {},
   "outputs": [
    {
     "name": "stdin",
     "output_type": "stream",
     "text": [
      "What is your name? ernest\n",
      "What is your age? 22\n"
     ]
    },
    {
     "name": "stdout",
     "output_type": "stream",
     "text": [
      "My name is \u001b[1mERNEST\u001b[0m and I am \u001b[1m22\u001b[0m years old.\n"
     ]
    }
   ],
   "source": [
    "name = input('What is your name?')\n",
    "age = input('What is your age?')\n",
    "print(f'My name is \\033[1m{name.upper()}\\033[0m and I am \\033[1m{age.upper()}\\033[0m years old.')"
   ]
  },
  {
   "cell_type": "markdown",
   "id": "3f24307d-a6d1-4730-8216-1310a6678354",
   "metadata": {},
   "source": [
    "Further use of **f-string formatting** to turn the variable **pi** into floats with different no. of decimal places."
   ]
  },
  {
   "cell_type": "code",
   "execution_count": 3,
   "id": "422e1c99-5180-42de-bb4c-8ba91e7f9210",
   "metadata": {},
   "outputs": [
    {
     "name": "stdout",
     "output_type": "stream",
     "text": [
      "The value of pi to 2 decimal places is: 3.14\n",
      "The value of pi to 3 decimal places is: 3.142\n",
      "The value of pi to 4 decimal places is: 3.1416\n"
     ]
    }
   ],
   "source": [
    "pi = 3.141592653689793\n",
    "print(f'The value of pi to 2 decimal places is: {pi:.2f}')\n",
    "print(f'The value of pi to 3 decimal places is: {pi:.3f}')\n",
    "print(f'The value of pi to 4 decimal places is: {pi:.4f}')"
   ]
  },
  {
   "cell_type": "markdown",
   "id": "20ca7baa-cdc3-4eb9-8e19-d240c34b16da",
   "metadata": {},
   "source": [
    "| **Fruit** | **Price** |\n",
    "|:--:|:--:|\n",
    "| Apple     | \\$0.99     |\n",
    "| Banana    | \\$0.59     |\n",
    "| Orange    | \\$1.29     |"
   ]
  },
  {
   "cell_type": "markdown",
   "id": "5b68c1a6-a007-44f4-8920-cd7c72e55b85",
   "metadata": {},
   "source": [
    "Further use of **f-string formatting** for alignment.\\\n",
    "Also showing that **f-string formatting** can be used anything in the string, on top of just variables."
   ]
  },
  {
   "cell_type": "code",
   "execution_count": 7,
   "id": "790b5f22-b657-4497-b49c-2ce63394aaa2",
   "metadata": {},
   "outputs": [
    {
     "name": "stdout",
     "output_type": "stream",
     "text": [
      "Apple      $ 0.99\n",
      "Banana     $ 0.59\n",
      "Orange     $ 1.29\n",
      "********** $*****\n"
     ]
    }
   ],
   "source": [
    "apple = '$ 0.99'\n",
    "banana = '$ 0.59'\n",
    "orange = '$ 1.29'\n",
    "print(f'{'Apple':<10} {apple:>5}') # Code works without aligning price to the right as well\n",
    "print(f'{'Banana':<10} {banana:>5}')\n",
    "print(f'{'Orange':<10} {orange:>5}')\n",
    "print(f'{'**********':<10} {'$*****':>5}') # Could have simply printed the asterisks directly, but aligned for uniformity"
   ]
  },
  {
   "cell_type": "markdown",
   "id": "78e90860-04e2-4019-a0a7-54fad4bedfbd",
   "metadata": {},
   "source": [
    "We can also include the use of **escape sequences** in **f-strings** to obtain the above result."
   ]
  },
  {
   "cell_type": "code",
   "execution_count": 6,
   "id": "8967b8f8-f884-40ed-bf2f-d74bb81fd352",
   "metadata": {},
   "outputs": [
    {
     "name": "stdout",
     "output_type": "stream",
     "text": [
      "Apple      $ 0.99\n",
      "Banana     $ 0.59\n",
      "Orange     $ 1.29\n",
      "********** $*****\n"
     ]
    }
   ],
   "source": [
    "apple = '$ 0.99'\n",
    "banana = '$ 0.59'\n",
    "orange = '$ 1.29'\n",
    "print(f'{'Apple':<10} {apple:>5}\\n{'Banana':<10} {banana:>5}\\n{'Orange':<10} {orange:>5}\\n{'**********':<10} {'$*****':>5}')"
   ]
  },
  {
   "cell_type": "markdown",
   "id": "e735d459-a42b-45b4-9af5-1118344bf2df",
   "metadata": {},
   "source": [
    "**Exercise 2 (What is your grade?)**"
   ]
  },
  {
   "cell_type": "markdown",
   "id": "5a4cac70-adc4-42f0-9e21-1371d9556db2",
   "metadata": {},
   "source": [
    "| **Grade** | **Score Range** |\n",
    "|-----------|-----------------|\n",
    "| A         | 70 - 100        |\n",
    "| B         | 50 - 69         |\n",
    "| C         | 35 - 49         |\n",
    "| Fail      | 0 - 34          |"
   ]
  },
  {
   "cell_type": "code",
   "execution_count": 83,
   "id": "8e668ae5-38ed-4add-b757-d350c66d7561",
   "metadata": {},
   "outputs": [
    {
     "name": "stdin",
     "output_type": "stream",
     "text": [
      "Enter the student's score: 101\n"
     ]
    },
    {
     "name": "stdout",
     "output_type": "stream",
     "text": [
      "Enter the student's score: 101\n",
      "You have entered an invalid score!\n"
     ]
    }
   ],
   "source": [
    "# Original code before review\n",
    "\n",
    "user_input = input(\"Enter the student's score:\")\n",
    "print(f'Enter the student\\'s score: {user_input}')       # Added this line since the input line doesn't show up on GitHub\n",
    "score = int(user_input)                                  # Added to all further solutions of this exercise for clarity on what the input was\n",
    "if 70 <= score <= 100:\n",
    "    grade = 'A'\n",
    "elif 50 <= score <= 69:\n",
    "    grade = 'B'\n",
    "elif 35 <= score <= 49:\n",
    "    grade = 'C'\n",
    "elif 0 <= score <= 34:\n",
    "    grade = 'Fail'\n",
    "\n",
    "if 0 <= score <= 100:\n",
    "    print(f\"The student's letter grade is: {grade}\")\n",
    "else:\n",
    "    print(\"You have entered an invalid score!\")"
   ]
  },
  {
   "cell_type": "code",
   "execution_count": 84,
   "id": "47318837-b2e0-4504-9eab-a70c99425fb2",
   "metadata": {},
   "outputs": [
    {
     "name": "stdin",
     "output_type": "stream",
     "text": [
      "Enter the student's score: 101\n"
     ]
    },
    {
     "name": "stdout",
     "output_type": "stream",
     "text": [
      "Enter the student's score: 101\n",
      "The student's letter grade is: B\n"
     ]
    }
   ],
   "source": [
    "# Code provided by my mentor (Min Xian) after review\n",
    "# In his code, he caught all other possible scenarios when the if and elif conditions weren't met with an else conditional statement at the end\n",
    "# His purpose (i think) is simply to condense the 2 if-elif-else structures into one\n",
    "\n",
    "# However, this presents other errors\n",
    "# If the score input is over 100, the first elif condition is met, causing the grade to be B\n",
    "# If the score is below 0, none of the if or elif conditions are met. Hence, {grade} is undefined.\n",
    "# Since the final print function is outside the if-elif-else structure, it gets executed even though {grade} is undefined, giving a NameError\n",
    "# In addition, every time the else conditional statement is triggered, both the print functions are called\n",
    "\n",
    "user_input = input(\"Enter the student's score:\")\n",
    "print(f'Enter the student\\'s score: {user_input}')\n",
    "score = int(user_input)\n",
    "if 70 <= score <= 100:\n",
    "    grade = 'A'\n",
    "elif 50 <= score:\n",
    "    grade = 'B'\n",
    "elif 35 <= score:\n",
    "    grade = 'C'\n",
    "elif 0 <= score:\n",
    "    grade = 'Fail'\n",
    "else:\n",
    "    print(\"You have entered an invalid score!\")\n",
    "\n",
    "print(f\"The student's letter grade is: {grade}\")"
   ]
  },
  {
   "cell_type": "code",
   "execution_count": 85,
   "id": "f4a16bfd-abd4-4717-a07e-de7ea3147202",
   "metadata": {},
   "outputs": [
    {
     "name": "stdin",
     "output_type": "stream",
     "text": [
      "Enter the student's score: 101\n"
     ]
    },
    {
     "name": "stdout",
     "output_type": "stream",
     "text": [
      "Enter the student's score: 101\n",
      "You have entered an invalid input!\n"
     ]
    }
   ],
   "source": [
    "# My final code, simplifying my original code based on the advice from my mentor\n",
    "# I have used a nested (unsure if correct terminology) if-elif-else structure to place the condition '0 <= score <= 100' at the start\n",
    "# This allows me to shorten the if and elif conditions to be a 1-ended as in my mentor's example\n",
    "# Since the conditional statements are checked in sequence, a higher score will be assigned the correct {grade} before it checks the other conditions\n",
    "\n",
    "user_input = input(\"Enter the student's score:\")\n",
    "print(f'Enter the student\\'s score: {user_input}')\n",
    "score = int(user_input)\n",
    "if 0 <= score <= 100:\n",
    "    if 70 <= score:\n",
    "        grade = 'A'\n",
    "    elif 50 <= score:\n",
    "        grade = 'B'\n",
    "    elif 35 <= score:\n",
    "        grade = 'C'\n",
    "    else:\n",
    "        grade = 'Fail'\n",
    "    print(f\"The student's letter grade is: {grade}\")\n",
    "else:\n",
    "    print('You have entered an invalid input!')"
   ]
  },
  {
   "cell_type": "markdown",
   "id": "e5f3385b-267e-450d-ad8e-44d4d709175c",
   "metadata": {},
   "source": [
    "**Exercise 2 (What is your grade?) Extra Practice**"
   ]
  },
  {
   "cell_type": "markdown",
   "id": "f649f101-444a-40f3-aade-fce71e2e8362",
   "metadata": {},
   "source": [
    "Just for fun, I decided to experiment on how I can give my own error message when the user input is not an integer.\\\n",
    "I have found 2 ways to do so as shown below."
   ]
  },
  {
   "cell_type": "code",
   "execution_count": 91,
   "id": "b7cb76db-85da-4827-ab6e-627e3975502c",
   "metadata": {},
   "outputs": [
    {
     "name": "stdin",
     "output_type": "stream",
     "text": [
      "Enter the student's score: 0.1\n"
     ]
    },
    {
     "name": "stdout",
     "output_type": "stream",
     "text": [
      "Enter the student's score: 0.1\n",
      "You have entered an invalid input!\n"
     ]
    }
   ],
   "source": [
    "# Just my above code with the try-except syntax learnt in functions_(good)\n",
    "try:\n",
    "    user_input = input(\"Enter the student's score:\")\n",
    "    score = int(user_input)\n",
    "    print(f'Enter the student\\'s score: {user_input}')       # For this particular solution, added this line after int(user_input)\n",
    "    if 0 <= score <= 100:                                    # This is so it is not printed before Python jumps to the except block in error cases\n",
    "        if 70 <= score:                                      # to prevent it from being called twice\n",
    "            grade = 'A'\n",
    "        elif 50 <= score:\n",
    "            grade = 'B'\n",
    "        elif 35 <= score:\n",
    "            grade = 'C'\n",
    "        else:\n",
    "            grade = 'Fail'\n",
    "        print(f\"The student's letter grade is: {grade}\")\n",
    "    else:\n",
    "        print('You have entered an invalid input!')\n",
    "except:\n",
    "    print(f'Enter the student\\'s score: {user_input}')\n",
    "    print('You have entered an invalid input!')"
   ]
  },
  {
   "cell_type": "code",
   "execution_count": 92,
   "id": "9228c8e7-857f-43ad-ba04-ff184308fb26",
   "metadata": {},
   "outputs": [
    {
     "name": "stdin",
     "output_type": "stream",
     "text": [
      "Enter the student's score: 0.1\n"
     ]
    },
    {
     "name": "stdout",
     "output_type": "stream",
     "text": [
      "Enter the student's score: 0.1\n",
      "You have entered an invalid input!\n"
     ]
    }
   ],
   "source": [
    "user_input = input(\"Enter the student's score:\")\n",
    "print(f'Enter the student\\'s score: {user_input}')\n",
    "if user_input.isdigit() and 0 <= int(user_input) <= 100: # The condition int(user_input) has to be placed last\n",
    "    score = int(user_input)                              # This is because int(user_input) does not work when the score is not an integer string\n",
    "    if 70 <= score:                                      # By placing score.isdigit() first, I avoid ValueError since int(user_input)\n",
    "        grade = 'A'                                      # is only called on digit strings\n",
    "    elif 50 <= score:\n",
    "        grade = 'B'\n",
    "    elif 35 <= score:\n",
    "        grade = 'C'\n",
    "    else:\n",
    "        grade = 'Fail'\n",
    "    print(f\"The student's letter grade is: {grade}\")\n",
    "else:\n",
    "    print('You have entered an invalid input!')"
   ]
  },
  {
   "cell_type": "markdown",
   "id": "602322e7-e808-4e11-a676-7ce609f9868e",
   "metadata": {},
   "source": [
    "**Exercise 3 (Debugging Code)**"
   ]
  },
  {
   "cell_type": "code",
   "execution_count": 8,
   "id": "a7dc166d-2b86-423a-b088-8e417b4c7c6a",
   "metadata": {},
   "outputs": [
    {
     "name": "stdout",
     "output_type": "stream",
     "text": [
      "120\n",
      "Invalid input\n"
     ]
    }
   ],
   "source": [
    "def factorial(n):\n",
    "    if n < 0:                   # Error 1: Factorials of negative numbers are undefined, hence negative numbers are invalid inputs\n",
    "        return \"Invalid input\"\n",
    "    elif n == 0:                # Error 2: The factorial of 0 is 1, hence inputting 0 should return a value of 1\n",
    "        return 1\n",
    "    else:\n",
    "        result = 1\n",
    "        for number in range(1, n+1):\n",
    "            result *= number    # Error 3: Numbers in the range should be multiplied instead of added\n",
    "        return result\n",
    "\n",
    "\n",
    "print(factorial(5))   # Testing, expected output: 120\n",
    "print(factorial(-1))  # Testing, expected output: Invalid input"
   ]
  },
  {
   "cell_type": "raw",
   "id": "307198d7-5dbb-4de4-ac4f-30341046f36c",
   "metadata": {},
   "source": [
    "# Original code\n",
    "\n",
    "def factorial(n):\n",
    "    if n > 0:\n",
    "        return \"Invalid input\"\n",
    "    elif n != 0:\n",
    "        return 1\n",
    "    else:\n",
    "        result = 1\n",
    "        for number in range(1, n+1):\n",
    "            result += number\n",
    "        return result\n",
    "\n",
    "\n",
    "print(factorial(5))   # Testing, expected output: 120\n",
    "print(factorial(-1))  # Testing, expected output: Invalid input"
   ]
  }
 ],
 "metadata": {
  "kernelspec": {
   "display_name": "Python 3 (ipykernel)",
   "language": "python",
   "name": "python3"
  },
  "language_info": {
   "codemirror_mode": {
    "name": "ipython",
    "version": 3
   },
   "file_extension": ".py",
   "mimetype": "text/x-python",
   "name": "python",
   "nbconvert_exporter": "python",
   "pygments_lexer": "ipython3",
   "version": "3.12.3"
  },
  "toc": {
   "base_numbering": 1,
   "nav_menu": {},
   "number_sections": true,
   "sideBar": true,
   "skip_h1_title": false,
   "title_cell": "Table of Contents",
   "title_sidebar": "Contents",
   "toc_cell": false,
   "toc_position": {},
   "toc_section_display": true,
   "toc_window_display": false
  },
  "vscode": {
   "interpreter": {
    "hash": "31f2aee4e71d21fbe5cf8b01ff0e069b9275f58929596ceb00d14d90e3e16cd6"
   }
  }
 },
 "nbformat": 4,
 "nbformat_minor": 5
}
