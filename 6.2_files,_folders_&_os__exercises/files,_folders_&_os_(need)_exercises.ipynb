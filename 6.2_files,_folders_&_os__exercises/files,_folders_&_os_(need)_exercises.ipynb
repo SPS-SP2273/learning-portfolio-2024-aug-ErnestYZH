{
 "cells": [
  {
   "attachments": {},
   "cell_type": "markdown",
   "id": "123456",
   "metadata": {},
   "source": [
    "<div style=\"text-align:left;font-size:2em\"><span style=\"font-weight:bolder;font-size:1.25em\">SP2273 | Learning Portfolio</span><br><br><span style=\"font-weight:bold;color:darkred\">Files, Folders & OS (Need) Exercises</span></div>"
   ]
  },
  {
   "cell_type": "markdown",
   "id": "25ebcbf1-d53b-4f51-9891-a00d2693ab3c",
   "metadata": {},
   "source": [
    "**Exercise 1 (Tidying a collaboration)**"
   ]
  },
  {
   "cell_type": "code",
   "execution_count": 109,
   "id": "97c0cca9-1c65-49d3-8d0f-7d2b38e673de",
   "metadata": {},
   "outputs": [],
   "source": [
    "import os\n",
    "import glob\n",
    "import shutil\n",
    "# Trivial change for GitHub commit"
   ]
  },
  {
   "cell_type": "markdown",
   "id": "2ec85a7c-5929-4247-a629-8e46ceb0f4e1",
   "metadata": {},
   "source": [
    "**Task 1**"
   ]
  },
  {
   "cell_type": "code",
   "execution_count": 2,
   "id": "0e3528be-879f-460b-9f1d-4c14fe16adb6",
   "metadata": {},
   "outputs": [],
   "source": [
    "month_dictionary = {\n",
    "'jan': '01', 'feb': '02', 'mar': '03',\n",
    "'apr': '04', 'may': '05', 'jun': '06',\n",
    "'jul': '07', 'aug': '08', 'sep': '09',\n",
    "'oct': '10', 'nov': '11', 'dec': '12'\n",
    "}\n",
    "# Dictionary containing month names and corresponding numerical values"
   ]
  },
  {
   "cell_type": "code",
   "execution_count": 3,
   "id": "5084d4c0-08c5-4114-a812-5aeb21b5660e",
   "metadata": {},
   "outputs": [
    {
     "name": "stdout",
     "output_type": "stream",
     "text": [
      "10-08-singapore.txt\n"
     ]
    }
   ],
   "source": [
    "old_file_name = 'oct-08_singapore.txt'\n",
    "for month_name, month_number in month_dictionary.items():\n",
    "    old_file_name = old_file_name.replace(month_name, month_number)\n",
    "    new_file_name = old_file_name.replace('_', '-')\n",
    "print(new_file_name)"
   ]
  },
  {
   "cell_type": "markdown",
   "id": "86649b9e-ab68-45ba-9fac-133df8593214",
   "metadata": {},
   "source": [
    "**Task 2**"
   ]
  },
  {
   "cell_type": "code",
   "execution_count": 4,
   "id": "68321bf1-6b1b-4e00-89fd-e83347d6f3a2",
   "metadata": {},
   "outputs": [],
   "source": [
    "def rename_my_file(old_file_name):\n",
    "    for month_name, month_number in month_dictionary.items():\n",
    "        old_file_name = old_file_name.replace(month_name, month_number)\n",
    "        new_file_name = old_file_name.replace('_', '-')\n",
    "    return new_file_name"
   ]
  },
  {
   "cell_type": "code",
   "execution_count": 5,
   "id": "6ad8ee81-431c-46b7-9e52-44fc3d2b3a19",
   "metadata": {},
   "outputs": [
    {
     "name": "stdout",
     "output_type": "stream",
     "text": [
      "01-10-singapore.txt\n",
      "03-29-korea.txt\n"
     ]
    }
   ],
   "source": [
    "print(rename_my_file('jan-10_singapore.txt'))\n",
    "print(rename_my_file('mar-29_korea.txt'))"
   ]
  },
  {
   "cell_type": "markdown",
   "id": "a34e7eed-995a-49de-a0ac-070cfd179dcb",
   "metadata": {},
   "source": [
    "**Task 3**"
   ]
  },
  {
   "cell_type": "code",
   "execution_count": 6,
   "id": "4ee16fb4-f1b4-468a-8c8a-5b09d11b17c4",
   "metadata": {},
   "outputs": [],
   "source": [
    "files = ['oct-08_singapore.txt', 'jul-10_cairo.txt', 'may-15_dhaka.txt',\n",
    " 'may-13_cairo.txt', 'oct-21_cairo.txt', 'jan-10_singapore.txt',\n",
    " 'jun-20_tokyo.txt', 'aug-06_jakarta.txt', 'dec-21_karachi.txt',\n",
    " 'jan-01_tokyo.txt']"
   ]
  },
  {
   "cell_type": "code",
   "execution_count": 7,
   "id": "3946ffbf-4269-4e80-932a-add512a08eca",
   "metadata": {},
   "outputs": [
    {
     "name": "stdout",
     "output_type": "stream",
     "text": [
      "oct-08_singapore.txt ----> 10-08-singapore.txt\n",
      "jul-10_cairo.txt ----> 07-10-cairo.txt\n",
      "may-15_dhaka.txt ----> 05-15-dhaka.txt\n",
      "may-13_cairo.txt ----> 05-13-cairo.txt\n",
      "oct-21_cairo.txt ----> 10-21-cairo.txt\n",
      "jan-10_singapore.txt ----> 01-10-singapore.txt\n",
      "jun-20_tokyo.txt ----> 06-20-tokyo.txt\n",
      "aug-06_jakarta.txt ----> 08-06-jakarta.txt\n",
      "dec-21_karachi.txt ----> 12-21-karachi.txt\n",
      "jan-01_tokyo.txt ----> 01-01-tokyo.txt\n"
     ]
    }
   ],
   "source": [
    "for old_file_name in files:\n",
    "    new_file_name = rename_my_file(old_file_name)\n",
    "    print(f'{old_file_name} ----> {new_file_name}')\n",
    "# I am using the same variables as defined in rename_my_file()\n",
    "# I understand that I could have used different variables"
   ]
  },
  {
   "cell_type": "markdown",
   "id": "0fd729ed-ab6f-44a2-97c4-2378d5329cf5",
   "metadata": {},
   "source": [
    "**Task 4**"
   ]
  },
  {
   "cell_type": "code",
   "execution_count": 8,
   "id": "31bd147d-9fc1-4f14-ba46-3c492d318aa6",
   "metadata": {},
   "outputs": [],
   "source": [
    "txt_files = glob.glob('**/*.txt', recursive=True)\n",
    "for old_file_name in txt_files:\n",
    "    new_file_name = rename_my_file(old_file_name)\n",
    "    os.rename(old_file_name, new_file_name)\n",
    "\n",
    "# Since rename_my_file() is defined using the replace method, I do not need to change anything to accomodate for already renamed files\n",
    "# Using rename_my_file() on already renamed files will have no effect\n",
    "# This can be seen by running the above code twice without any error"
   ]
  },
  {
   "cell_type": "markdown",
   "id": "bfa9fd8d-fed8-41b8-a0c7-8749ba49a1f1",
   "metadata": {},
   "source": [
    "**Task 5**"
   ]
  },
  {
   "cell_type": "code",
   "execution_count": 46,
   "id": "87679cd2-0137-41e8-a5b2-bc0c2d110f07",
   "metadata": {},
   "outputs": [],
   "source": [
    "city_list = ['Cairo', 'Dhaka', 'Jakarta', 'Karachi', 'Manila',\n",
    " 'Melbourne', 'Osaka', 'Shanghai', 'Singapore', 'Tokyo']"
   ]
  },
  {
   "cell_type": "code",
   "execution_count": 102,
   "id": "3b01c9a3-50f0-476c-8278-bc5c69ce131c",
   "metadata": {},
   "outputs": [],
   "source": [
    "for city in city_list:\n",
    "    city_folder = os.path.join('os-collaboration-exercise-data', city)\n",
    "    os.mkdir(city_folder)\n",
    "# The 2nd line serves to create the folders in the data directory, to reduce clutter\n",
    "# If I were to simply put \"os.mkdir(city)\" in the for loop, the folders would be created in the current directory"
   ]
  },
  {
   "cell_type": "markdown",
   "id": "4bf2f0e7-5662-4379-9e48-9ed29637cd3e",
   "metadata": {},
   "source": [
    "**Task 6**"
   ]
  },
  {
   "cell_type": "code",
   "execution_count": 14,
   "id": "92bc4a6b-37ba-446a-ad17-70890bb66926",
   "metadata": {},
   "outputs": [
    {
     "data": {
      "text/plain": [
       "'C:\\\\Users\\\\popmi\\\\OneDrive - National University of Singapore\\\\Documents\\\\GitHub\\\\learning-portfolio-2024-aug-ErnestYZH\\\\6.2_files,_folders_&_os__exercises'"
      ]
     },
     "execution_count": 14,
     "metadata": {},
     "output_type": "execute_result"
    }
   ],
   "source": [
    "os.getcwd() # Saving current working directory for later use if needed"
   ]
  },
  {
   "cell_type": "code",
   "execution_count": 23,
   "id": "9657474a-5a92-4707-ad39-9a9f0a600b70",
   "metadata": {},
   "outputs": [
    {
     "data": {
      "text/plain": [
       "'C:\\\\Users\\\\popmi\\\\OneDrive - National University of Singapore\\\\Documents\\\\GitHub\\\\learning-portfolio-2024-aug-ErnestYZH\\\\6.2_files,_folders_&_os__exercises\\\\os-collaboration-exercise-data'"
      ]
     },
     "execution_count": 23,
     "metadata": {},
     "output_type": "execute_result"
    }
   ],
   "source": [
    "os.chdir('os-collaboration-exercise-data')\n",
    "os.getcwd()\n",
    "# Now that I have created the city folders in the data folder, I am changing the changing the working directory to the data directory\n",
    "# This is so I do not have to specify the data directory in the path to work in it\n",
    "# I now realise that I could have done this in Task 5 as well to more easily create the city folders"
   ]
  },
  {
   "cell_type": "code",
   "execution_count": 24,
   "id": "5613b45f-63c7-4f77-a13f-9e8bb3fee5c4",
   "metadata": {},
   "outputs": [],
   "source": [
    "cairo_files = glob.glob('*cairo*.*')\n",
    "# Added a '.' so as to not search for the directory itself\n",
    "# Not resursive so as to not recopy any files already in the folder"
   ]
  },
  {
   "cell_type": "code",
   "execution_count": 48,
   "id": "674e1cfe-7ba3-4ceb-9628-95c20da5dac2",
   "metadata": {},
   "outputs": [],
   "source": [
    "for file in cairo_files:\n",
    "    shutil.copy(file, 'Cairo')"
   ]
  },
  {
   "cell_type": "markdown",
   "id": "2a0ceb6f-a3b4-4ed2-b39a-81821b666514",
   "metadata": {},
   "source": [
    "**Task 7**"
   ]
  },
  {
   "cell_type": "code",
   "execution_count": 82,
   "id": "cef61e54-65ed-44a1-b712-3c2e6ee9043f",
   "metadata": {},
   "outputs": [],
   "source": [
    "city_list = ['Cairo', 'Dhaka', 'Jakarta', 'Karachi', 'Manila',\n",
    " 'Melbourne', 'Osaka', 'Shanghai', 'Singapore', 'Tokyo']"
   ]
  },
  {
   "cell_type": "code",
   "execution_count": 107,
   "id": "afe8a37d-7dc9-4154-86db-cadd861720d2",
   "metadata": {},
   "outputs": [],
   "source": [
    "for city in city_list:\n",
    "    string = f'*{city}.*'          # Creating f string separately as I could not get f string to work within glob.glob() argument\n",
    "    city_files = glob.glob(string) # Searching for each city's files in each iteration\n",
    "    for file in city_files:        # Nested for loop to iterate each file WITHIN each city's iteration\n",
    "        shutil.move(file, city)    # For each file, for each city, move the file into that city's directory"
   ]
  }
 ],
 "metadata": {
  "kernelspec": {
   "display_name": "Python 3 (ipykernel)",
   "language": "python",
   "name": "python3"
  },
  "language_info": {
   "codemirror_mode": {
    "name": "ipython",
    "version": 3
   },
   "file_extension": ".py",
   "mimetype": "text/x-python",
   "name": "python",
   "nbconvert_exporter": "python",
   "pygments_lexer": "ipython3",
   "version": "3.12.3"
  },
  "toc": {
   "base_numbering": 1,
   "nav_menu": {},
   "number_sections": true,
   "sideBar": true,
   "skip_h1_title": false,
   "title_cell": "Table of Contents",
   "title_sidebar": "Contents",
   "toc_cell": false,
   "toc_position": {},
   "toc_section_display": true,
   "toc_window_display": false
  },
  "vscode": {
   "interpreter": {
    "hash": "31f2aee4e71d21fbe5cf8b01ff0e069b9275f58929596ceb00d14d90e3e16cd6"
   }
  }
 },
 "nbformat": 4,
 "nbformat_minor": 5
}
