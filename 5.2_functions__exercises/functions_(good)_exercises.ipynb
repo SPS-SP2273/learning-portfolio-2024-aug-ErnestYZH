{
 "cells": [
  {
   "attachments": {},
   "cell_type": "markdown",
   "id": "123456",
   "metadata": {},
   "source": [
    "<div style=\"text-align:left;font-size:2em\"><span style=\"font-weight:bolder;font-size:1.25em\">SP2273 | Learning Portfolio</span><br><br><span style=\"font-weight:bold;color:darkred\">Functions (Good) Exercises</span></div>"
   ]
  },
  {
   "cell_type": "markdown",
   "id": "a8490edc-f6a3-41fc-b03c-8ec82e36b0fd",
   "metadata": {},
   "source": [
    "**Exercise 1 (Celsius to Farenheit or Kelvin)**"
   ]
  },
  {
   "cell_type": "code",
   "execution_count": 6,
   "id": "e43d0c8f-f1f6-41a7-aa4f-be7ad5c40c88",
   "metadata": {},
   "outputs": [],
   "source": [
    "def convert_celsius(temperature_celsius, target_scale):\n",
    "    if temperature_celsius < -273.15:\n",
    "        return 'You have entered an invalid temperature!'\n",
    "    elif target_scale == 'Kelvin':\n",
    "        temperature_Kelvin = temperature_celsius + 273.15\n",
    "        return f'{temperature_Kelvin}K'\n",
    "    elif target_scale == 'Farenheit':\n",
    "        temperature_Farenheit = (temperature_celsius * 9/5) + 32\n",
    "        return f'{temperature_Farenheit}\\N{DEGREE SIGN}F'\n",
    "    else:\n",
    "        return 'You have entered an invalid scale!'"
   ]
  },
  {
   "cell_type": "code",
   "execution_count": 7,
   "id": "cc7d2db4-661b-4ffe-b4e7-d8061e0e05ca",
   "metadata": {},
   "outputs": [
    {
     "name": "stdout",
     "output_type": "stream",
     "text": [
      "32.0°F\n",
      "212.0°F\n",
      "273.15K\n",
      "0.0K\n",
      "You have entered an invalid temperature!\n",
      "You have entered an invalid scale!\n"
     ]
    }
   ],
   "source": [
    "print(convert_celsius(0, 'Farenheit'))\n",
    "print(convert_celsius(100, 'Farenheit'))\n",
    "print(convert_celsius(0, 'Kelvin'))\n",
    "print(convert_celsius(-273.15, 'Kelvin'))\n",
    "print(convert_celsius(-273.16, 'Kelvin'))\n",
    "print(convert_celsius(0, 'Scale'))"
   ]
  },
  {
   "cell_type": "markdown",
   "id": "a0728785-2418-44f2-b7cc-78c33e553d98",
   "metadata": {},
   "source": [
    "**Exercise 2 (Farenheit to Celsius or Kelvin)**"
   ]
  },
  {
   "cell_type": "code",
   "execution_count": 8,
   "id": "ce11bb44-eb57-4b93-bd4b-b4b953a46444",
   "metadata": {},
   "outputs": [],
   "source": [
    "def convert_farenheit(temperature_farenheit, target_scale):\n",
    "    if temperature_farenheit < -459.67:\n",
    "        return 'You have entered an invalid temperature!'\n",
    "    elif target_scale == 'Celsius':\n",
    "        temperature_Celsius = (temperature_farenheit - 32) * 5/9\n",
    "        return f'{temperature_Celsius}\\N{DEGREE SIGN}C'\n",
    "    elif target_scale == 'Kelvin':\n",
    "        temperature_Kelvin = (temperature_farenheit - 32) * 5/9 + 273.15\n",
    "        return f'{temperature_Kelvin}K'\n",
    "    else:\n",
    "        return 'You have entered an invalid scale!'"
   ]
  },
  {
   "cell_type": "code",
   "execution_count": 11,
   "id": "afdd26ea-1dbc-4a61-ae26-9e323a75ece2",
   "metadata": {},
   "outputs": [
    {
     "name": "stdout",
     "output_type": "stream",
     "text": [
      "0.0°C\n",
      "100.0°C\n",
      "0.0K\n",
      "You have entered an invalid temperature!\n",
      "You have entered an invalid scale!\n"
     ]
    }
   ],
   "source": [
    "print(convert_farenheit(32, 'Celsius'))\n",
    "print(convert_farenheit(212, 'Celsius'))\n",
    "print(convert_farenheit(-459.67, 'Kelvin'))\n",
    "print(convert_farenheit(-459.68, 'Kelvin'))\n",
    "print(convert_farenheit(0, 'Scale'))"
   ]
  },
  {
   "cell_type": "markdown",
   "id": "8fc5fe42-d415-4f28-91e0-7013c01bb2b6",
   "metadata": {},
   "source": [
    "**Exercise 3 (General Temeprature Conversion)**"
   ]
  },
  {
   "cell_type": "code",
   "execution_count": 36,
   "id": "64a47dfb-0598-4422-8127-b98fe32224a4",
   "metadata": {},
   "outputs": [],
   "source": [
    "def convert_kelvin(temperature_kelvin, target_scale): # Defining convert_kelvin() for use in convert_temperature()\n",
    "    if temperature_kelvin < 0:\n",
    "        return 'You have entered an invalid temperature!'\n",
    "    elif target_scale == 'Celsius':\n",
    "        temperature_Celsius = temperature_kelvin - 273.15\n",
    "        return f'{temperature_Celsius}\\N{DEGREE SIGN}C'\n",
    "    elif target_scale == 'Farenheit':\n",
    "        temperature_Farenheit = (temperature_kelvin - 273.15) * 9/5 + 32\n",
    "        return f'{temperature_Farenheit}\\N{DEGREE SIGN}F'\n",
    "    else:\n",
    "        return 'You have entered an invalid scale!'"
   ]
  },
  {
   "cell_type": "code",
   "execution_count": 37,
   "id": "6893a9a0-dada-4729-990d-35998aa32b0f",
   "metadata": {},
   "outputs": [
    {
     "name": "stdout",
     "output_type": "stream",
     "text": [
      "32.0°F\n",
      "212.0°F\n",
      "-273.15°C\n",
      "You have entered an invalid temperature!\n",
      "You have entered an invalid scale!\n"
     ]
    }
   ],
   "source": [
    "print(convert_kelvin(273.15, 'Farenheit')) # Checking if convert_kelvin() works\n",
    "print(convert_kelvin(373.15, 'Farenheit'))\n",
    "print(convert_kelvin(0, 'Celsius'))\n",
    "print(convert_kelvin(-0.01, 'Celsius'))\n",
    "print(convert_kelvin(0, 'Scale'))"
   ]
  },
  {
   "cell_type": "code",
   "execution_count": 42,
   "id": "5bd48698-1738-438c-816f-ccd558eaaa61",
   "metadata": {},
   "outputs": [],
   "source": [
    "def convert_temperature(temperature, source_scale, target_scale):\n",
    "    if source_scale == 'Celsius':\n",
    "        return convert_celsius(temperature, target_scale)\n",
    "    elif source_scale == 'Farenheit':\n",
    "        return convert_farenheit(temperature, target_scale)\n",
    "    elif source_scale == 'Kelvin':\n",
    "        return convert_kelvin(temperature, target_scale)\n",
    "    else:\n",
    "        return 'You have entered an invalid source scale!'"
   ]
  },
  {
   "cell_type": "code",
   "execution_count": 44,
   "id": "7e789583-45a9-4c2d-b860-ea500f16840e",
   "metadata": {},
   "outputs": [
    {
     "name": "stdout",
     "output_type": "stream",
     "text": [
      "Celsius\n",
      "32.0°F\n",
      "273.15K\n",
      "You have entered an invalid temperature!\n",
      "You have entered an invalid scale!\n",
      "\n",
      "Kelvin\n",
      "-273.15°C\n",
      "-459.66999999999996°F\n",
      "You have entered an invalid temperature!\n",
      "You have entered an invalid scale!\n",
      "\n",
      "Farenheit\n",
      "0.0°C\n",
      "273.15K\n",
      "You have entered an invalid temperature!\n",
      "You have entered an invalid scale!\n",
      "\n",
      "You have entered an invalid source scale!\n"
     ]
    }
   ],
   "source": [
    "print('Celsius')\n",
    "print(convert_temperature(0, 'Celsius', 'Farenheit'))\n",
    "print(convert_temperature(0, 'Celsius', 'Kelvin'))\n",
    "print(convert_temperature(-273.16, 'Celsius', 'Scale'))\n",
    "print(convert_temperature(0, 'Celsius', 'Scale'))\n",
    "print()\n",
    "print('Kelvin')\n",
    "print(convert_temperature(0, 'Kelvin', 'Celsius'))\n",
    "print(convert_temperature(0, 'Kelvin', 'Farenheit'))\n",
    "print(convert_temperature(-0.01, 'Kelvin', 'Scale'))\n",
    "print(convert_temperature(0, 'Kelvin', 'Scale'))\n",
    "print()\n",
    "print('Farenheit')\n",
    "print(convert_temperature(32, 'Farenheit', 'Celsius'))\n",
    "print(convert_temperature(32, 'Farenheit', 'Kelvin'))\n",
    "print(convert_temperature(-459.68, 'Farenheit', 'Scale'))\n",
    "print(convert_temperature(0, 'Farenheit', 'Scale'))\n",
    "print()\n",
    "print(convert_temperature(0, 'Scale', 'Kelvin'))"
   ]
  }
 ],
 "metadata": {
  "kernelspec": {
   "display_name": "Python 3 (ipykernel)",
   "language": "python",
   "name": "python3"
  },
  "language_info": {
   "codemirror_mode": {
    "name": "ipython",
    "version": 3
   },
   "file_extension": ".py",
   "mimetype": "text/x-python",
   "name": "python",
   "nbconvert_exporter": "python",
   "pygments_lexer": "ipython3",
   "version": "3.12.3"
  },
  "toc": {
   "base_numbering": 1,
   "nav_menu": {},
   "number_sections": true,
   "sideBar": true,
   "skip_h1_title": false,
   "title_cell": "Table of Contents",
   "title_sidebar": "Contents",
   "toc_cell": false,
   "toc_position": {},
   "toc_section_display": true,
   "toc_window_display": false
  },
  "vscode": {
   "interpreter": {
    "hash": "31f2aee4e71d21fbe5cf8b01ff0e069b9275f58929596ceb00d14d90e3e16cd6"
   }
  }
 },
 "nbformat": 4,
 "nbformat_minor": 5
}
