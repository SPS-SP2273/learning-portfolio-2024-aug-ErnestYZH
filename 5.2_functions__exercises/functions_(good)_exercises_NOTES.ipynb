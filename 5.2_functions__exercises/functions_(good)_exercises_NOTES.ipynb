{
 "cells": [
  {
   "attachments": {},
   "cell_type": "markdown",
   "id": "123456",
   "metadata": {},
   "source": [
    "<div style=\"text-align:left;font-size:2em\"><span style=\"font-weight:bolder;font-size:1.25em\">SP2273 | Learning Portfolio</span><br><br><span style=\"font-weight:bold;color:darkred\">Functions (Good) Exercises</span></div>"
   ]
  },
  {
   "cell_type": "markdown",
   "id": "a8490edc-f6a3-41fc-b03c-8ec82e36b0fd",
   "metadata": {},
   "source": [
    "**Exercise 1 (Celsius to Farenheit or Kelvin)**"
   ]
  },
  {
   "cell_type": "code",
   "execution_count": 96,
   "id": "e43d0c8f-f1f6-41a7-aa4f-be7ad5c40c88",
   "metadata": {},
   "outputs": [],
   "source": [
    "def convert_celsius(temperature_celsius, target_scale):\n",
    "    if temperature_celsius < -273.15:\n",
    "        return 'You have entered an invalid temperature!'\n",
    "    elif target_scale == 'Kelvin':\n",
    "        temperature_Kelvin = temperature_celsius + 273.15\n",
    "        return f'{temperature_Kelvin}K'\n",
    "    elif target_scale == 'Farenheit':\n",
    "        temperature_Farenheit = (temperature_celsius * 9/5) + 32\n",
    "        return f'{temperature_Farenheit}\\N{DEGREE SIGN}F'\n",
    "    else:\n",
    "        return 'You have entered an invalid scale!'"
   ]
  },
  {
   "cell_type": "code",
   "execution_count": 97,
   "id": "cc7d2db4-661b-4ffe-b4e7-d8061e0e05ca",
   "metadata": {},
   "outputs": [
    {
     "name": "stdout",
     "output_type": "stream",
     "text": [
      "32.0°F\n",
      "212.0°F\n",
      "273.15K\n",
      "0.0K\n",
      "You have entered an invalid temperature!\n",
      "You have entered an invalid scale!\n"
     ]
    }
   ],
   "source": [
    "print(convert_celsius(0, 'Farenheit'))\n",
    "print(convert_celsius(100, 'Farenheit'))\n",
    "print(convert_celsius(0, 'Kelvin'))\n",
    "print(convert_celsius(-273.15, 'Kelvin'))\n",
    "print(convert_celsius(-273.16, 'Kelvin'))\n",
    "print(convert_celsius(0, 'Scale'))"
   ]
  },
  {
   "cell_type": "markdown",
   "id": "a0728785-2418-44f2-b7cc-78c33e553d98",
   "metadata": {},
   "source": [
    "**Exercise 2 (Farenheit to Celsius or Kelvin)**"
   ]
  },
  {
   "cell_type": "code",
   "execution_count": 98,
   "id": "ce11bb44-eb57-4b93-bd4b-b4b953a46444",
   "metadata": {},
   "outputs": [],
   "source": [
    "def convert_farenheit(temperature_farenheit, target_scale):\n",
    "    if temperature_farenheit < -459.67:\n",
    "        return 'You have entered an invalid temperature!'\n",
    "    elif target_scale == 'Celsius':\n",
    "        temperature_Celsius = (temperature_farenheit - 32) * 5/9\n",
    "        return f'{temperature_Celsius}\\N{DEGREE SIGN}C'\n",
    "    elif target_scale == 'Kelvin':\n",
    "        temperature_Kelvin = (temperature_farenheit - 32) * 5/9 + 273.15\n",
    "        return f'{temperature_Kelvin}K'\n",
    "    else:\n",
    "        return 'You have entered an invalid scale!'"
   ]
  },
  {
   "cell_type": "code",
   "execution_count": 118,
   "id": "afdd26ea-1dbc-4a61-ae26-9e323a75ece2",
   "metadata": {},
   "outputs": [
    {
     "name": "stdout",
     "output_type": "stream",
     "text": [
      "0.0°C\n",
      "100.0°C\n",
      "0.0K\n",
      "You have entered an invalid temperature!\n",
      "You have entered an invalid scale!\n"
     ]
    }
   ],
   "source": [
    "print(convert_farenheit(32, 'Celsius'))\n",
    "print(convert_farenheit(212, 'Celsius'))\n",
    "print(convert_farenheit(-459.67, 'Kelvin'))\n",
    "print(convert_farenheit(-459.68, 'Kelvin'))\n",
    "print(convert_farenheit(0, 'Scale'))"
   ]
  },
  {
   "cell_type": "markdown",
   "id": "8fc5fe42-d415-4f28-91e0-7013c01bb2b6",
   "metadata": {},
   "source": [
    "**Exercise 3 (General Temeprature Conversion)**"
   ]
  },
  {
   "cell_type": "code",
   "execution_count": 100,
   "id": "64a47dfb-0598-4422-8127-b98fe32224a4",
   "metadata": {},
   "outputs": [],
   "source": [
    "def convert_kelvin(temperature_kelvin, target_scale): # Defining convert_kelvin() for use in convert_temperature()\n",
    "    if temperature_kelvin < 0:\n",
    "        return 'You have entered an invalid temperature!'\n",
    "    elif target_scale == 'Celsius':\n",
    "        temperature_Celsius = temperature_kelvin - 273.15\n",
    "        return f'{temperature_Celsius}\\N{DEGREE SIGN}C'\n",
    "    elif target_scale == 'Farenheit':\n",
    "        temperature_Farenheit = (temperature_kelvin - 273.15) * 9/5 + 32\n",
    "        return f'{temperature_Farenheit}\\N{DEGREE SIGN}F'\n",
    "    else:\n",
    "        return 'You have entered an invalid scale!'"
   ]
  },
  {
   "cell_type": "code",
   "execution_count": 101,
   "id": "6893a9a0-dada-4729-990d-35998aa32b0f",
   "metadata": {},
   "outputs": [
    {
     "name": "stdout",
     "output_type": "stream",
     "text": [
      "32.0°F\n",
      "212.0°F\n",
      "-273.15°C\n",
      "You have entered an invalid temperature!\n",
      "You have entered an invalid scale!\n"
     ]
    }
   ],
   "source": [
    "print(convert_kelvin(273.15, 'Farenheit')) # Checking if convert_kelvin() works\n",
    "print(convert_kelvin(373.15, 'Farenheit'))\n",
    "print(convert_kelvin(0, 'Celsius'))\n",
    "print(convert_kelvin(-0.01, 'Celsius'))\n",
    "print(convert_kelvin(0, 'Scale'))"
   ]
  },
  {
   "cell_type": "code",
   "execution_count": 111,
   "id": "5bd48698-1738-438c-816f-ccd558eaaa61",
   "metadata": {},
   "outputs": [],
   "source": [
    "def convert_temperature(temperature, source_scale, target_scale):\n",
    "    if source_scale == 'Celsius':\n",
    "        return convert_celsius(temperature, target_scale)\n",
    "    elif source_scale == 'Farenheit':\n",
    "        return convert_farenheit(temperature, target_scale)\n",
    "    elif source_scale == 'Kelvin':\n",
    "        return convert_kelvin(temperature, target_scale)\n",
    "    else:\n",
    "        return 'You have entered an invalid source scale!'"
   ]
  },
  {
   "cell_type": "code",
   "execution_count": 103,
   "id": "7e789583-45a9-4c2d-b860-ea500f16840e",
   "metadata": {},
   "outputs": [
    {
     "name": "stdout",
     "output_type": "stream",
     "text": [
      "Celsius\n",
      "32.0°F\n",
      "273.15K\n",
      "You have entered an invalid temperature!\n",
      "You have entered an invalid scale!\n",
      "\n",
      "Kelvin\n",
      "-273.15°C\n",
      "-459.66999999999996°F\n",
      "You have entered an invalid temperature!\n",
      "You have entered an invalid scale!\n",
      "\n",
      "Farenheit\n",
      "0.0°C\n",
      "273.15K\n",
      "You have entered an invalid temperature!\n",
      "You have entered an invalid scale!\n",
      "\n",
      "You have entered an invalid source scale!\n"
     ]
    }
   ],
   "source": [
    "print('Celsius')\n",
    "print(convert_temperature(0, 'Celsius', 'Farenheit'))\n",
    "print(convert_temperature(0, 'Celsius', 'Kelvin'))\n",
    "print(convert_temperature(-273.16, 'Celsius', 'Scale'))\n",
    "print(convert_temperature(0, 'Celsius', 'Scale'))\n",
    "print()\n",
    "print('Kelvin')\n",
    "print(convert_temperature(0, 'Kelvin', 'Celsius'))\n",
    "print(convert_temperature(0, 'Kelvin', 'Farenheit'))\n",
    "print(convert_temperature(-0.01, 'Kelvin', 'Scale'))\n",
    "print(convert_temperature(0, 'Kelvin', 'Scale'))\n",
    "print()\n",
    "print('Farenheit')\n",
    "print(convert_temperature(32, 'Farenheit', 'Celsius'))\n",
    "print(convert_temperature(32, 'Farenheit', 'Kelvin'))\n",
    "print(convert_temperature(-459.68, 'Farenheit', 'Scale'))\n",
    "print(convert_temperature(0, 'Farenheit', 'Scale'))\n",
    "print()\n",
    "print(convert_temperature(0, 'Scale', 'Kelvin'))"
   ]
  },
  {
   "cell_type": "markdown",
   "id": "558f5d8a-4873-497d-9e8e-39efef6df89c",
   "metadata": {},
   "source": [
    "# After Review"
   ]
  },
  {
   "cell_type": "markdown",
   "id": "089298e2-fa1e-4dc9-b4e9-62168da90529",
   "metadata": {},
   "source": [
    "**Exercise 1 (Celsius to Farenheit or Kelvin) (After Review)**"
   ]
  },
  {
   "cell_type": "code",
   "execution_count": 104,
   "id": "2936ea52-0cca-48f3-9646-bd07ba76dd27",
   "metadata": {},
   "outputs": [],
   "source": [
    "# Incorporated default argument for target_scale\n",
    "# This allows me to convert from celsius to farenheit without having to specify it in the argument\n",
    "\n",
    "def convert_celsius_1(temperature_celsius, target_scale='Farenheit'):\n",
    "    if temperature_celsius < -273.15:\n",
    "        return 'You have entered an invalid temperature!'\n",
    "    elif target_scale == 'Kelvin':\n",
    "        temperature_Kelvin = temperature_celsius + 273.15\n",
    "        return f'{temperature_Kelvin}K'\n",
    "    elif target_scale == 'Farenheit':\n",
    "        temperature_Farenheit = (temperature_celsius * 9/5) + 32\n",
    "        return f'{temperature_Farenheit}\\N{DEGREE SIGN}F'\n",
    "    else:\n",
    "        return 'You have entered an invalid scale!'"
   ]
  },
  {
   "cell_type": "code",
   "execution_count": 105,
   "id": "6d3e8d54-1275-45e1-a39f-4eb792d3f59f",
   "metadata": {},
   "outputs": [
    {
     "name": "stdout",
     "output_type": "stream",
     "text": [
      "32.0°F\n",
      "212.0°F\n",
      "273.15K\n",
      "0.0K\n",
      "You have entered an invalid temperature!\n",
      "You have entered an invalid scale!\n"
     ]
    }
   ],
   "source": [
    "print(convert_celsius_1(0))\n",
    "print(convert_celsius_1(100))\n",
    "print(convert_celsius_1(0, 'Kelvin'))\n",
    "print(convert_celsius_1(-273.15, 'Kelvin'))\n",
    "print(convert_celsius_1(-273.16, 'Kelvin'))\n",
    "print(convert_celsius_1(0, 'Scale'))"
   ]
  },
  {
   "cell_type": "markdown",
   "id": "4b962396-21c1-4f48-a397-19049cd53623",
   "metadata": {},
   "source": [
    "**Exercise 2 (Farenheit to Celsius or Kelvin) (After Review)**"
   ]
  },
  {
   "cell_type": "code",
   "execution_count": 116,
   "id": "af818bfc-40dc-4c22-9410-36741171f801",
   "metadata": {},
   "outputs": [],
   "source": [
    "# Incorporated default argument for target_scale\n",
    "# This allows me to convert from farenheit to celsius without having to specify it in the argument\n",
    "\n",
    "def convert_farenheit_1(temperature_farenheit, target_scale='Celsius'):\n",
    "    if temperature_farenheit < -459.67:\n",
    "        return 'You have entered an invalid temperature!'\n",
    "    elif target_scale == 'Celsius':\n",
    "        temperature_Celsius = (temperature_farenheit - 32) * 5/9\n",
    "        return f'{temperature_Celsius}\\N{DEGREE SIGN}C'\n",
    "    elif target_scale == 'Kelvin':\n",
    "        temperature_Kelvin = (temperature_farenheit - 32) * 5/9 + 273.15\n",
    "        return f'{temperature_Kelvin}K'\n",
    "    else:\n",
    "        return 'You have entered an invalid scale!'"
   ]
  },
  {
   "cell_type": "code",
   "execution_count": 107,
   "id": "5a03734f-b0ed-46d3-9f80-14d213f04974",
   "metadata": {},
   "outputs": [
    {
     "name": "stdout",
     "output_type": "stream",
     "text": [
      "0.0°C\n",
      "100.0°C\n",
      "0.0K\n",
      "You have entered an invalid temperature!\n",
      "You have entered an invalid scale!\n"
     ]
    }
   ],
   "source": [
    "print(convert_farenheit(32, 'Celsius'))\n",
    "print(convert_farenheit(212, 'Celsius'))\n",
    "print(convert_farenheit(-459.67, 'Kelvin'))\n",
    "print(convert_farenheit(-459.68, 'Kelvin'))\n",
    "print(convert_farenheit(0, 'Scale'))"
   ]
  },
  {
   "cell_type": "markdown",
   "id": "963e50b8-2d52-4be9-a5e4-5531587b6c0f",
   "metadata": {},
   "source": [
    "**Exercise 3 (General Temeprature Conversion) (After Review)**"
   ]
  },
  {
   "cell_type": "code",
   "execution_count": 117,
   "id": "8736347d-1b17-40c4-9cf8-6156c69a1f8b",
   "metadata": {},
   "outputs": [],
   "source": [
    "# Incorporated default argument for target_scale\n",
    "# This allows me to convert from kelvin to celsius without having to specify it in the argument\n",
    "\n",
    "def convert_kelvin_1(temperature_kelvin, target_scale='Celsius'): # Defining convert_kelvin() for use in convert_temperature()\n",
    "    if temperature_kelvin < 0:\n",
    "        return 'You have entered an invalid temperature!'\n",
    "    elif target_scale == 'Celsius':\n",
    "        temperature_Celsius = temperature_kelvin - 273.15\n",
    "        return f'{temperature_Celsius}\\N{DEGREE SIGN}C'\n",
    "    elif target_scale == 'Farenheit':\n",
    "        temperature_Farenheit = (temperature_kelvin - 273.15) * 9/5 + 32\n",
    "        return f'{temperature_Farenheit}\\N{DEGREE SIGN}F'\n",
    "    else:\n",
    "        return 'You have entered an invalid scale!'"
   ]
  },
  {
   "cell_type": "code",
   "execution_count": 109,
   "id": "d2d74e26-a74d-45be-81a0-22b0f30bfd80",
   "metadata": {},
   "outputs": [
    {
     "name": "stdout",
     "output_type": "stream",
     "text": [
      "32.0°F\n",
      "212.0°F\n",
      "-273.15°C\n",
      "-173.14999999999998°C\n",
      "You have entered an invalid scale!\n"
     ]
    }
   ],
   "source": [
    "print(convert_kelvin_1(273.15, 'Farenheit')) # Checking if convert_kelvin() works\n",
    "print(convert_kelvin_1(373.15, 'Farenheit'))\n",
    "print(convert_kelvin_1(0))\n",
    "print(convert_kelvin_1(100))\n",
    "print(convert_kelvin_1(0, 'Scale'))"
   ]
  },
  {
   "cell_type": "code",
   "execution_count": 112,
   "id": "7c16ce84-5786-4d64-860e-10d28422c5cd",
   "metadata": {},
   "outputs": [],
   "source": [
    "def convert_temperature_1(temperature, source_scale, target_scale):\n",
    "    if source_scale == 'Celsius':\n",
    "        return convert_celsius_1(temperature, target_scale)\n",
    "    elif source_scale == 'Farenheit':\n",
    "        return convert_farenheit_1(temperature, target_scale)\n",
    "    elif source_scale == 'Kelvin':\n",
    "        return convert_kelvin_1(temperature, target_scale)\n",
    "    else:\n",
    "        return 'You have entered an invalid source scale!'"
   ]
  },
  {
   "cell_type": "code",
   "execution_count": 115,
   "id": "4fd30134-64d0-4875-a994-7c3b85a8820b",
   "metadata": {},
   "outputs": [
    {
     "ename": "TypeError",
     "evalue": "convert_temperature_1() missing 1 required positional argument: 'target_scale'",
     "output_type": "error",
     "traceback": [
      "\u001b[1;31m---------------------------------------------------------------------------\u001b[0m",
      "\u001b[1;31mTypeError\u001b[0m                                 Traceback (most recent call last)",
      "Cell \u001b[1;32mIn[115], line 4\u001b[0m\n\u001b[0;32m      1\u001b[0m \u001b[38;5;66;03m# Showing that default arguments in the previously defined functions don't work here\u001b[39;00m\n\u001b[0;32m      2\u001b[0m \u001b[38;5;66;03m# This is because the function convert_temperature_1() itself doesn't have a default argument\u001b[39;00m\n\u001b[1;32m----> 4\u001b[0m \u001b[38;5;28mprint\u001b[39m(\u001b[43mconvert_temperature_1\u001b[49m\u001b[43m(\u001b[49m\u001b[38;5;241;43m100\u001b[39;49m\u001b[43m,\u001b[49m\u001b[43m \u001b[49m\u001b[38;5;124;43m'\u001b[39;49m\u001b[38;5;124;43mCelsius\u001b[39;49m\u001b[38;5;124;43m'\u001b[39;49m\u001b[43m)\u001b[49m)\n",
      "\u001b[1;31mTypeError\u001b[0m: convert_temperature_1() missing 1 required positional argument: 'target_scale'"
     ]
    }
   ],
   "source": [
    "# Showing that default arguments in the previously defined functions don't work here\n",
    "# This is because the function convert_temperature_1() itself doesn't have a default argument\n",
    "\n",
    "print(convert_temperature_1(100, 'Celsius'))"
   ]
  }
 ],
 "metadata": {
  "kernelspec": {
   "display_name": "Python 3 (ipykernel)",
   "language": "python",
   "name": "python3"
  },
  "language_info": {
   "codemirror_mode": {
    "name": "ipython",
    "version": 3
   },
   "file_extension": ".py",
   "mimetype": "text/x-python",
   "name": "python",
   "nbconvert_exporter": "python",
   "pygments_lexer": "ipython3",
   "version": "3.12.3"
  },
  "toc": {
   "base_numbering": 1,
   "nav_menu": {},
   "number_sections": true,
   "sideBar": true,
   "skip_h1_title": false,
   "title_cell": "Table of Contents",
   "title_sidebar": "Contents",
   "toc_cell": false,
   "toc_position": {},
   "toc_section_display": true,
   "toc_window_display": false
  },
  "vscode": {
   "interpreter": {
    "hash": "31f2aee4e71d21fbe5cf8b01ff0e069b9275f58929596ceb00d14d90e3e16cd6"
   }
  }
 },
 "nbformat": 4,
 "nbformat_minor": 5
}
