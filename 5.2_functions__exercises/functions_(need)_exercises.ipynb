{
 "cells": [
  {
   "attachments": {},
   "cell_type": "markdown",
   "id": "123456",
   "metadata": {},
   "source": [
    "<div style=\"text-align:left;font-size:2em\"><span style=\"font-weight:bolder;font-size:1.25em\">SP2273 | Learning Portfolio</span><br><br><span style=\"font-weight:bold;color:darkred\">Functions (Need) Exercises</span></div>"
   ]
  },
  {
   "cell_type": "markdown",
   "id": "86ae6f25-b606-41b7-b341-04148e0466e7",
   "metadata": {},
   "source": [
    "**Exercise 1 (Do you know why?)**"
   ]
  },
  {
   "cell_type": "code",
   "execution_count": 18,
   "id": "a88be5b7-3d66-4d2d-9033-3c5a53362a67",
   "metadata": {},
   "outputs": [],
   "source": [
    "def greeting(name):\n",
    "    if name == 'Batman':\n",
    "        return 'Hello Batman! So, nice to meet you!'\n",
    "    return f'Hello {name}!'"
   ]
  },
  {
   "cell_type": "markdown",
   "id": "5b4ecb8b-27cb-4855-948d-986ee7e54d18",
   "metadata": {},
   "source": [
    "The function works because it uses the keyword 'return' if the condition is met. When a return statement is executed, the function terminates immediately and no further code is executed. If print() is used instead of return, all following lines of code would still be executed even when the condition is met, leading to a double output, as seen below:"
   ]
  },
  {
   "cell_type": "code",
   "execution_count": 19,
   "id": "50476320-a898-44b1-881d-b3f3c6c9d400",
   "metadata": {},
   "outputs": [],
   "source": [
    "def greeting(name):\n",
    "    if name == 'Batman':\n",
    "        print('Hello Batman! So, nice to meet you!')\n",
    "    return f'Hello {name}!'"
   ]
  },
  {
   "cell_type": "code",
   "execution_count": 20,
   "id": "a68bd190-f7cb-44d4-9475-59d8c200d9d9",
   "metadata": {},
   "outputs": [
    {
     "name": "stdout",
     "output_type": "stream",
     "text": [
      "Hello Batman! So, nice to meet you!\n"
     ]
    },
    {
     "data": {
      "text/plain": [
       "'Hello Batman!'"
      ]
     },
     "execution_count": 20,
     "metadata": {},
     "output_type": "execute_result"
    }
   ],
   "source": [
    "greeting(\"Batman\")"
   ]
  },
  {
   "cell_type": "markdown",
   "id": "9345ac4a-037f-489b-be53-f87a1f5c2abf",
   "metadata": {},
   "source": [
    "**Exercise 2 (Chubby or not)**"
   ]
  },
  {
   "cell_type": "markdown",
   "id": "4851b128-abf0-42c6-a9d9-3800829ab1d3",
   "metadata": {},
   "source": [
    "**Exercise 3 (Factorials)**"
   ]
  }
 ],
 "metadata": {
  "kernelspec": {
   "display_name": "Python 3 (ipykernel)",
   "language": "python",
   "name": "python3"
  },
  "language_info": {
   "codemirror_mode": {
    "name": "ipython",
    "version": 3
   },
   "file_extension": ".py",
   "mimetype": "text/x-python",
   "name": "python",
   "nbconvert_exporter": "python",
   "pygments_lexer": "ipython3",
   "version": "3.12.3"
  },
  "toc": {
   "base_numbering": 1,
   "nav_menu": {},
   "number_sections": true,
   "sideBar": true,
   "skip_h1_title": false,
   "title_cell": "Table of Contents",
   "title_sidebar": "Contents",
   "toc_cell": false,
   "toc_position": {},
   "toc_section_display": true,
   "toc_window_display": false
  },
  "vscode": {
   "interpreter": {
    "hash": "31f2aee4e71d21fbe5cf8b01ff0e069b9275f58929596ceb00d14d90e3e16cd6"
   }
  }
 },
 "nbformat": 4,
 "nbformat_minor": 5
}
