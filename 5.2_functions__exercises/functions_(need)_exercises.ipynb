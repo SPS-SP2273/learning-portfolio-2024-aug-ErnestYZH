{
 "cells": [
  {
   "attachments": {},
   "cell_type": "markdown",
   "id": "123456",
   "metadata": {},
   "source": [
    "<div style=\"text-align:left;font-size:2em\"><span style=\"font-weight:bolder;font-size:1.25em\">SP2273 | Learning Portfolio</span><br><br><span style=\"font-weight:bold;color:darkred\">Functions (Need) Exercises</span></div>"
   ]
  },
  {
   "cell_type": "markdown",
   "id": "86ae6f25-b606-41b7-b341-04148e0466e7",
   "metadata": {},
   "source": [
    "**Exercise 1 (Do you know why?)**"
   ]
  },
  {
   "cell_type": "code",
   "execution_count": 18,
   "id": "a88be5b7-3d66-4d2d-9033-3c5a53362a67",
   "metadata": {},
   "outputs": [],
   "source": [
    "def greeting(name):\n",
    "    if name == 'Batman':\n",
    "        return 'Hello Batman! So, nice to meet you!'\n",
    "    return f'Hello {name}!'"
   ]
  },
  {
   "cell_type": "markdown",
   "id": "5b4ecb8b-27cb-4855-948d-986ee7e54d18",
   "metadata": {},
   "source": [
    "The function works because it uses the keyword 'return' if the condition is met. When a return statement is executed, the function terminates immediately and no further code is executed. If print() is used instead of return, all following lines of code would still be executed even when the condition is met, leading to a double output, as seen below:"
   ]
  },
  {
   "cell_type": "code",
   "execution_count": 19,
   "id": "50476320-a898-44b1-881d-b3f3c6c9d400",
   "metadata": {},
   "outputs": [],
   "source": [
    "def greeting(name):\n",
    "    if name == 'Batman':\n",
    "        print('Hello Batman! So, nice to meet you!')\n",
    "    return f'Hello {name}!'"
   ]
  },
  {
   "cell_type": "code",
   "execution_count": 20,
   "id": "a68bd190-f7cb-44d4-9475-59d8c200d9d9",
   "metadata": {},
   "outputs": [
    {
     "name": "stdout",
     "output_type": "stream",
     "text": [
      "Hello Batman! So, nice to meet you!\n"
     ]
    },
    {
     "data": {
      "text/plain": [
       "'Hello Batman!'"
      ]
     },
     "execution_count": 20,
     "metadata": {},
     "output_type": "execute_result"
    }
   ],
   "source": [
    "greeting(\"Batman\")"
   ]
  },
  {
   "cell_type": "markdown",
   "id": "832374fe-da9c-4186-ac23-9afdd813a9ce",
   "metadata": {},
   "source": [
    "**Exercise 1 (Do you know why?) (After Review)**"
   ]
  },
  {
   "cell_type": "markdown",
   "id": "9755127c-71c3-446d-a230-93b9f8b5a0de",
   "metadata": {},
   "source": [
    "In addition to the previously mentioned difference between **return** and **print()**, another major difference is that **return** can only be used inside a function, while **print()**, a function itself, can be used anywhere in the code. I have actually experienced this in some of the other exercises, when I mistakenly tried to use **return** instead of **print()** to output a string or value. This can be illustrated in the examples below, from the fundamentals_(good) exercises:"
   ]
  },
  {
   "cell_type": "code",
   "execution_count": 2,
   "id": "20198c74-7ba7-4627-8c37-27e2c6c86664",
   "metadata": {},
   "outputs": [
    {
     "name": "stdin",
     "output_type": "stream",
     "text": [
      "Enter the student's score: 100\n"
     ]
    },
    {
     "name": "stdout",
     "output_type": "stream",
     "text": [
      "Enter the student's score: 100\n",
      "The student's letter grade is: A\n"
     ]
    }
   ],
   "source": [
    "user_input = input(\"Enter the student's score:\")\n",
    "print(f'Enter the student\\'s score: {user_input}')\n",
    "score = int(user_input)\n",
    "if 0 <= score <= 100:\n",
    "    if 70 <= score:\n",
    "        grade = 'A'\n",
    "    elif 50 <= score:\n",
    "        grade = 'B'\n",
    "    elif 35 <= score:\n",
    "        grade = 'C'\n",
    "    else:\n",
    "        grade = 'Fail'\n",
    "    print(f\"The student's letter grade is: {grade}\")\n",
    "else:\n",
    "    print('You have entered an invalid input!')"
   ]
  },
  {
   "cell_type": "code",
   "execution_count": 3,
   "id": "38d4d0ec-4305-4e0c-9195-83dac7ac8a3b",
   "metadata": {},
   "outputs": [
    {
     "name": "stdin",
     "output_type": "stream",
     "text": [
      "Enter the student's score: 100\n"
     ]
    },
    {
     "name": "stdout",
     "output_type": "stream",
     "text": [
      "Enter the student's score: 100\n"
     ]
    },
    {
     "ename": "SyntaxError",
     "evalue": "'return' outside function (2406348859.py, line 13)",
     "output_type": "error",
     "traceback": [
      "\u001b[1;36m  Cell \u001b[1;32mIn[3], line 13\u001b[1;36m\u001b[0m\n\u001b[1;33m    return f\"The student's letter grade is: {grade}\"\u001b[0m\n\u001b[1;37m    ^\u001b[0m\n\u001b[1;31mSyntaxError\u001b[0m\u001b[1;31m:\u001b[0m 'return' outside function\n"
     ]
    }
   ],
   "source": [
    "user_input = input(\"Enter the student's score:\")\n",
    "print(f'Enter the student\\'s score: {user_input}')\n",
    "score = int(user_input)\n",
    "if 0 <= score <= 100:\n",
    "    if 70 <= score:\n",
    "        grade = 'A'\n",
    "    elif 50 <= score:\n",
    "        grade = 'B'\n",
    "    elif 35 <= score:\n",
    "        grade = 'C'\n",
    "    else:\n",
    "        grade = 'Fail'\n",
    "    return f\"The student's letter grade is: {grade}\"\n",
    "else:\n",
    "    return 'You have entered an invalid input!'"
   ]
  },
  {
   "cell_type": "markdown",
   "id": "9345ac4a-037f-489b-be53-f87a1f5c2abf",
   "metadata": {},
   "source": [
    "**Exercise 2 (Chubby or not)**"
   ]
  },
  {
   "cell_type": "markdown",
   "id": "e8bb0a12-3239-4f9c-84de-3ba09289b6d8",
   "metadata": {},
   "source": [
    "| **Category**  | **BMI Range**             |\n",
    "|:--|:--|\n",
    "| Underweight   | BMI less than 18.5        |\n",
    "| Normal Weight | BMI between 18.5 and 24.9 |\n",
    "| Overweight    | BMI between 25 and 29.9   |\n",
    "| Obese         | BMI 30 or more            |"
   ]
  },
  {
   "cell_type": "code",
   "execution_count": 71,
   "id": "c6e32651-f530-4c07-bcec-7084575d0828",
   "metadata": {},
   "outputs": [],
   "source": [
    "def calculate_bmi(weight, height):\n",
    "    bmi = weight / (float(height) ** 2)\n",
    "    if bmi < 18.5:\n",
    "        category = 'Underweight'\n",
    "    elif 18.5 <= bmi <= 24.9:\n",
    "        category = 'Normal Weight'\n",
    "    elif 25 <= bmi <= 29.9:\n",
    "        category = 'Overweight'\n",
    "    elif bmi >= 30:\n",
    "        category = 'Obese'\n",
    "    print(f'Your BMI is {bmi:.2f}. You are {category}!')"
   ]
  },
  {
   "cell_type": "code",
   "execution_count": 72,
   "id": "dd12a50f-89ad-4f59-bb2d-0e77db6ff28a",
   "metadata": {},
   "outputs": [
    {
     "name": "stdout",
     "output_type": "stream",
     "text": [
      "Your BMI is 44.44. You are Obese!\n"
     ]
    }
   ],
   "source": [
    "calculate_bmi(100, 1.50)"
   ]
  },
  {
   "cell_type": "markdown",
   "id": "4851b128-abf0-42c6-a9d9-3800829ab1d3",
   "metadata": {},
   "source": [
    "**Exercise 3 (Factorials)**"
   ]
  },
  {
   "cell_type": "code",
   "execution_count": 104,
   "id": "9cf2c94b-9094-47ec-9b81-272f0d8f7bd1",
   "metadata": {},
   "outputs": [],
   "source": [
    "def factorial(n):\n",
    "    if type(n) == int and n >= 0:\n",
    "        factorial = 1\n",
    "        for i in range(1, n+1):\n",
    "            factorial *= i\n",
    "        print(f'{n}! = {factorial}')\n",
    "    else:\n",
    "        print('Your input is invalid!')"
   ]
  },
  {
   "cell_type": "code",
   "execution_count": 105,
   "id": "d8a6930f-5304-4d9d-8343-02a506418722",
   "metadata": {},
   "outputs": [
    {
     "name": "stdout",
     "output_type": "stream",
     "text": [
      "0! = 1\n",
      "5! = 120\n",
      "Your input is invalid!\n",
      "Your input is invalid!\n"
     ]
    }
   ],
   "source": [
    "factorial(0)\n",
    "factorial(5)\n",
    "factorial(-1)\n",
    "factorial(5.5)"
   ]
  }
 ],
 "metadata": {
  "kernelspec": {
   "display_name": "Python 3 (ipykernel)",
   "language": "python",
   "name": "python3"
  },
  "language_info": {
   "codemirror_mode": {
    "name": "ipython",
    "version": 3
   },
   "file_extension": ".py",
   "mimetype": "text/x-python",
   "name": "python",
   "nbconvert_exporter": "python",
   "pygments_lexer": "ipython3",
   "version": "3.12.3"
  },
  "toc": {
   "base_numbering": 1,
   "nav_menu": {},
   "number_sections": true,
   "sideBar": true,
   "skip_h1_title": false,
   "title_cell": "Table of Contents",
   "title_sidebar": "Contents",
   "toc_cell": false,
   "toc_position": {},
   "toc_section_display": true,
   "toc_window_display": false
  },
  "vscode": {
   "interpreter": {
    "hash": "31f2aee4e71d21fbe5cf8b01ff0e069b9275f58929596ceb00d14d90e3e16cd6"
   }
  }
 },
 "nbformat": 4,
 "nbformat_minor": 5
}
