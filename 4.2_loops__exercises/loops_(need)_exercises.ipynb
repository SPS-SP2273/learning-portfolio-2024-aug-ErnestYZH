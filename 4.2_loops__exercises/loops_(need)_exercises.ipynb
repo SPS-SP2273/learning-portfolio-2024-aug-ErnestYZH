{
 "cells": [
  {
   "attachments": {},
   "cell_type": "markdown",
   "id": "123456",
   "metadata": {},
   "source": [
    "<div style=\"text-align:left;font-size:2em\"><span style=\"font-weight:bolder;font-size:1.25em\">SP2273 | Learning Portfolio</span><br><br><span style=\"font-weight:bold;color:darkred\">Loops (Need) Exercises</span></div>"
   ]
  },
  {
   "cell_type": "markdown",
   "id": "79e59683-98d1-49f2-9310-1393e503149a",
   "metadata": {},
   "source": [
    "**Exercise 1 (Celsius to Farenheit)**"
   ]
  },
  {
   "cell_type": "code",
   "execution_count": 116,
   "id": "ddd16f4b-8dc1-4c2a-beda-e877ce0a643a",
   "metadata": {},
   "outputs": [
    {
     "name": "stdout",
     "output_type": "stream",
     "text": [
      "0°C, 32.0°F\n",
      "5°C, 41.0°F\n",
      "10°C, 50.0°F\n",
      "15°C, 59.0°F\n",
      "20°C, 68.0°F\n",
      "25°C, 77.0°F\n",
      "30°C, 86.0°F\n",
      "35°C, 95.0°F\n",
      "40°C, 104.0°F\n",
      "45°C, 113.0°F\n",
      "50°C, 122.0°F\n"
     ]
    }
   ],
   "source": [
    "import numpy as np\n",
    "temperatures_celsius = [\n",
    "    0, 5, 10, 15, 20, 25,\n",
    "    30, 35, 40, 45, 50\n",
    "]\n",
    "celsius = np.array(temperatures_celsius) # Creating array based on list to perform operations on all elements\n",
    "farenheit = celsius*(9/5)+32             # This line would not work if done on a list\n",
    "\n",
    "for i in range(len(celsius)):\n",
    "    c = celsius[i]\n",
    "    f = farenheit[i]\n",
    "    print(f'{c}\\N{DEGREE SIGN}C, {f}\\N{DEGREE SIGN}F')"
   ]
  },
  {
   "cell_type": "code",
   "execution_count": 14,
   "id": "8fd77ea8-ff15-4184-aa8f-70a6f77a137b",
   "metadata": {},
   "outputs": [],
   "source": [
    "# OR"
   ]
  },
  {
   "cell_type": "code",
   "execution_count": 117,
   "id": "4b367ee5-78df-4b27-881a-1449f0f719e4",
   "metadata": {},
   "outputs": [
    {
     "name": "stdout",
     "output_type": "stream",
     "text": [
      "0°C, 32.0°F\n",
      "5°C, 41.0°F\n",
      "10°C, 50.0°F\n",
      "15°C, 59.0°F\n",
      "20°C, 68.0°F\n",
      "25°C, 77.0°F\n",
      "30°C, 86.0°F\n",
      "35°C, 95.0°F\n",
      "40°C, 104.0°F\n",
      "45°C, 113.0°F\n",
      "50°C, 122.0°F\n"
     ]
    }
   ],
   "source": [
    "temperatures_celsius = [\n",
    "    0, 5, 10, 15, 20, 25,\n",
    "    30, 35, 40, 45, 50\n",
    "]\n",
    "\n",
    "for i in temperatures_celsius:\n",
    "    print(f'{i}\\N{DEGREE SIGN}C, {i*(9/5)+32}\\N{DEGREE SIGN}F')"
   ]
  },
  {
   "cell_type": "markdown",
   "id": "1fc059fd-a8f2-4b9a-a840-21447fbeb2a5",
   "metadata": {},
   "source": [
    "**Exercise 2 (Multiplication Table)**"
   ]
  },
  {
   "cell_type": "code",
   "execution_count": 20,
   "id": "c21d6a0a-7031-45e9-a486-9190666db22d",
   "metadata": {},
   "outputs": [
    {
     "name": "stdout",
     "output_type": "stream",
     "text": [
      "A1\tA2\tA3\t\n",
      "\n",
      "B1\tB2\tB3\t\n",
      "\n",
      "C1\tC2\tC3\t\n",
      "\n"
     ]
    }
   ],
   "source": [
    "for letter in ['A', 'B', 'C']:\n",
    "    for number in [1, 2, 3]:\n",
    "        print(f'{letter}{number}', end='\\t')\n",
    "    print('\\n')"
   ]
  },
  {
   "cell_type": "code",
   "execution_count": 163,
   "id": "ac7b75cc-5327-4435-94a6-103b8aea5e0e",
   "metadata": {},
   "outputs": [
    {
     "name": "stdout",
     "output_type": "stream",
     "text": [
      "1 : 1    2    3    4    5    \n",
      "2 : 2    4    6    8    10   \n",
      "3 : 3    6    9    12   15   \n",
      "4 : 4    8    12   16   20   \n",
      "5 : 5    10   15   20   25   \n"
     ]
    }
   ],
   "source": [
    "for row in range(1, 6):\n",
    "    print(row, end=' : ')\n",
    "    for number in range(1, 6):\n",
    "        print(f'{number*row:<5}', end='') # end='' as Python prints \\n if unspecified\n",
    "                                          # align :<5 to match formatting in task\n",
    "    print()                               # To print a new line after each row"
   ]
  },
  {
   "cell_type": "markdown",
   "id": "9dbb9296-3c83-439c-a6d4-ea45db4160f4",
   "metadata": {},
   "source": [
    "**Exercise 3 (Simulating a Coin Flip Experiment)**"
   ]
  },
  {
   "cell_type": "code",
   "execution_count": 118,
   "id": "5aa65729-c277-41de-9568-bcda2bb3e629",
   "metadata": {},
   "outputs": [
    {
     "data": {
      "text/plain": [
       "array([0.4586664 , 0.26503422, 0.50784546, 0.21618911, 0.38824049,\n",
       "       0.29467084, 0.47502863, 0.42180949, 0.45177766, 0.67529265])"
      ]
     },
     "execution_count": 118,
     "metadata": {},
     "output_type": "execute_result"
    }
   ],
   "source": [
    "np.random.rand(10)"
   ]
  },
  {
   "cell_type": "code",
   "execution_count": 164,
   "id": "a8dde223-fd64-4c1b-958d-ace2f5071a22",
   "metadata": {},
   "outputs": [
    {
     "name": "stdout",
     "output_type": "stream",
     "text": [
      "Experiment  1: No. of Heads = 6\n",
      "Experiment  2: No. of Heads = 3\n",
      "Experiment  3: No. of Heads = 5\n",
      "Experiment  4: No. of Heads = 5\n",
      "Experiment  5: No. of Heads = 4\n",
      "Experiment  6: No. of Heads = 6\n",
      "Experiment  7: No. of Heads = 6\n",
      "Experiment  8: No. of Heads = 5\n",
      "Experiment  9: No. of Heads = 4\n",
      "Experiment 10: No. of Heads = 6\n"
     ]
    }
   ],
   "source": [
    "for i in range (1, 11):\n",
    "    results = np.random.rand(10)\n",
    "    heads = results > 0.5 # Mask to subset results that are considered as heads\n",
    "    heads_count = heads.sum()\n",
    "    print(f'Experiment {i:>2}: No. of Heads = {heads_count}') # align :<2 to match formatting in task"
   ]
  }
 ],
 "metadata": {
  "kernelspec": {
   "display_name": "Python 3 (ipykernel)",
   "language": "python",
   "name": "python3"
  },
  "language_info": {
   "codemirror_mode": {
    "name": "ipython",
    "version": 3
   },
   "file_extension": ".py",
   "mimetype": "text/x-python",
   "name": "python",
   "nbconvert_exporter": "python",
   "pygments_lexer": "ipython3",
   "version": "3.12.3"
  },
  "toc": {
   "base_numbering": 1,
   "nav_menu": {},
   "number_sections": true,
   "sideBar": true,
   "skip_h1_title": false,
   "title_cell": "Table of Contents",
   "title_sidebar": "Contents",
   "toc_cell": false,
   "toc_position": {},
   "toc_section_display": true,
   "toc_window_display": false
  },
  "vscode": {
   "interpreter": {
    "hash": "31f2aee4e71d21fbe5cf8b01ff0e069b9275f58929596ceb00d14d90e3e16cd6"
   }
  }
 },
 "nbformat": 4,
 "nbformat_minor": 5
}
