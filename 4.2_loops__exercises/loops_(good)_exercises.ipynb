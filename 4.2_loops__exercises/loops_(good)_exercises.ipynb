{
 "cells": [
  {
   "attachments": {},
   "cell_type": "markdown",
   "id": "123456",
   "metadata": {},
   "source": [
    "<div style=\"text-align:left;font-size:2em\"><span style=\"font-weight:bolder;font-size:1.25em\">SP2273 | Learning Portfolio</span><br><br><span style=\"font-weight:bold;color:darkred\">Loops (Good) Exercises</span></div>"
   ]
  },
  {
   "cell_type": "markdown",
   "id": "6909e7c9-4086-450e-965c-be3e83d99862",
   "metadata": {},
   "source": [
    "**Exercise 1 (Make me an odd list)**"
   ]
  },
  {
   "cell_type": "code",
   "execution_count": 10,
   "id": "0e36e5c4-2624-4823-b0ae-09ba50e4672c",
   "metadata": {},
   "outputs": [
    {
     "data": {
      "text/plain": [
       "[1, 9, 25, 49, 81]"
      ]
     },
     "execution_count": 10,
     "metadata": {},
     "output_type": "execute_result"
    }
   ],
   "source": [
    "x = []\n",
    "for i in range(10):\n",
    "    if i%2 == 0:\n",
    "        continue\n",
    "    square = i**2\n",
    "    x.append(square)\n",
    "x"
   ]
  },
  {
   "cell_type": "markdown",
   "id": "445b8ea8-7f37-478d-9dbf-da21efbe99d5",
   "metadata": {},
   "source": [
    "**Exercise 2 (Make me another odd list)**"
   ]
  },
  {
   "cell_type": "code",
   "execution_count": 11,
   "id": "7964a1e7-73a2-411c-a787-e4fd942419e2",
   "metadata": {},
   "outputs": [
    {
     "data": {
      "text/plain": [
       "[1, 9, 25, 49, 81]"
      ]
     },
     "execution_count": 11,
     "metadata": {},
     "output_type": "execute_result"
    }
   ],
   "source": [
    "[number**2 for number in range (10) if number%2 == 1]"
   ]
  },
  {
   "cell_type": "markdown",
   "id": "4e4c8527-9854-4907-b0a2-607747eebb74",
   "metadata": {},
   "source": [
    "**Exercise 3 (Time me!)**"
   ]
  },
  {
   "cell_type": "code",
   "execution_count": 8,
   "id": "a64121ad-ecdc-45ed-af69-56ff75aa764a",
   "metadata": {},
   "outputs": [
    {
     "name": "stdout",
     "output_type": "stream",
     "text": [
      "1.1 μs ± 79 ns per loop (mean ± std. dev. of 7 runs, 1,000,000 loops each)\n"
     ]
    }
   ],
   "source": [
    "%%timeit\n",
    "x = []\n",
    "for i in range(10):\n",
    "    if i%2 == 0:\n",
    "        continue\n",
    "    square = i**2\n",
    "    x.append(square)\n",
    "x"
   ]
  },
  {
   "cell_type": "code",
   "execution_count": 9,
   "id": "0277261a-6b4a-40d7-a351-d3ce7a77cf78",
   "metadata": {},
   "outputs": [
    {
     "name": "stdout",
     "output_type": "stream",
     "text": [
      "1.06 μs ± 60.4 ns per loop (mean ± std. dev. of 7 runs, 1,000,000 loops each)\n"
     ]
    }
   ],
   "source": [
    "%%timeit\n",
    "[number**2 for number in range (10) if number%2 == 1]"
   ]
  },
  {
   "cell_type": "markdown",
   "id": "163b6e17-8087-4b5e-81b9-e6950d99a2a5",
   "metadata": {},
   "source": [
    "The 2nd method (using list comprehension) is faster, although not by much."
   ]
  },
  {
   "cell_type": "markdown",
   "id": "51c5dde6-2bc0-42fa-b3d3-ae9d48734c4e",
   "metadata": {},
   "source": [
    "**Exercise 4 (A problem of decay)**"
   ]
  },
  {
   "cell_type": "code",
   "execution_count": 14,
   "id": "c46adffc-4f52-4fbf-a565-37d89ff35a34",
   "metadata": {},
   "outputs": [
    {
     "name": "stdout",
     "output_type": "stream",
     "text": [
      "The sample takes 14 years to reduce to half its original amount.\n"
     ]
    }
   ],
   "source": [
    "units = 100\n",
    "year = 0\n",
    "while units > 50:\n",
    "    units *= 0.95\n",
    "    year += 1       # Adds 1 year every time the sample decays by 5%, including the year that brings it to below 50 units\n",
    "print(f'The sample takes {year} years to reduce to half its original amount.')"
   ]
  },
  {
   "cell_type": "markdown",
   "id": "b3c3e27d-ded3-4ed4-a634-e7d3a6fdc93a",
   "metadata": {},
   "source": [
    "**Exercise 5 (Changes in CO<sub>2)**"
   ]
  },
  {
   "cell_type": "code",
   "execution_count": 99,
   "id": "2b19f7a1-cf65-4d37-adad-d4cf20485177",
   "metadata": {},
   "outputs": [],
   "source": [
    "co2_data = [\n",
    "    (2000, 369.55), (2001, 371.14), (2002, 373.28), \n",
    "    (2003, 375.80), (2004, 377.52), (2005, 379.80), \n",
    "    (2006, 381.90), (2007, 383.79), (2008, 385.60), \n",
    "    (2009, 387.43), (2010, 389.90), (2011, 391.65), \n",
    "    (2012, 393.85), (2013, 396.52), (2014, 398.65),\n",
    "    (2015, 400.83), (2016, 404.24), (2017, 406.55), \n",
    "    (2018, 408.52), (2019, 411.44), (2020, 414.24)\n",
    "] # List of tuples, meaning the elements within each tuple cannot be changed"
   ]
  },
  {
   "cell_type": "code",
   "execution_count": 101,
   "id": "b799e043-1b59-42fe-af6a-e2507f74cc2a",
   "metadata": {},
   "outputs": [
    {
     "name": "stdout",
     "output_type": "stream",
     "text": [
      "From 2015 to 2016, there was an increase in the concentration of CO₂ of 3.41 ppm.\n"
     ]
    }
   ],
   "source": [
    "i = 0\n",
    "for i in range(len(co2_data)-1):                   # Used range(len(co2_data)) instead of range(1, len(co2_data)) as i+1 would exceed the range\n",
    "    if (co2_data[i+1][1] - co2_data[i][1]) > 3:\n",
    "        print(f'From {co2_data[i][0]} to {co2_data[i+1][0]}, there was an increase in the concentration of CO\\u2082 of {(co2_data[i+1][1] - co2_data[i][1]):.2f} ppm.')\n",
    "    i += 1"
   ]
  },
  {
   "cell_type": "markdown",
   "id": "7f7089ff-6930-41ad-82d8-a86d3450a335",
   "metadata": {},
   "source": [
    "<div style=\"text-align:left;font-size:2em\"><span style=\"font-weight:bolder;font-size:1.25em\">SP2273 | Learning Portfolio</span><br><br><span style=\"font-weight:bold;color:darkred\">Loops (Nice) Exercises</span></div>"
   ]
  },
  {
   "cell_type": "markdown",
   "id": "a285185f-d047-47a1-b588-0879de743e33",
   "metadata": {},
   "source": [
    "**Exercise 1 (Changing a list)**"
   ]
  },
  {
   "cell_type": "code",
   "execution_count": 65,
   "id": "f901b0ff-4ace-4f6e-b55c-83b5f0f9dc4f",
   "metadata": {},
   "outputs": [],
   "source": [
    "fruits = [\"apple\", \"banana\", \"jackfruit\",\n",
    "          \"pineapple\", \"papaya\", \"watermelons\",\n",
    "          \"peaches\", \"durian\",  \"mangoes\",\n",
    "          \"strawberries\", \"passionfruit\"\n",
    "          ]"
   ]
  },
  {
   "cell_type": "code",
   "execution_count": 66,
   "id": "96126e39-ed0d-4583-8a6e-ae9dce10c28f",
   "metadata": {},
   "outputs": [
    {
     "data": {
      "text/plain": [
       "['apple',\n",
       " 'banana',\n",
       " 'jackfruit',\n",
       " 'papaya',\n",
       " 'watermelons',\n",
       " 'durian',\n",
       " 'mangoes',\n",
       " 'strawberries']"
      ]
     },
     "execution_count": 66,
     "metadata": {},
     "output_type": "execute_result"
    }
   ],
   "source": [
    "for fruit in fruits:\n",
    "    if fruit[0] == \"p\":\n",
    "        fruits.remove(fruit)\n",
    "fruits\n",
    "\n",
    "# A for loop used with a list works by iterating over each element in a list\n",
    "# The important factor is that it starts with the first element [0], then moves on to the next [-1], and so on, until it reaches [-1]\n",
    "# When our for loop removes an element from the list, it changes the index of all the remaining elements in the list, subtracting them by 1 each\n",
    "# When the for loop reaches fruits[3]='pineapple', it removes it from the list\n",
    "# After this change, 'papaya' goes from fruits[4] to fruits[3], and so on for the other fruits\n",
    "# However, the for loop now moves on to fruits[4], effectively skipping 'papaya'\n",
    "# This means the function will not remove any fruits starting with 'p' whenever there are 2 in a row\n",
    "# Theoretically, this function would work if there were no consecutive fruits starting with p, or if it were repeated many times\n",
    "# However, it is still fundamentally flawed\n",
    "\n",
    "# Note: I did not know we could even index strings to obtain individual characters before this"
   ]
  },
  {
   "cell_type": "code",
   "execution_count": 67,
   "id": "fb938791-071f-4fb1-93b8-0f56b9f13ec3",
   "metadata": {},
   "outputs": [
    {
     "data": {
      "text/plain": [
       "['apple',\n",
       " 'banana',\n",
       " 'jackfruit',\n",
       " 'watermelons',\n",
       " 'durian',\n",
       " 'mangoes',\n",
       " 'strawberries']"
      ]
     },
     "execution_count": 67,
     "metadata": {},
     "output_type": "execute_result"
    }
   ],
   "source": [
    "fruits = [\"apple\", \"banana\", \"jackfruit\",\n",
    "          \"pineapple\", \"papaya\", \"watermelons\",\n",
    "          \"peaches\", \"durian\",  \"mangoes\",\n",
    "          \"strawberries\", \"passionfruit\"\n",
    "          ]\n",
    "\n",
    "copy_of_fruits = fruits.copy()\n",
    "\n",
    "# Not that we are looping(iterating) over the copy\n",
    "for fruit in copy_of_fruits:\n",
    "    if fruit[0] == \"p\":\n",
    "        fruits.remove(fruit)\n",
    "\n",
    "fruits\n",
    "\n",
    "# In this solution, we are still removing from the original list, but iterating over a copy of the original list\n",
    "# Since the copied list remains unchanged through all the iterations, the index of the elements are not affected\n",
    "# Hence, the for loop is able to iterate through ALL the elements in the copied list"
   ]
  },
  {
   "cell_type": "code",
   "execution_count": 68,
   "id": "733410c3-be83-43d6-8c5b-85f8bd239f5a",
   "metadata": {},
   "outputs": [
    {
     "name": "stdout",
     "output_type": "stream",
     "text": [
      "['apple', 'banana', 'jackfruit', 'watermelons', 'durian', 'mangoes', 'strawberries']\n",
      "['apple', 'banana', 'jackfruit', 'pineapple', 'papaya', 'watermelons', 'peaches', 'durian', 'mangoes', 'strawberries', 'passionfruit']\n"
     ]
    }
   ],
   "source": [
    "fruits = [\"apple\", \"banana\", \"jackfruit\",\n",
    "          \"pineapple\", \"papaya\", \"watermelons\",\n",
    "          \"peaches\", \"durian\",  \"mangoes\",\n",
    "          \"strawberries\", \"passionfruit\"\n",
    "          ]\n",
    "\n",
    "print([fruit for fruit in fruits if fruit[0] != \"p\"])\n",
    "print(fruits)\n",
    "\n",
    "# This solution uses list comprehension to form a new list with fruits that do not start with \"p\"\n",
    "# Since the original list remains unchanged, the for loop in the list comprehension is able to iterate through ALL the elements of the original list"
   ]
  },
  {
   "cell_type": "markdown",
   "id": "d0b9acb0-2b3f-485b-9c93-c5580fd79e3b",
   "metadata": {},
   "source": [
    "**Exercise 2 (A list of powers)**"
   ]
  },
  {
   "cell_type": "code",
   "execution_count": 69,
   "id": "de179ec0-355e-4b5d-a5c2-b82e7061f89d",
   "metadata": {},
   "outputs": [
    {
     "data": {
      "text/plain": [
       "[[], [], [], [], []]"
      ]
     },
     "execution_count": 69,
     "metadata": {},
     "output_type": "execute_result"
    }
   ],
   "source": [
    "maximum_n = 5\n",
    "result = [[]] * maximum_n\n",
    "result"
   ]
  },
  {
   "cell_type": "code",
   "execution_count": 70,
   "id": "bd58bbb5-6624-42db-a26e-ce411ea29af9",
   "metadata": {},
   "outputs": [
    {
     "data": {
      "text/plain": [
       "[[1, 1, 1, 2, 4, 8, 3, 9, 27, 4, 16, 64, 5, 25, 125],\n",
       " [1, 1, 1, 2, 4, 8, 3, 9, 27, 4, 16, 64, 5, 25, 125],\n",
       " [1, 1, 1, 2, 4, 8, 3, 9, 27, 4, 16, 64, 5, 25, 125],\n",
       " [1, 1, 1, 2, 4, 8, 3, 9, 27, 4, 16, 64, 5, 25, 125],\n",
       " [1, 1, 1, 2, 4, 8, 3, 9, 27, 4, 16, 64, 5, 25, 125]]"
      ]
     },
     "execution_count": 70,
     "metadata": {},
     "output_type": "execute_result"
    }
   ],
   "source": [
    "maximum_n = 5\n",
    "result = [[]] * maximum_n            # This makes the element of the list [] 'grow' by 5 times\n",
    "\n",
    "for n in range(1, maximum_n + 1):\n",
    "    result[n - 1].append(n)\n",
    "    result[n - 1].append(n**2)\n",
    "    result[n - 1].append(n**3)\n",
    "result"
   ]
  },
  {
   "cell_type": "code",
   "execution_count": 71,
   "id": "3cb610fe-ba0f-40b8-a19c-adee8939882d",
   "metadata": {},
   "outputs": [
    {
     "data": {
      "text/plain": [
       "[['x'], ['x'], ['x'], ['x'], ['x']]"
      ]
     },
     "execution_count": 71,
     "metadata": {},
     "output_type": "execute_result"
    }
   ],
   "source": [
    "# The reason the above code does not work is that multiplying the list by 5 creates 5 instances of the SAME sublist\n",
    "# This is because multiplying a list DUPLICATES the original list into a new one, hence the duplicated elements are not distinct\n",
    "# Hence, using 'result[n - 1].append()', while aiming to append to a single sublist, actually appends to all 5 instances of that sublist\n",
    "# This means that each iteration of the for loop is appending to all 5 instances of the sublist every time\n",
    "# To better visualize this, I defined the empty list as 'sublist' for better clarity that it is a defined object stored in memory\n",
    "# After appending 'x' to 'sublist' separately, we can see that it is reflected in all 5 instances of 'sublist' in the larger list\n",
    "\n",
    "maximum_n = 5\n",
    "sublist = []\n",
    "result = [sublist] * maximum_n\n",
    "sublist.append('x')\n",
    "result"
   ]
  },
  {
   "cell_type": "code",
   "execution_count": 72,
   "id": "c0785e30-4fa6-4fa8-9544-f38a55f53dc8",
   "metadata": {},
   "outputs": [
    {
     "name": "stdout",
     "output_type": "stream",
     "text": [
      "0 1419532591360\n",
      "1 1419532591360\n",
      "2 1419532591360\n",
      "3 1419532591360\n",
      "4 1419532591360\n",
      "0 1419532595968\n",
      "1 1419532650496\n",
      "2 1419532591488\n",
      "3 1419532598592\n",
      "4 1419532654976\n"
     ]
    }
   ],
   "source": [
    "maximum_n = 5\n",
    "\n",
    "result = [[]] * maximum_n\n",
    "\n",
    "for count, element in enumerate(result):\n",
    "    print(count, id(element))\n",
    "maximum_n = 5\n",
    "\n",
    "result = [[] for _ in range(maximum_n)]\n",
    "\n",
    "for count, element in enumerate(result):\n",
    "    print(count, id(element))\n",
    "\n",
    "# This above said is shown via the IDs of the sublists\n",
    "# Using the first code, the IDs of the 5 sublists are the same, showing they are actually the same object\n",
    "# However, by using list comprehension, the 5 sublists created in the larger list are distinct objects with different IDs"
   ]
  },
  {
   "cell_type": "code",
   "execution_count": 73,
   "id": "ea8eb1b4-2729-4dd7-8fc6-d24900a8e016",
   "metadata": {},
   "outputs": [
    {
     "data": {
      "text/plain": [
       "[[1, 1, 1], [2, 4, 8], [3, 9, 27], [4, 16, 64], [5, 25, 125]]"
      ]
     },
     "execution_count": 73,
     "metadata": {},
     "output_type": "execute_result"
    }
   ],
   "source": [
    "# To fix this issue, we need to make sure that the 5 empty lists are distinct objects stored in memory\n",
    "# As shown in the above code, list comprehension is an efficient way to do so\n",
    "# This way, 'result[n - 1].append()' appends to only 1 of the sublists at a time\n",
    "\n",
    "maximum_n = 5\n",
    "result = [[] for _ in range(maximum_n)]          # '_' is used as a throwaway variable, since its value is not important\n",
    "\n",
    "for n in range(1, maximum_n + 1):\n",
    "    result[n - 1].append(n)\n",
    "    result[n - 1].append(n**2)\n",
    "    result[n - 1].append(n**3)\n",
    "\n",
    "result"
   ]
  },
  {
   "cell_type": "code",
   "execution_count": 74,
   "id": "c4c83865-7940-4272-b903-507aa467643c",
   "metadata": {},
   "outputs": [
    {
     "name": "stdout",
     "output_type": "stream",
     "text": [
      "0 1419531889152\n",
      "1 1419532653120\n",
      "2 1419532588544\n",
      "3 1419532650112\n",
      "4 1419532596352\n"
     ]
    },
    {
     "data": {
      "text/plain": [
       "[[1, 1, 1], [2, 4, 8], [3, 9, 27], [4, 16, 64], [5, 25, 125]]"
      ]
     },
     "execution_count": 74,
     "metadata": {},
     "output_type": "execute_result"
    }
   ],
   "source": [
    "# Another way to create distinct sublists is using a for loop\n",
    "\n",
    "maximum_n = 5\n",
    "result = []\n",
    "for sublist in range(maximum_n):\n",
    "    result.append([])\n",
    "\n",
    "for n in range(1, maximum_n + 1):\n",
    "    result[n - 1].append(n)\n",
    "    result[n - 1].append(n**2)\n",
    "    result[n - 1].append(n**3)\n",
    "\n",
    "# To show that the sublists are distinct\n",
    "for count, element in enumerate(result):\n",
    "    print(count, id(element))\n",
    "\n",
    "result"
   ]
  },
  {
   "cell_type": "markdown",
   "id": "feea3197-500a-4c91-8724-8edf0e85b129",
   "metadata": {},
   "source": [
    "**Exercise 3 (Time profiling)**"
   ]
  },
  {
   "cell_type": "markdown",
   "id": "4543f2be-8a2d-4637-9101-663d2fb28287",
   "metadata": {},
   "source": [
    "**#1**"
   ]
  },
  {
   "cell_type": "code",
   "execution_count": 103,
   "id": "2773e1e1-a2f3-4bec-a408-e5198fd89951",
   "metadata": {},
   "outputs": [
    {
     "name": "stdout",
     "output_type": "stream",
     "text": [
      "724 ns ± 79.8 ns per loop (mean ± std. dev. of 7 runs, 1,000,000 loops each)\n"
     ]
    }
   ],
   "source": [
    "%%timeit\n",
    "maximum_n = 11\n",
    "squares_list = [0]*maximum_n\n",
    "for n in range(maximum_n):\n",
    "    squares_list[n] = n**2"
   ]
  },
  {
   "cell_type": "code",
   "execution_count": 131,
   "id": "72c70c13-c069-455d-bf19-ddef943cc030",
   "metadata": {},
   "outputs": [
    {
     "name": "stdout",
     "output_type": "stream",
     "text": [
      "937 ns ± 110 ns per loop (mean ± std. dev. of 7 runs, 1,000,000 loops each)\n"
     ]
    }
   ],
   "source": [
    "%%timeit\n",
    "maximum_n = 11\n",
    "squares_list = [0]*maximum_n\n",
    "n = 0\n",
    "while n < maximum_n:\n",
    "    squares_list[n] = n**2\n",
    "    n += 1"
   ]
  },
  {
   "cell_type": "markdown",
   "id": "28c14203-e234-4aab-b004-26063c6f3940",
   "metadata": {},
   "source": [
    "**#2**"
   ]
  },
  {
   "cell_type": "code",
   "execution_count": 104,
   "id": "1b8784cf-d647-4a7d-8cd1-b4142648dc77",
   "metadata": {},
   "outputs": [
    {
     "name": "stdout",
     "output_type": "stream",
     "text": [
      "829 ns ± 89.2 ns per loop (mean ± std. dev. of 7 runs, 1,000,000 loops each)\n"
     ]
    }
   ],
   "source": [
    "%%timeit\n",
    "maximum_n = 11\n",
    "squares_list = [0]*maximum_n\n",
    "for n in range(maximum_n):\n",
    "    squares_list[n] = n**2"
   ]
  },
  {
   "cell_type": "code",
   "execution_count": 93,
   "id": "b42dfe61-9965-4506-9f7f-719be0673f4b",
   "metadata": {},
   "outputs": [
    {
     "name": "stdout",
     "output_type": "stream",
     "text": [
      "700 ns ± 103 ns per loop (mean ± std. dev. of 7 runs, 1,000,000 loops each)\n"
     ]
    }
   ],
   "source": [
    "%%timeit\n",
    "maximum_n = 11\n",
    "squares_list = [n**2 for n in range(maximum_n)]"
   ]
  },
  {
   "cell_type": "markdown",
   "id": "d3c2f26b-58be-4d45-87d7-53754b7d4a6f",
   "metadata": {},
   "source": [
    "**#3**"
   ]
  },
  {
   "cell_type": "code",
   "execution_count": 105,
   "id": "03806e4d-e566-42f7-a6ce-2c49ccaffb33",
   "metadata": {},
   "outputs": [
    {
     "name": "stdout",
     "output_type": "stream",
     "text": [
      "937 ns ± 124 ns per loop (mean ± std. dev. of 7 runs, 1,000,000 loops each)\n"
     ]
    }
   ],
   "source": [
    "%%timeit\n",
    "maximum_n = 11\n",
    "squares_list = []\n",
    "for n in range(maximum_n):\n",
    "    squares_list.append(n**2)"
   ]
  },
  {
   "cell_type": "code",
   "execution_count": 114,
   "id": "afe49564-b4a6-41d5-8055-da47e38c48f4",
   "metadata": {},
   "outputs": [
    {
     "name": "stdout",
     "output_type": "stream",
     "text": [
      "1.52 μs ± 164 ns per loop (mean ± std. dev. of 7 runs, 1,000,000 loops each)\n"
     ]
    }
   ],
   "source": [
    "%%timeit\n",
    "maximum_n = 11\n",
    "squares_list = []\n",
    "for n in range(maximum_n):\n",
    "    squares_list += [n**2]"
   ]
  },
  {
   "cell_type": "markdown",
   "id": "c9eedc63-b11c-47da-b893-b5ac48f1f206",
   "metadata": {},
   "source": [
    "**#4**"
   ]
  },
  {
   "cell_type": "code",
   "execution_count": 106,
   "id": "5222ee2b-51ea-4d70-b2fc-d9a6d4bd3495",
   "metadata": {},
   "outputs": [
    {
     "name": "stdout",
     "output_type": "stream",
     "text": [
      "920 ns ± 120 ns per loop (mean ± std. dev. of 7 runs, 1,000,000 loops each)\n"
     ]
    }
   ],
   "source": [
    "%%timeit\n",
    "maximum_n = 11\n",
    "squares_list = []\n",
    "for n in range(maximum_n):\n",
    "    squares_list.append(n**2)"
   ]
  },
  {
   "cell_type": "code",
   "execution_count": 126,
   "id": "63a67879-0ec0-4e48-9071-c39b8951170d",
   "metadata": {},
   "outputs": [
    {
     "name": "stdout",
     "output_type": "stream",
     "text": [
      "26.4 μs ± 1.49 μs per loop (mean ± std. dev. of 7 runs, 10,000 loops each)\n"
     ]
    }
   ],
   "source": [
    "%%timeit\n",
    "maximum_n = 11\n",
    "squares_array = np.array([])\n",
    "for n in range(maximum_n):\n",
    "    squares_array = np.append(squares_array, n**2)"
   ]
  },
  {
   "cell_type": "markdown",
   "id": "b9b4fae8-7b1c-48d4-9e49-67fc248d9505",
   "metadata": {},
   "source": [
    "**#5**"
   ]
  },
  {
   "cell_type": "code",
   "execution_count": 136,
   "id": "cf660395-72bc-472f-a456-09a953c7bec8",
   "metadata": {},
   "outputs": [
    {
     "name": "stdout",
     "output_type": "stream",
     "text": [
      "1.11 μs ± 127 ns per loop (mean ± std. dev. of 7 runs, 100,000 loops each)\n"
     ]
    }
   ],
   "source": [
    "%%timeit\n",
    "maximum_n = 11\n",
    "n = np.arange(maximum_n)\n",
    "squares = n**2\n",
    "squares_list = squares.tolist()"
   ]
  },
  {
   "cell_type": "code",
   "execution_count": 127,
   "id": "d54a0b70-8805-4b10-86ba-018e57fa144b",
   "metadata": {},
   "outputs": [
    {
     "name": "stdout",
     "output_type": "stream",
     "text": [
      "663 ns ± 58 ns per loop (mean ± std. dev. of 7 runs, 1,000,000 loops each)\n"
     ]
    }
   ],
   "source": [
    "%%timeit\n",
    "maximum_n = 11\n",
    "squares_list = [n**2 for n in range(maximum_n)]"
   ]
  }
 ],
 "metadata": {
  "kernelspec": {
   "display_name": "Python 3 (ipykernel)",
   "language": "python",
   "name": "python3"
  },
  "language_info": {
   "codemirror_mode": {
    "name": "ipython",
    "version": 3
   },
   "file_extension": ".py",
   "mimetype": "text/x-python",
   "name": "python",
   "nbconvert_exporter": "python",
   "pygments_lexer": "ipython3",
   "version": "3.12.3"
  },
  "toc": {
   "base_numbering": 1,
   "nav_menu": {},
   "number_sections": true,
   "sideBar": true,
   "skip_h1_title": false,
   "title_cell": "Table of Contents",
   "title_sidebar": "Contents",
   "toc_cell": false,
   "toc_position": {},
   "toc_section_display": true,
   "toc_window_display": false
  },
  "vscode": {
   "interpreter": {
    "hash": "31f2aee4e71d21fbe5cf8b01ff0e069b9275f58929596ceb00d14d90e3e16cd6"
   }
  }
 },
 "nbformat": 4,
 "nbformat_minor": 5
}
