{
 "cells": [
  {
   "attachments": {},
   "cell_type": "markdown",
   "id": "123456",
   "metadata": {},
   "source": [
    "<div style=\"text-align:left;font-size:2em\"><span style=\"font-weight:bolder;font-size:1.25em\">SP2273 | Learning Portfolio</span><br><br><span style=\"font-weight:bold;color:darkred\">Loops (Good) Exercises</span></div>"
   ]
  },
  {
   "cell_type": "markdown",
   "id": "6909e7c9-4086-450e-965c-be3e83d99862",
   "metadata": {},
   "source": [
    "**Exercise 1 (Make me an odd list)**"
   ]
  },
  {
   "cell_type": "code",
   "execution_count": 10,
   "id": "0e36e5c4-2624-4823-b0ae-09ba50e4672c",
   "metadata": {},
   "outputs": [
    {
     "data": {
      "text/plain": [
       "[1, 9, 25, 49, 81]"
      ]
     },
     "execution_count": 10,
     "metadata": {},
     "output_type": "execute_result"
    }
   ],
   "source": [
    "x = []\n",
    "for i in range(10):\n",
    "    if i%2 == 0:\n",
    "        continue\n",
    "    square = i**2\n",
    "    x.append(square)\n",
    "x"
   ]
  },
  {
   "cell_type": "markdown",
   "id": "445b8ea8-7f37-478d-9dbf-da21efbe99d5",
   "metadata": {},
   "source": [
    "**Exercise 2 (Make me another odd list)**"
   ]
  },
  {
   "cell_type": "code",
   "execution_count": 11,
   "id": "7964a1e7-73a2-411c-a787-e4fd942419e2",
   "metadata": {},
   "outputs": [
    {
     "data": {
      "text/plain": [
       "[1, 9, 25, 49, 81]"
      ]
     },
     "execution_count": 11,
     "metadata": {},
     "output_type": "execute_result"
    }
   ],
   "source": [
    "[number**2 for number in range (10) if number%2 == 1]"
   ]
  },
  {
   "cell_type": "markdown",
   "id": "4e4c8527-9854-4907-b0a2-607747eebb74",
   "metadata": {},
   "source": [
    "**Exercise 3 (Time me!)**"
   ]
  },
  {
   "cell_type": "code",
   "execution_count": 8,
   "id": "a64121ad-ecdc-45ed-af69-56ff75aa764a",
   "metadata": {},
   "outputs": [
    {
     "name": "stdout",
     "output_type": "stream",
     "text": [
      "1.1 μs ± 79 ns per loop (mean ± std. dev. of 7 runs, 1,000,000 loops each)\n"
     ]
    }
   ],
   "source": [
    "%%timeit\n",
    "x = []\n",
    "for i in range(10):\n",
    "    if i%2 == 0:\n",
    "        continue\n",
    "    square = i**2\n",
    "    x.append(square)\n",
    "x"
   ]
  },
  {
   "cell_type": "code",
   "execution_count": 9,
   "id": "0277261a-6b4a-40d7-a351-d3ce7a77cf78",
   "metadata": {},
   "outputs": [
    {
     "name": "stdout",
     "output_type": "stream",
     "text": [
      "1.06 μs ± 60.4 ns per loop (mean ± std. dev. of 7 runs, 1,000,000 loops each)\n"
     ]
    }
   ],
   "source": [
    "%%timeit\n",
    "[number**2 for number in range (10) if number%2 == 1]"
   ]
  },
  {
   "cell_type": "markdown",
   "id": "163b6e17-8087-4b5e-81b9-e6950d99a2a5",
   "metadata": {},
   "source": [
    "The 2nd method (using list comprehension) is faster, although not by much."
   ]
  },
  {
   "cell_type": "markdown",
   "id": "3bbca294-3d26-41c9-a518-3d9a97fbb5bb",
   "metadata": {},
   "source": [
    "**Exercise 4 (A problem of decay)**"
   ]
  },
  {
   "cell_type": "code",
   "execution_count": 14,
   "id": "c46adffc-4f52-4fbf-a565-37d89ff35a34",
   "metadata": {},
   "outputs": [
    {
     "name": "stdout",
     "output_type": "stream",
     "text": [
      "The sample takes 14 years to reduce to half its original amount.\n"
     ]
    }
   ],
   "source": [
    "units = 100\n",
    "year = 0\n",
    "while units > 50:\n",
    "    units *= 0.95\n",
    "    year += 1       # Adds 1 year every time the sample decays by 5%, including the year that brings it to below 50 units\n",
    "print(f'The sample takes {year} years to reduce to half its original amount.')"
   ]
  },
  {
   "cell_type": "markdown",
   "id": "b3c3e27d-ded3-4ed4-a634-e7d3a6fdc93a",
   "metadata": {},
   "source": [
    "**Exercise 5 (Changes in CO<sub>2)**"
   ]
  },
  {
   "cell_type": "code",
   "execution_count": 99,
   "id": "2b19f7a1-cf65-4d37-adad-d4cf20485177",
   "metadata": {},
   "outputs": [],
   "source": [
    "co2_data = [\n",
    "    (2000, 369.55), (2001, 371.14), (2002, 373.28), \n",
    "    (2003, 375.80), (2004, 377.52), (2005, 379.80), \n",
    "    (2006, 381.90), (2007, 383.79), (2008, 385.60), \n",
    "    (2009, 387.43), (2010, 389.90), (2011, 391.65), \n",
    "    (2012, 393.85), (2013, 396.52), (2014, 398.65),\n",
    "    (2015, 400.83), (2016, 404.24), (2017, 406.55), \n",
    "    (2018, 408.52), (2019, 411.44), (2020, 414.24)\n",
    "] # List of tuples, meaning the elements within each tuple cannot be changed"
   ]
  },
  {
   "cell_type": "code",
   "execution_count": 101,
   "id": "b799e043-1b59-42fe-af6a-e2507f74cc2a",
   "metadata": {},
   "outputs": [
    {
     "name": "stdout",
     "output_type": "stream",
     "text": [
      "From 2015 to 2016, there was an increase in the concentration of CO₂ of 3.41 ppm.\n"
     ]
    }
   ],
   "source": [
    "i = 0\n",
    "for i in range(len(co2_data)-1):                   # Used range(len(co2_data)) instead of range(1, len(co2_data)) as i+1 would exceed the range\n",
    "    if (co2_data[i+1][1] - co2_data[i][1]) > 3:\n",
    "        print(f'From {co2_data[i][0]} to {co2_data[i+1][0]}, there was an increase in the concentration of CO\\u2082 of {(co2_data[i+1][1] - co2_data[i][1]):.2f} ppm.')\n",
    "    i += 1"
   ]
  },
  {
   "cell_type": "markdown",
   "id": "7f7089ff-6930-41ad-82d8-a86d3450a335",
   "metadata": {},
   "source": [
    "<div style=\"text-align:left;font-size:2em\"><span style=\"font-weight:bolder;font-size:1.25em\">SP2273 | Learning Portfolio</span><br><br><span style=\"font-weight:bold;color:darkred\">Loops (Nice) Exercises</span></div>"
   ]
  },
  {
   "cell_type": "markdown",
   "id": "a285185f-d047-47a1-b588-0879de743e33",
   "metadata": {},
   "source": [
    "**Exercise 1 (Changing a list)**"
   ]
  },
  {
   "cell_type": "code",
   "execution_count": 29,
   "id": "f901b0ff-4ace-4f6e-b55c-83b5f0f9dc4f",
   "metadata": {},
   "outputs": [],
   "source": [
    "fruits = [\"apple\", \"banana\", \"jackfruit\",\n",
    "          \"pineapple\", \"papaya\", \"watermelons\",\n",
    "          \"peaches\", \"durian\",  \"mangoes\",\n",
    "          \"strawberries\", \"passionfruit\"\n",
    "          ]"
   ]
  },
  {
   "cell_type": "code",
   "execution_count": 30,
   "id": "96126e39-ed0d-4583-8a6e-ae9dce10c28f",
   "metadata": {},
   "outputs": [
    {
     "data": {
      "text/plain": [
       "['apple',\n",
       " 'banana',\n",
       " 'jackfruit',\n",
       " 'papaya',\n",
       " 'watermelons',\n",
       " 'durian',\n",
       " 'mangoes',\n",
       " 'strawberries']"
      ]
     },
     "execution_count": 30,
     "metadata": {},
     "output_type": "execute_result"
    }
   ],
   "source": [
    "for fruit in fruits:\n",
    "    if fruit[0] == \"p\":\n",
    "        fruits.remove(fruit)\n",
    "fruits\n",
    "\n",
    "# A for loop used with a list works by iterating over each element in a list\n",
    "# The important factor is that it starts with the first element [0], then moves on to the next [-1], and so on, until it reaches [-1]\n",
    "# When our for loop removes an element from the list, it changes the index of all the remaining elements in the list, subtracting them by 1 each\n",
    "# When the for loop reaches fruits[3]='pineapple', it removes it from the list\n",
    "# After this change, 'papaya' goes from fruits[4] to fruits[3], and so on for the other fruits\n",
    "# However, the for loop now moves on to fruits[4], effectively skipping 'papaya'\n",
    "# This means the function will not remove any fruits starting with 'p' whenever there are 2 in a row\n",
    "# Theoretically, this function would work if there were no consecutive fruits starting with p, or if it were repeated many times\n",
    "# However, it is still fundamentally flawed\n",
    "\n",
    "# Note: I did not know we could even index strings to obtain individual characters before this"
   ]
  },
  {
   "cell_type": "code",
   "execution_count": 31,
   "id": "fb938791-071f-4fb1-93b8-0f56b9f13ec3",
   "metadata": {},
   "outputs": [
    {
     "data": {
      "text/plain": [
       "['apple',\n",
       " 'banana',\n",
       " 'jackfruit',\n",
       " 'watermelons',\n",
       " 'durian',\n",
       " 'mangoes',\n",
       " 'strawberries']"
      ]
     },
     "execution_count": 31,
     "metadata": {},
     "output_type": "execute_result"
    }
   ],
   "source": [
    "fruits = [\"apple\", \"banana\", \"jackfruit\",\n",
    "          \"pineapple\", \"papaya\", \"watermelons\",\n",
    "          \"peaches\", \"durian\",  \"mangoes\",\n",
    "          \"strawberries\", \"passionfruit\"\n",
    "          ]\n",
    "\n",
    "copy_of_fruits = fruits.copy()\n",
    "\n",
    "# Not that we are looping(iterating) over the copy\n",
    "for fruit in copy_of_fruits:\n",
    "    if fruit[0] == \"p\":\n",
    "        fruits.remove(fruit)\n",
    "\n",
    "fruits\n",
    "\n",
    "# In this solution, we are still removing from the original list, but iterating over a copy of the original list\n",
    "# Since the copied list remains unchanged through all the iterations, the index of the elements are not affected\n",
    "# Hence, the for loop is able to iterate through ALL the elements in the copied list"
   ]
  },
  {
   "cell_type": "code",
   "execution_count": 32,
   "id": "733410c3-be83-43d6-8c5b-85f8bd239f5a",
   "metadata": {},
   "outputs": [
    {
     "name": "stdout",
     "output_type": "stream",
     "text": [
      "['apple', 'banana', 'jackfruit', 'watermelons', 'durian', 'mangoes', 'strawberries']\n",
      "['apple', 'banana', 'jackfruit', 'pineapple', 'papaya', 'watermelons', 'peaches', 'durian', 'mangoes', 'strawberries', 'passionfruit']\n"
     ]
    }
   ],
   "source": [
    "fruits = [\"apple\", \"banana\", \"jackfruit\",\n",
    "          \"pineapple\", \"papaya\", \"watermelons\",\n",
    "          \"peaches\", \"durian\",  \"mangoes\",\n",
    "          \"strawberries\", \"passionfruit\"\n",
    "          ]\n",
    "\n",
    "print([fruit for fruit in fruits if fruit[0] != \"p\"])\n",
    "print(fruits)\n",
    "\n",
    "# This solution uses list comprehension to form a new list with fruits that do not start with \"p\"\n",
    "# Since the original list remains unchanged, the for loop in the list comprehension is able to iterate through ALL the elements of the original list"
   ]
  },
  {
   "cell_type": "markdown",
   "id": "d0b9acb0-2b3f-485b-9c93-c5580fd79e3b",
   "metadata": {},
   "source": [
    "**Exercise 2 (A list of powers)**"
   ]
  },
  {
   "cell_type": "code",
   "execution_count": null,
   "id": "bd58bbb5-6624-42db-a26e-ce411ea29af9",
   "metadata": {},
   "outputs": [],
   "source": []
  },
  {
   "cell_type": "markdown",
   "id": "feea3197-500a-4c91-8724-8edf0e85b129",
   "metadata": {},
   "source": [
    "**Exercise 3 (Time profiling)**"
   ]
  },
  {
   "cell_type": "code",
   "execution_count": null,
   "id": "6db360b1-a9c0-45ea-a8e3-076f79313770",
   "metadata": {},
   "outputs": [],
   "source": []
  },
  {
   "cell_type": "code",
   "execution_count": null,
   "id": "651d072b-d5b8-4d15-9ca3-1e906ed39e0e",
   "metadata": {},
   "outputs": [],
   "source": []
  }
 ],
 "metadata": {
  "kernelspec": {
   "display_name": "Python 3 (ipykernel)",
   "language": "python",
   "name": "python3"
  },
  "language_info": {
   "codemirror_mode": {
    "name": "ipython",
    "version": 3
   },
   "file_extension": ".py",
   "mimetype": "text/x-python",
   "name": "python",
   "nbconvert_exporter": "python",
   "pygments_lexer": "ipython3",
   "version": "3.12.3"
  },
  "toc": {
   "base_numbering": 1,
   "nav_menu": {},
   "number_sections": true,
   "sideBar": true,
   "skip_h1_title": false,
   "title_cell": "Table of Contents",
   "title_sidebar": "Contents",
   "toc_cell": false,
   "toc_position": {},
   "toc_section_display": true,
   "toc_window_display": false
  },
  "vscode": {
   "interpreter": {
    "hash": "31f2aee4e71d21fbe5cf8b01ff0e069b9275f58929596ceb00d14d90e3e16cd6"
   }
  }
 },
 "nbformat": 4,
 "nbformat_minor": 5
}
