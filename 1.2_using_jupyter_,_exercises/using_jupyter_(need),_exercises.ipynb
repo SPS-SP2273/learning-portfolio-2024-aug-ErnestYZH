{
 "cells": [
  {
   "attachments": {},
   "cell_type": "markdown",
   "id": "123456",
   "metadata": {},
   "source": [
    "<div style=\"text-align:left;font-size:2em\"><span style=\"font-weight:bolder;font-size:1.25em\">SP2273 | Learning Portfolio</span><br><br><span style=\"font-weight:bold;color:darkred\">Using Jupyter (Need), Exercises</span></div>"
   ]
  },
  {
   "cell_type": "markdown",
   "id": "ab591d5a-9ed6-4706-9ccc-238da0450f55",
   "metadata": {},
   "source": [
    "**Exercise 1 (Put it in Markdown)**"
   ]
  },
  {
   "attachments": {},
   "cell_type": "markdown",
   "id": "d7e1415b",
   "metadata": {},
   "source": [
    "# **1 Quadratic Equations**"
   ]
  },
  {
   "attachments": {},
   "cell_type": "markdown",
   "id": "5c21b064",
   "metadata": {},
   "source": [
    "## **Introduction**"
   ]
  },
  {
   "cell_type": "markdown",
   "id": "03cd97f1-6309-425d-ac57-934c3faee2d4",
   "metadata": {},
   "source": [
    "![](https://upload.wikimedia.org/wikipedia/commons/thumb/f/f8/Polynomialdeg2.svg/1920px-Polynomialdeg2.svg.png)\n",
    "\n",
    "*(Image from the [Wikipedia page on Quadratic equations](https://en.wikipedia.org/wiki/Quadratic_equation))*\n",
    "\n",
    "The general form of a quadratic equation is:\n",
    "$$\n",
    "ax^2 + bx + c = 0\n",
    "$$"
   ]
  },
  {
   "attachments": {},
   "cell_type": "markdown",
   "id": "f406f381",
   "metadata": {},
   "source": [
    "## **Solutions**"
   ]
  },
  {
   "cell_type": "markdown",
   "id": "edf56456-2f26-47c0-b5f9-0f96f75d529a",
   "metadata": {},
   "source": [
    "Provided $a \\ne 0$, we can use an elementary algebraic method called [completing the square](https://en.wikipedia.org/wiki/Completing_the_square) to show that a quadratic equation has the following solution:\n",
    "\n",
    "$$\n",
    "x = \\dfrac{-b \\pm \\sqrt{b^2-4ac}}{2a}\n",
    "$$"
   ]
  },
  {
   "attachments": {},
   "cell_type": "markdown",
   "id": "7435b439",
   "metadata": {},
   "source": [
    "## **Discriminant**"
   ]
  },
  {
   "cell_type": "markdown",
   "id": "037024f4-91e1-4364-9ff9-98b93f7e2a7a",
   "metadata": {},
   "source": [
    "The quantity $\\Delta = b^2-4ac$ is called the **discriminant** of the equation and decides the nature of its solutions. The table below shows the various possibilities.\n",
    "\n",
    "| Discriminant           \t| Roots                                \t|\n",
    "| :--: | :--|\n",
    "| $\\Delta = b^2-4ac = 0$ \t| A single solution of $-b/(2a)$       \t|\n",
    "| $\\Delta = b^2-4ac > 0$ \t| Two distinct solutions               \t|\n",
    "| $\\Delta = b^2-4ac < 0$ \t| No real solutions; both are complex. \t|"
   ]
  },
  {
   "cell_type": "markdown",
   "id": "e32dd0f4-c731-479b-91db-3b13056003bb",
   "metadata": {},
   "source": [
    "**Exercise 2 (In Your Own Words)**"
   ]
  },
  {
   "cell_type": "markdown",
   "id": "19f36094-f553-4d19-88bd-1ecfc43ef430",
   "metadata": {},
   "source": [
    "1. A Git **repository** is a folder that keeps track of all the changes made in a project."
   ]
  },
  {
   "cell_type": "markdown",
   "id": "7d069b8c-970a-4eec-af73-7e6febc0fb10",
   "metadata": {},
   "source": [
    "2. Git keeps track of **changes** in the files in our repository."
   ]
  },
  {
   "cell_type": "markdown",
   "id": "4296c663-6e06-4d68-a21b-2d64052a5cff",
   "metadata": {},
   "source": [
    "3. A **commit** specifies what file changes you want to be recorded and attaches a brief description of these changes."
   ]
  },
  {
   "cell_type": "markdown",
   "id": "1187ef3f-feb3-49cc-9ddc-728daf37f741",
   "metadata": {},
   "source": [
    "4. A **push** is an action that uploads the changes we committed from locally on our device to the server."
   ]
  },
  {
   "cell_type": "markdown",
   "id": "9c30f0cb-d842-4bc7-a56d-9e483a5d0083",
   "metadata": {},
   "source": [
    "5. A **pull** is an action that downloads the changes we committed from the server onto our local machine."
   ]
  },
  {
   "cell_type": "markdown",
   "id": "e1006640-5b28-4b34-b161-22d131dee3d1",
   "metadata": {},
   "source": [
    "6. **GitHub** is an online server that stores changes in the cloud. **GitHub Desktop** is essentially a local copy of GitHub on our machine. Commits are pushed from GitHub Desktop to GitHub, and pulled from GitHub to GitHub Desktop."
   ]
  },
  {
   "cell_type": "markdown",
   "id": "a577b0cd-d44c-4eeb-9654-9ea54a03156f",
   "metadata": {},
   "source": [
    "**Exercise 3 (A Matter of Statistics)**"
   ]
  },
  {
   "cell_type": "markdown",
   "id": "455662da-5a70-4b2d-b86f-c2a6a0f055ca",
   "metadata": {},
   "source": [
    "$$\n",
    "\\mu = \\dfrac{1}{n} \\sum_{i=1}^{n} x_i\n",
    "$$"
   ]
  },
  {
   "cell_type": "markdown",
   "id": "7ff7606e-c0a5-4616-882a-cff788830c7b",
   "metadata": {},
   "source": [
    "$$\n",
    "\\sigma = \\sqrt{\\dfrac{1}{n} \\sum_{i=1}^{n} (x_i - \\mu)^2}\n",
    "$$"
   ]
  },
  {
   "cell_type": "markdown",
   "id": "1d0c2308-007a-49a9-b61e-648de1bd541e",
   "metadata": {},
   "source": [
    "$$\n",
    "r = \\dfrac{\\sum_{i=1}^{n} (x_i - \\mu_X)(y_i - \\mu_Y)}{\\sqrt{\\sum_{i=1}^{n} (x_i - \\mu_X)^2 \\sum_{i=1}^{n} (y_i - \\mu_Y)^2}}\n",
    "$$"
   ]
  }
 ],
 "metadata": {
  "kernelspec": {
   "display_name": "Python 3 (ipykernel)",
   "language": "python",
   "name": "python3"
  },
  "language_info": {
   "codemirror_mode": {
    "name": "ipython",
    "version": 3
   },
   "file_extension": ".py",
   "mimetype": "text/x-python",
   "name": "python",
   "nbconvert_exporter": "python",
   "pygments_lexer": "ipython3",
   "version": "3.12.3"
  },
  "toc": {
   "base_numbering": 1,
   "nav_menu": {},
   "number_sections": true,
   "sideBar": true,
   "skip_h1_title": false,
   "title_cell": "Table of Contents",
   "title_sidebar": "Contents",
   "toc_cell": false,
   "toc_position": {},
   "toc_section_display": true,
   "toc_window_display": false
  },
  "vscode": {
   "interpreter": {
    "hash": "31f2aee4e71d21fbe5cf8b01ff0e069b9275f58929596ceb00d14d90e3e16cd6"
   }
  }
 },
 "nbformat": 4,
 "nbformat_minor": 5
}
